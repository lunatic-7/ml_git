{
 "cells": [
  {
   "cell_type": "markdown",
   "metadata": {},
   "source": [
    "# 100 numpy exercises (Optional)\n",
    "\n",
    "Source: https://github.com/rougier/numpy-100\n"
   ]
  },
  {
   "cell_type": "markdown",
   "metadata": {},
   "source": [
    "#### How to run this notebook\n",
    "\n",
    "The recommended way to run this notebook is to click the \"Run\" button at the top of this page, and select \"Run on Binder\". This will run the notebook on mybinder.org, a free online service for running Jupyter notebooks.\n",
    "\n",
    "#### How to get help\n",
    "\n",
    "If you are stuck, you can ask for help on the community forum: https://jovian.ml/forum/t/100-numpy-exercises-hints-discussions-help/10561 . You can get help with errors, ask for hints, and share your solutions with others.\n",
    "\n",
    "If you're new to Numpy, check out this notebook for a quick tutorial: https://jovian.ml/aakashns/python-numerical-computing-with-numpy\n",
    "\n",
    "\n",
    "#### Saving your work\n",
    "\n",
    "Remember to save a snapshot of your work from time to time using to your Jovian.ml account."
   ]
  },
  {
   "cell_type": "code",
   "execution_count": 1,
   "metadata": {},
   "outputs": [],
   "source": [
    "!pip install jovian --upgrade --quiet"
   ]
  },
  {
   "cell_type": "code",
   "execution_count": 2,
   "metadata": {},
   "outputs": [],
   "source": [
    "import jovian"
   ]
  },
  {
   "cell_type": "code",
   "execution_count": 3,
   "metadata": {},
   "outputs": [
    {
     "data": {
      "application/javascript": [
       "window.require && require([\"base/js/namespace\"],function(Jupyter){Jupyter.notebook.save_checkpoint()})"
      ],
      "text/plain": [
       "<IPython.core.display.Javascript object>"
      ]
     },
     "metadata": {},
     "output_type": "display_data"
    },
    {
     "name": "stdout",
     "output_type": "stream",
     "text": [
      "[jovian] Please enter your API key ( from https://jovian.com/ ):\u001b[0m\n",
      "API KEY: ········\n",
      "[jovian] Creating a new project \"wasif1607/100-numpy-exercises\"\u001b[0m\n",
      "[jovian] Committed successfully! https://jovian.com/wasif1607/100-numpy-exercises\u001b[0m\n"
     ]
    },
    {
     "data": {
      "text/plain": [
       "'https://jovian.com/wasif1607/100-numpy-exercises'"
      ]
     },
     "execution_count": 3,
     "metadata": {},
     "output_type": "execute_result"
    }
   ],
   "source": [
    "jovian.commit(project='100-numpy-exercises')"
   ]
  },
  {
   "cell_type": "markdown",
   "metadata": {},
   "source": [
    "`jovian.commit` uploads the notebook to your Jovian.ml account, captures the Python environment and creates a shareable link for your notebook as shown above. You can use this link to share your work and let anyone (including you) run your notebooks and reproduce your work. Learn more: https://jovian.ml/docs/\n"
   ]
  },
  {
   "cell_type": "code",
   "execution_count": 1,
   "metadata": {},
   "outputs": [
    {
     "name": "stdout",
     "output_type": "stream",
     "text": [
      "Requirement already satisfied: numpy in d:\\conda7\\envs\\100-numpy-exercises\\lib\\site-packages (1.24.3)\n",
      "Collecting numpy\n",
      "  Downloading numpy-1.25.0-cp311-cp311-win_amd64.whl (15.0 MB)\n",
      "                                              0.0/15.0 MB ? eta -:--:--\n",
      "                                             0.0/15.0 MB 991.0 kB/s eta 0:00:16\n",
      "                                              0.1/15.0 MB 1.0 MB/s eta 0:00:15\n",
      "                                              0.2/15.0 MB 1.1 MB/s eta 0:00:15\n",
      "                                              0.2/15.0 MB 1.3 MB/s eta 0:00:12\n",
      "                                              0.3/15.0 MB 1.3 MB/s eta 0:00:12\n",
      "     -                                        0.4/15.0 MB 1.3 MB/s eta 0:00:11\n",
      "     -                                        0.5/15.0 MB 1.3 MB/s eta 0:00:11\n",
      "     -                                        0.5/15.0 MB 1.3 MB/s eta 0:00:12\n",
      "     -                                        0.5/15.0 MB 1.2 MB/s eta 0:00:13\n",
      "     -                                        0.5/15.0 MB 1.2 MB/s eta 0:00:13\n",
      "     -                                        0.5/15.0 MB 1.2 MB/s eta 0:00:13\n",
      "     -                                        0.7/15.0 MB 1.1 MB/s eta 0:00:13\n",
      "     -                                        0.7/15.0 MB 1.1 MB/s eta 0:00:14\n",
      "     -                                        0.7/15.0 MB 1.1 MB/s eta 0:00:14\n",
      "     --                                       0.8/15.0 MB 1.1 MB/s eta 0:00:14\n",
      "     --                                       0.8/15.0 MB 1.1 MB/s eta 0:00:14\n",
      "     --                                       0.9/15.0 MB 1.1 MB/s eta 0:00:14\n",
      "     --                                       0.9/15.0 MB 1.1 MB/s eta 0:00:14\n",
      "     --                                       1.0/15.0 MB 1.1 MB/s eta 0:00:14\n",
      "     --                                       1.0/15.0 MB 1.0 MB/s eta 0:00:14\n",
      "     --                                       1.1/15.0 MB 1.1 MB/s eta 0:00:13\n",
      "     --                                       1.1/15.0 MB 1.1 MB/s eta 0:00:13\n",
      "     --                                       1.1/15.0 MB 1.1 MB/s eta 0:00:13\n",
      "     --                                       1.1/15.0 MB 1.1 MB/s eta 0:00:13\n",
      "     --                                       1.1/15.0 MB 1.1 MB/s eta 0:00:13\n",
      "     ---                                      1.3/15.0 MB 1.1 MB/s eta 0:00:14\n",
      "     ---                                      1.3/15.0 MB 1.1 MB/s eta 0:00:14\n",
      "     ---                                      1.3/15.0 MB 1.1 MB/s eta 0:00:14\n",
      "     ---                                      1.3/15.0 MB 1.1 MB/s eta 0:00:14\n",
      "     ---                                      1.3/15.0 MB 1.1 MB/s eta 0:00:14\n",
      "     ---                                     1.3/15.0 MB 885.3 kB/s eta 0:00:16\n",
      "     ---                                     1.3/15.0 MB 878.1 kB/s eta 0:00:16\n",
      "     ---                                     1.4/15.0 MB 884.5 kB/s eta 0:00:16\n",
      "     ---                                     1.4/15.0 MB 899.4 kB/s eta 0:00:16\n",
      "     ---                                     1.5/15.0 MB 894.2 kB/s eta 0:00:16\n",
      "     ----                                    1.6/15.0 MB 908.0 kB/s eta 0:00:15\n",
      "     ----                                    1.6/15.0 MB 908.9 kB/s eta 0:00:15\n",
      "     ----                                    1.6/15.0 MB 908.9 kB/s eta 0:00:15\n",
      "     ----                                    1.6/15.0 MB 908.9 kB/s eta 0:00:15\n",
      "     ----                                    1.8/15.0 MB 953.1 kB/s eta 0:00:14\n",
      "     ----                                    1.9/15.0 MB 949.0 kB/s eta 0:00:14\n",
      "     ----                                    1.9/15.0 MB 949.0 kB/s eta 0:00:14\n",
      "     ----                                    1.9/15.0 MB 949.0 kB/s eta 0:00:14\n",
      "     -----                                   2.0/15.0 MB 970.8 kB/s eta 0:00:14\n",
      "     -----                                   2.1/15.0 MB 966.1 kB/s eta 0:00:14\n",
      "     -----                                   2.1/15.0 MB 975.9 kB/s eta 0:00:14\n",
      "     -----                                   2.2/15.0 MB 978.3 kB/s eta 0:00:14\n",
      "     -----                                   2.2/15.0 MB 956.2 kB/s eta 0:00:14\n",
      "     -----                                   2.2/15.0 MB 965.1 kB/s eta 0:00:14\n",
      "     -----                                   2.3/15.0 MB 958.9 kB/s eta 0:00:14\n",
      "     ------                                  2.3/15.0 MB 961.9 kB/s eta 0:00:14\n",
      "     ------                                  2.4/15.0 MB 960.1 kB/s eta 0:00:14\n",
      "     ------                                  2.4/15.0 MB 962.2 kB/s eta 0:00:14\n",
      "     ------                                  2.4/15.0 MB 956.9 kB/s eta 0:00:14\n",
      "     ------                                  2.5/15.0 MB 951.4 kB/s eta 0:00:14\n",
      "     ------                                  2.5/15.0 MB 947.9 kB/s eta 0:00:14\n",
      "     ------                                  2.5/15.0 MB 947.9 kB/s eta 0:00:14\n",
      "     ------                                  2.5/15.0 MB 947.9 kB/s eta 0:00:14\n",
      "     ------                                  2.6/15.0 MB 931.6 kB/s eta 0:00:14\n",
      "     ------                                  2.6/15.0 MB 927.0 kB/s eta 0:00:14\n",
      "     ------                                  2.7/15.0 MB 922.5 kB/s eta 0:00:14\n",
      "     -------                                 2.7/15.0 MB 916.6 kB/s eta 0:00:14\n",
      "     -------                                 2.7/15.0 MB 914.0 kB/s eta 0:00:14\n",
      "     -------                                 2.8/15.0 MB 912.2 kB/s eta 0:00:14\n",
      "     -------                                 2.8/15.0 MB 914.9 kB/s eta 0:00:14\n",
      "     -------                                 2.9/15.0 MB 915.3 kB/s eta 0:00:14\n",
      "     -------                                 2.9/15.0 MB 913.6 kB/s eta 0:00:14\n",
      "     -------                                 2.9/15.0 MB 914.3 kB/s eta 0:00:14\n",
      "     -------                                 2.9/15.0 MB 914.3 kB/s eta 0:00:14\n",
      "     -------                                 2.9/15.0 MB 914.3 kB/s eta 0:00:14\n",
      "     -------                                 2.9/15.0 MB 914.3 kB/s eta 0:00:14\n",
      "     -------                                 3.1/15.0 MB 892.9 kB/s eta 0:00:14\n",
      "     --------                                3.2/15.0 MB 916.4 kB/s eta 0:00:13\n",
      "     --------                                3.2/15.0 MB 919.7 kB/s eta 0:00:13\n",
      "     --------                                3.2/15.0 MB 916.4 kB/s eta 0:00:13\n",
      "     --------                                3.3/15.0 MB 917.4 kB/s eta 0:00:13\n",
      "     --------                                3.3/15.0 MB 920.9 kB/s eta 0:00:13\n",
      "     --------                                3.4/15.0 MB 916.3 kB/s eta 0:00:13\n",
      "     --------                                3.4/15.0 MB 918.4 kB/s eta 0:00:13\n",
      "     ---------                               3.5/15.0 MB 919.0 kB/s eta 0:00:13\n",
      "     ---------                               3.5/15.0 MB 920.2 kB/s eta 0:00:13\n",
      "     ---------                               3.6/15.0 MB 923.2 kB/s eta 0:00:13\n",
      "     ---------                               3.6/15.0 MB 921.1 kB/s eta 0:00:13\n",
      "     ---------                               3.6/15.0 MB 921.1 kB/s eta 0:00:13\n",
      "     ---------                               3.6/15.0 MB 921.1 kB/s eta 0:00:13\n",
      "     ---------                               3.6/15.0 MB 921.1 kB/s eta 0:00:13\n",
      "     ---------                               3.7/15.0 MB 906.9 kB/s eta 0:00:13\n",
      "     ---------                               3.8/15.0 MB 909.2 kB/s eta 0:00:13\n",
      "     ---------                               3.8/15.0 MB 909.2 kB/s eta 0:00:13\n",
      "     ---------                               3.9/15.0 MB 906.7 kB/s eta 0:00:13\n",
      "     ----------                              3.9/15.0 MB 908.9 kB/s eta 0:00:13\n",
      "     ----------                              3.9/15.0 MB 905.2 kB/s eta 0:00:13\n",
      "     ----------                              4.0/15.0 MB 914.2 kB/s eta 0:00:13\n",
      "     ----------                              4.1/15.0 MB 922.9 kB/s eta 0:00:12\n",
      "     ----------                              4.2/15.0 MB 930.3 kB/s eta 0:00:12\n",
      "     ----------                              4.2/15.0 MB 924.3 kB/s eta 0:00:12\n",
      "     ----------                              4.2/15.0 MB 921.6 kB/s eta 0:00:12\n",
      "     -----------                             4.2/15.0 MB 922.8 kB/s eta 0:00:12\n",
      "     -----------                             4.3/15.0 MB 917.1 kB/s eta 0:00:12\n",
      "     -----------                             4.3/15.0 MB 917.1 kB/s eta 0:00:12\n",
      "     -----------                             4.4/15.0 MB 914.1 kB/s eta 0:00:12\n",
      "     -----------                             4.4/15.0 MB 911.5 kB/s eta 0:00:12\n",
      "     -----------                             4.4/15.0 MB 906.9 kB/s eta 0:00:12\n",
      "     -----------                             4.4/15.0 MB 906.9 kB/s eta 0:00:12\n",
      "     -----------                             4.5/15.0 MB 900.6 kB/s eta 0:00:12\n",
      "     -----------                             4.5/15.0 MB 901.1 kB/s eta 0:00:12\n",
      "     -----------                             4.5/15.0 MB 898.8 kB/s eta 0:00:12\n",
      "     -----------                             4.6/15.0 MB 900.6 kB/s eta 0:00:12\n",
      "     ------------                            4.6/15.0 MB 902.3 kB/s eta 0:00:12\n",
      "     ------------                            4.7/15.0 MB 902.0 kB/s eta 0:00:12\n",
      "     ------------                            4.7/15.0 MB 897.8 kB/s eta 0:00:12\n",
      "     ------------                            4.7/15.0 MB 893.1 kB/s eta 0:00:12\n",
      "     ------------                            4.8/15.0 MB 894.3 kB/s eta 0:00:12\n",
      "     ------------                            4.8/15.0 MB 889.7 kB/s eta 0:00:12\n",
      "     ------------                            4.8/15.0 MB 889.7 kB/s eta 0:00:12\n",
      "     ------------                            4.8/15.0 MB 889.7 kB/s eta 0:00:12\n",
      "     ------------                            4.8/15.0 MB 889.7 kB/s eta 0:00:12\n",
      "     ------------                            4.8/15.0 MB 889.7 kB/s eta 0:00:12\n",
      "     ------------                            4.9/15.0 MB 880.5 kB/s eta 0:00:12\n",
      "     ------------                            5.0/15.0 MB 878.1 kB/s eta 0:00:12\n",
      "     -------------                           5.0/15.0 MB 875.6 kB/s eta 0:00:12\n",
      "     -------------                           5.0/15.0 MB 873.8 kB/s eta 0:00:12\n",
      "     -------------                           5.1/15.0 MB 876.1 kB/s eta 0:00:12\n",
      "     -------------                           5.1/15.0 MB 875.5 kB/s eta 0:00:12\n",
      "     -------------                           5.2/15.0 MB 876.1 kB/s eta 0:00:12\n",
      "     -------------                           5.2/15.0 MB 875.6 kB/s eta 0:00:12\n",
      "     -------------                           5.3/15.0 MB 876.0 kB/s eta 0:00:12\n",
      "     -------------                           5.3/15.0 MB 877.8 kB/s eta 0:00:12\n",
      "     -------------                           5.4/15.0 MB 879.4 kB/s eta 0:00:11\n",
      "     -------------                           5.4/15.0 MB 879.9 kB/s eta 0:00:11\n",
      "     -------------                           5.4/15.0 MB 879.9 kB/s eta 0:00:11\n",
      "     -------------                           5.4/15.0 MB 879.9 kB/s eta 0:00:11\n",
      "     --------------                          5.4/15.0 MB 864.1 kB/s eta 0:00:12\n",
      "     --------------                          5.6/15.0 MB 882.4 kB/s eta 0:00:11\n",
      "     --------------                          5.6/15.0 MB 881.8 kB/s eta 0:00:11\n",
      "     --------------                          5.6/15.0 MB 881.8 kB/s eta 0:00:11\n",
      "     --------------                          5.7/15.0 MB 886.4 kB/s eta 0:00:11\n",
      "     --------------                          5.8/15.0 MB 889.6 kB/s eta 0:00:11\n",
      "     ---------------                         5.8/15.0 MB 884.7 kB/s eta 0:00:11\n",
      "     ---------------                         5.9/15.0 MB 886.7 kB/s eta 0:00:11\n",
      "     ---------------                         6.0/15.0 MB 893.8 kB/s eta 0:00:11\n",
      "     ---------------                         6.0/15.0 MB 899.8 kB/s eta 0:00:10\n",
      "     ---------------                         6.1/15.0 MB 904.2 kB/s eta 0:00:10\n",
      "     ----------------                        6.2/15.0 MB 911.5 kB/s eta 0:00:10\n",
      "     ----------------                        6.2/15.0 MB 911.2 kB/s eta 0:00:10\n",
      "     ----------------                        6.2/15.0 MB 911.2 kB/s eta 0:00:10\n",
      "     ----------------                        6.3/15.0 MB 907.7 kB/s eta 0:00:10\n",
      "     ----------------                        6.4/15.0 MB 916.2 kB/s eta 0:00:10\n",
      "     ----------------                        6.5/15.0 MB 919.0 kB/s eta 0:00:10\n",
      "     ----------------                        6.5/15.0 MB 919.0 kB/s eta 0:00:10\n",
      "     ----------------                        6.5/15.0 MB 919.0 kB/s eta 0:00:10\n",
      "     -----------------                       6.6/15.0 MB 920.9 kB/s eta 0:00:10\n",
      "     -----------------                       6.7/15.0 MB 920.6 kB/s eta 0:00:10\n",
      "     -----------------                       6.7/15.0 MB 920.9 kB/s eta 0:00:10\n",
      "     -----------------                       6.7/15.0 MB 918.6 kB/s eta 0:00:10\n",
      "     -----------------                       6.8/15.0 MB 918.9 kB/s eta 0:00:09\n",
      "     -----------------                       6.8/15.0 MB 917.2 kB/s eta 0:00:09\n",
      "     -----------------                       6.8/15.0 MB 913.7 kB/s eta 0:00:09\n",
      "     -----------------                       6.9/15.0 MB 915.2 kB/s eta 0:00:09\n",
      "     -----------------                       6.9/15.0 MB 911.8 kB/s eta 0:00:09\n",
      "     -----------------                       6.9/15.0 MB 910.2 kB/s eta 0:00:09\n",
      "     ------------------                      7.0/15.0 MB 908.6 kB/s eta 0:00:09\n",
      "     ------------------                      7.0/15.0 MB 907.6 kB/s eta 0:00:09\n",
      "     ------------------                      7.0/15.0 MB 907.6 kB/s eta 0:00:09\n",
      "     ------------------                      7.0/15.0 MB 907.6 kB/s eta 0:00:09\n",
      "     ------------------                      7.0/15.0 MB 898.7 kB/s eta 0:00:09\n",
      "     ------------------                      7.1/15.0 MB 895.9 kB/s eta 0:00:09\n",
      "     ------------------                      7.1/15.0 MB 896.3 kB/s eta 0:00:09\n",
      "     ------------------                      7.1/15.0 MB 896.3 kB/s eta 0:00:09\n",
      "     ------------------                      7.2/15.0 MB 892.5 kB/s eta 0:00:09\n",
      "     ------------------                      7.2/15.0 MB 891.2 kB/s eta 0:00:09\n",
      "     ------------------                      7.2/15.0 MB 890.2 kB/s eta 0:00:09\n",
      "     ------------------                      7.2/15.0 MB 888.0 kB/s eta 0:00:09\n",
      "     ------------------                      7.3/15.0 MB 885.1 kB/s eta 0:00:09\n",
      "     ------------------                      7.3/15.0 MB 883.3 kB/s eta 0:00:09\n",
      "     -------------------                     7.3/15.0 MB 882.4 kB/s eta 0:00:09\n",
      "     -------------------                     7.3/15.0 MB 882.4 kB/s eta 0:00:09\n",
      "     -------------------                     7.3/15.0 MB 882.4 kB/s eta 0:00:09\n",
      "     -------------------                     7.3/15.0 MB 882.4 kB/s eta 0:00:09\n",
      "     -------------------                     7.4/15.0 MB 875.0 kB/s eta 0:00:09\n",
      "     -------------------                     7.5/15.0 MB 874.2 kB/s eta 0:00:09\n",
      "     -------------------                     7.5/15.0 MB 870.6 kB/s eta 0:00:09\n",
      "     -------------------                     7.5/15.0 MB 868.2 kB/s eta 0:00:09\n",
      "     -------------------                     7.5/15.0 MB 863.9 kB/s eta 0:00:09\n",
      "     -------------------                     7.5/15.0 MB 863.2 kB/s eta 0:00:09\n",
      "     -------------------                     7.5/15.0 MB 861.3 kB/s eta 0:00:09\n",
      "     -------------------                     7.6/15.0 MB 858.4 kB/s eta 0:00:09\n",
      "     -------------------                     7.6/15.0 MB 856.1 kB/s eta 0:00:09\n",
      "     -------------------                     7.6/15.0 MB 856.6 kB/s eta 0:00:09\n",
      "     -------------------                     7.7/15.0 MB 854.4 kB/s eta 0:00:09\n",
      "     -------------------                     7.7/15.0 MB 852.5 kB/s eta 0:00:09\n",
      "     -------------------                     7.7/15.0 MB 850.4 kB/s eta 0:00:09\n",
      "     -------------------                     7.7/15.0 MB 850.4 kB/s eta 0:00:09\n",
      "     --------------------                    7.8/15.0 MB 847.7 kB/s eta 0:00:09\n",
      "     --------------------                    7.8/15.0 MB 845.9 kB/s eta 0:00:09\n",
      "     --------------------                    7.8/15.0 MB 843.8 kB/s eta 0:00:09\n",
      "     --------------------                    7.8/15.0 MB 843.8 kB/s eta 0:00:09\n",
      "     --------------------                    7.9/15.0 MB 839.5 kB/s eta 0:00:09\n",
      "     --------------------                    7.9/15.0 MB 838.5 kB/s eta 0:00:09\n",
      "     --------------------                    7.9/15.0 MB 837.6 kB/s eta 0:00:09\n",
      "     --------------------                    7.9/15.0 MB 838.1 kB/s eta 0:00:09\n",
      "     --------------------                    8.0/15.0 MB 836.9 kB/s eta 0:00:09\n",
      "     --------------------                    8.0/15.0 MB 836.0 kB/s eta 0:00:09\n",
      "     --------------------                    8.0/15.0 MB 835.2 kB/s eta 0:00:09\n",
      "     --------------------                    8.1/15.0 MB 834.3 kB/s eta 0:00:09\n",
      "     ---------------------                   8.1/15.0 MB 836.9 kB/s eta 0:00:09\n",
      "     ---------------------                   8.2/15.0 MB 834.6 kB/s eta 0:00:09\n",
      "     ---------------------                   8.2/15.0 MB 835.1 kB/s eta 0:00:09\n",
      "     ---------------------                   8.3/15.0 MB 835.8 kB/s eta 0:00:09\n",
      "     ---------------------                   8.3/15.0 MB 836.8 kB/s eta 0:00:09\n",
      "     ---------------------                   8.3/15.0 MB 836.8 kB/s eta 0:00:09\n",
      "     ---------------------                   8.3/15.0 MB 836.8 kB/s eta 0:00:09\n",
      "     ----------------------                  8.6/15.0 MB 853.1 kB/s eta 0:00:08\n",
      "     ----------------------                  8.7/15.0 MB 854.9 kB/s eta 0:00:08\n",
      "     ----------------------                  8.7/15.0 MB 856.9 kB/s eta 0:00:08\n",
      "     ----------------------                  8.8/15.0 MB 862.1 kB/s eta 0:00:08\n",
      "     -----------------------                 8.9/15.0 MB 865.2 kB/s eta 0:00:08\n",
      "     -----------------------                 9.0/15.0 MB 870.5 kB/s eta 0:00:07\n",
      "     -----------------------                 9.0/15.0 MB 873.1 kB/s eta 0:00:07\n",
      "     -----------------------                 9.1/15.0 MB 875.1 kB/s eta 0:00:07\n",
      "     -----------------------                 9.1/15.0 MB 875.1 kB/s eta 0:00:07\n",
      "     -----------------------                 9.2/15.0 MB 874.4 kB/s eta 0:00:07\n",
      "     -----------------------                 9.2/15.0 MB 875.1 kB/s eta 0:00:07\n",
      "     -----------------------                 9.2/15.0 MB 875.1 kB/s eta 0:00:07\n",
      "     -----------------------                 9.2/15.0 MB 875.1 kB/s eta 0:00:07\n",
      "     -----------------------                 9.2/15.0 MB 875.1 kB/s eta 0:00:07\n",
      "     ------------------------                9.5/15.0 MB 889.8 kB/s eta 0:00:07\n",
      "     ------------------------                9.6/15.0 MB 894.5 kB/s eta 0:00:07\n",
      "     -------------------------               9.8/15.0 MB 902.5 kB/s eta 0:00:06\n",
      "     -------------------------               9.9/15.0 MB 914.6 kB/s eta 0:00:06\n",
      "     -------------------------              10.0/15.0 MB 916.7 kB/s eta 0:00:06\n",
      "     -------------------------              10.1/15.0 MB 918.4 kB/s eta 0:00:06\n",
      "     -------------------------              10.2/15.0 MB 928.1 kB/s eta 0:00:06\n",
      "     --------------------------             10.4/15.0 MB 936.6 kB/s eta 0:00:05\n",
      "     --------------------------             10.5/15.0 MB 943.4 kB/s eta 0:00:05\n",
      "     ---------------------------            10.7/15.0 MB 947.5 kB/s eta 0:00:05\n",
      "     ---------------------------            10.8/15.0 MB 962.8 kB/s eta 0:00:05\n",
      "     ---------------------------            11.0/15.0 MB 971.4 kB/s eta 0:00:05\n",
      "     ---------------------------            11.0/15.0 MB 971.4 kB/s eta 0:00:05\n",
      "     ---------------------------            11.0/15.0 MB 971.4 kB/s eta 0:00:05\n",
      "     ------------------------------           11.3/15.0 MB 1.0 MB/s eta 0:00:04\n",
      "     ------------------------------           11.5/15.0 MB 1.0 MB/s eta 0:00:04\n",
      "     ------------------------------           11.5/15.0 MB 1.0 MB/s eta 0:00:04\n",
      "     ------------------------------           11.5/15.0 MB 1.0 MB/s eta 0:00:04\n",
      "     -------------------------------          11.8/15.0 MB 1.0 MB/s eta 0:00:04\n",
      "     -------------------------------          12.0/15.0 MB 1.1 MB/s eta 0:00:03\n",
      "     --------------------------------         12.2/15.0 MB 1.1 MB/s eta 0:00:03\n",
      "     --------------------------------         12.3/15.0 MB 1.1 MB/s eta 0:00:03\n",
      "     ---------------------------------        12.5/15.0 MB 1.1 MB/s eta 0:00:03\n",
      "     ---------------------------------        12.6/15.0 MB 1.1 MB/s eta 0:00:03\n",
      "     ---------------------------------        12.7/15.0 MB 1.1 MB/s eta 0:00:03\n",
      "     ----------------------------------       12.9/15.0 MB 1.1 MB/s eta 0:00:02\n",
      "     ----------------------------------       13.1/15.0 MB 1.2 MB/s eta 0:00:02\n",
      "     ----------------------------------       13.1/15.0 MB 1.2 MB/s eta 0:00:02\n",
      "     -----------------------------------      13.4/15.0 MB 1.2 MB/s eta 0:00:02\n",
      "     -----------------------------------      13.5/15.0 MB 1.2 MB/s eta 0:00:02\n",
      "     -----------------------------------      13.5/15.0 MB 1.2 MB/s eta 0:00:02\n",
      "     -----------------------------------      13.5/15.0 MB 1.2 MB/s eta 0:00:02\n",
      "     ------------------------------------     13.6/15.0 MB 1.2 MB/s eta 0:00:02\n",
      "     -------------------------------------    13.9/15.0 MB 1.2 MB/s eta 0:00:01\n",
      "     -------------------------------------    13.9/15.0 MB 1.2 MB/s eta 0:00:01\n",
      "     -------------------------------------    13.9/15.0 MB 1.2 MB/s eta 0:00:01\n",
      "     -------------------------------------    14.1/15.0 MB 1.3 MB/s eta 0:00:01\n",
      "     -------------------------------------    14.2/15.0 MB 1.3 MB/s eta 0:00:01\n",
      "     -------------------------------------    14.2/15.0 MB 1.3 MB/s eta 0:00:01\n",
      "     --------------------------------------   14.3/15.0 MB 1.3 MB/s eta 0:00:01\n",
      "     --------------------------------------   14.4/15.0 MB 1.3 MB/s eta 0:00:01\n",
      "     --------------------------------------   14.4/15.0 MB 1.3 MB/s eta 0:00:01\n",
      "     --------------------------------------   14.5/15.0 MB 1.3 MB/s eta 0:00:01\n",
      "     --------------------------------------   14.5/15.0 MB 1.3 MB/s eta 0:00:01\n",
      "     --------------------------------------   14.5/15.0 MB 1.3 MB/s eta 0:00:01\n",
      "     --------------------------------------   14.5/15.0 MB 1.3 MB/s eta 0:00:01\n",
      "     --------------------------------------   14.5/15.0 MB 1.2 MB/s eta 0:00:01\n",
      "     ---------------------------------------  14.8/15.0 MB 1.3 MB/s eta 0:00:01\n",
      "     ---------------------------------------  14.9/15.0 MB 1.3 MB/s eta 0:00:01\n",
      "     ---------------------------------------  14.9/15.0 MB 1.3 MB/s eta 0:00:01\n",
      "     ---------------------------------------  15.0/15.0 MB 1.3 MB/s eta 0:00:01\n",
      "     ---------------------------------------  15.0/15.0 MB 1.3 MB/s eta 0:00:01\n",
      "     ---------------------------------------  15.0/15.0 MB 1.3 MB/s eta 0:00:01\n",
      "     ---------------------------------------- 15.0/15.0 MB 1.3 MB/s eta 0:00:00\n",
      "Installing collected packages: numpy\n",
      "  Attempting uninstall: numpy\n",
      "    Found existing installation: numpy 1.24.3\n",
      "    Uninstalling numpy-1.24.3:\n",
      "      Successfully uninstalled numpy-1.24.3\n"
     ]
    },
    {
     "name": "stderr",
     "output_type": "stream",
     "text": [
      "ERROR: Could not install packages due to an OSError: [WinError 5] Access is denied: 'D:\\\\conda7\\\\envs\\\\100-numpy-exercises\\\\Lib\\\\site-packages\\\\~umpy\\\\.libs\\\\libopenblas64__v0.3.21-gcc_10_3_0.dll'\n",
      "Consider using the `--user` option or check the permissions.\n",
      "\n"
     ]
    }
   ],
   "source": [
    "# Ucomment the next line if you need install numpy\n",
    "!pip install numpy --upgrade"
   ]
  },
  {
   "cell_type": "markdown",
   "metadata": {},
   "source": [
    "#### 1. Import the numpy package under the name `np` (★☆☆)"
   ]
  },
  {
   "cell_type": "code",
   "execution_count": 17,
   "metadata": {},
   "outputs": [],
   "source": [
    "import numpy as np"
   ]
  },
  {
   "cell_type": "markdown",
   "metadata": {},
   "source": [
    "#### 2. Print the numpy version and the configuration (★☆☆)"
   ]
  },
  {
   "cell_type": "code",
   "execution_count": 18,
   "metadata": {},
   "outputs": [
    {
     "name": "stdout",
     "output_type": "stream",
     "text": [
      "Name: numpy\n",
      "Version: 1.25.0\n",
      "Summary: Fundamental package for array computing in Python\n",
      "Home-page: https://www.numpy.org\n",
      "Author: Travis E. Oliphant et al.\n",
      "Author-email: \n",
      "License: BSD-3-Clause\n",
      "Location: D:\\conda7\\envs\\100-numpy-exercises\\Lib\\site-packages\n",
      "Requires: \n",
      "Required-by: \n",
      "Note: you may need to restart the kernel to use updated packages.\n"
     ]
    }
   ],
   "source": [
    "pip show numpy"
   ]
  },
  {
   "cell_type": "markdown",
   "metadata": {},
   "source": [
    "#### 3. Create a null vector of size 10 (★☆☆)"
   ]
  },
  {
   "cell_type": "code",
   "execution_count": 19,
   "metadata": {},
   "outputs": [
    {
     "data": {
      "text/plain": [
       "array([0., 0., 0., 0., 0., 0., 0., 0., 0., 0.])"
      ]
     },
     "execution_count": 19,
     "metadata": {},
     "output_type": "execute_result"
    }
   ],
   "source": [
    "k = np.zeros(10)  #######\n",
    "k"
   ]
  },
  {
   "cell_type": "markdown",
   "metadata": {},
   "source": [
    "#### 4. How to find the memory size of any array (★☆☆)"
   ]
  },
  {
   "cell_type": "code",
   "execution_count": 20,
   "metadata": {},
   "outputs": [
    {
     "name": "stdout",
     "output_type": "stream",
     "text": [
      "Size of the array 10\n",
      "Size of an element in array 8\n",
      "Memory size of an array 80\n"
     ]
    }
   ],
   "source": [
    "print(f\"Size of the array {k.size}\")\n",
    "print(f\"Size of an element in array {k.itemsize}\")\n",
    "print(f\"Memory size of an array {k.size * k.itemsize}\")"
   ]
  },
  {
   "cell_type": "markdown",
   "metadata": {},
   "source": [
    "#### 5. How to get the documentation of the numpy add function from the command line? (★☆☆)"
   ]
  },
  {
   "cell_type": "code",
   "execution_count": 21,
   "metadata": {},
   "outputs": [
    {
     "name": "stdout",
     "output_type": "stream",
     "text": [
      "add(x1, x2, /, out=None, *, where=True, casting='same_kind', order='K', dtype=None, subok=True[, signature, extobj])\n",
      "\n",
      "Add arguments element-wise.\n",
      "\n",
      "Parameters\n",
      "----------\n",
      "x1, x2 : array_like\n",
      "    The arrays to be added.\n",
      "    If ``x1.shape != x2.shape``, they must be broadcastable to a common\n",
      "    shape (which becomes the shape of the output).\n",
      "out : ndarray, None, or tuple of ndarray and None, optional\n",
      "    A location into which the result is stored. If provided, it must have\n",
      "    a shape that the inputs broadcast to. If not provided or None,\n",
      "    a freshly-allocated array is returned. A tuple (possible only as a\n",
      "    keyword argument) must have length equal to the number of outputs.\n",
      "where : array_like, optional\n",
      "    This condition is broadcast over the input. At locations where the\n",
      "    condition is True, the `out` array will be set to the ufunc result.\n",
      "    Elsewhere, the `out` array will retain its original value.\n",
      "    Note that if an uninitialized `out` array is created via the default\n",
      "    ``out=None``, locations within it where the condition is False will\n",
      "    remain uninitialized.\n",
      "**kwargs\n",
      "    For other keyword-only arguments, see the\n",
      "    :ref:`ufunc docs <ufuncs.kwargs>`.\n",
      "\n",
      "Returns\n",
      "-------\n",
      "add : ndarray or scalar\n",
      "    The sum of `x1` and `x2`, element-wise.\n",
      "    This is a scalar if both `x1` and `x2` are scalars.\n",
      "\n",
      "Notes\n",
      "-----\n",
      "Equivalent to `x1` + `x2` in terms of array broadcasting.\n",
      "\n",
      "Examples\n",
      "--------\n",
      ">>> np.add(1.0, 4.0)\n",
      "5.0\n",
      ">>> x1 = np.arange(9.0).reshape((3, 3))\n",
      ">>> x2 = np.arange(3.0)\n",
      ">>> np.add(x1, x2)\n",
      "array([[  0.,   2.,   4.],\n",
      "       [  3.,   5.,   7.],\n",
      "       [  6.,   8.,  10.]])\n",
      "\n",
      "The ``+`` operator can be used as a shorthand for ``np.add`` on ndarrays.\n",
      "\n",
      ">>> x1 = np.arange(9.0).reshape((3, 3))\n",
      ">>> x2 = np.arange(3.0)\n",
      ">>> x1 + x2\n",
      "array([[ 0.,  2.,  4.],\n",
      "       [ 3.,  5.,  7.],\n",
      "       [ 6.,  8., 10.]])\n"
     ]
    }
   ],
   "source": [
    "np.info(np.add)"
   ]
  },
  {
   "cell_type": "markdown",
   "metadata": {},
   "source": [
    "#### 6. Create a null vector of size 10 but the fifth value which is 1 (★☆☆)"
   ]
  },
  {
   "cell_type": "code",
   "execution_count": 22,
   "metadata": {},
   "outputs": [
    {
     "data": {
      "text/plain": [
       "array([0., 0., 0., 0., 1., 0., 0., 0., 0., 0.])"
      ]
     },
     "execution_count": 22,
     "metadata": {},
     "output_type": "execute_result"
    }
   ],
   "source": [
    "k[4] = 1\n",
    "k"
   ]
  },
  {
   "cell_type": "markdown",
   "metadata": {},
   "source": [
    "#### 7. Create a vector with values ranging from 10 to 49 (★☆☆)"
   ]
  },
  {
   "cell_type": "code",
   "execution_count": 23,
   "metadata": {},
   "outputs": [
    {
     "data": {
      "text/plain": [
       "array([10, 11, 12, 13, 14, 15, 16, 17, 18, 19, 20, 21, 22, 23, 24, 25, 26,\n",
       "       27, 28, 29, 30, 31, 32, 33, 34, 35, 36, 37, 38, 39, 40, 41, 42, 43,\n",
       "       44, 45, 46, 47, 48, 49])"
      ]
     },
     "execution_count": 23,
     "metadata": {},
     "output_type": "execute_result"
    }
   ],
   "source": [
    "np.arange(10,50)  #######"
   ]
  },
  {
   "cell_type": "markdown",
   "metadata": {},
   "source": [
    "#### 8. Reverse a vector (first element becomes last) (★☆☆)"
   ]
  },
  {
   "cell_type": "code",
   "execution_count": 24,
   "metadata": {},
   "outputs": [
    {
     "data": {
      "text/plain": [
       "array([7, 6, 5, 4, 3, 2, 1])"
      ]
     },
     "execution_count": 24,
     "metadata": {},
     "output_type": "execute_result"
    }
   ],
   "source": [
    "rev = np.array([1,2,3,4,5,6,7])\n",
    "rev[-1: : -1]"
   ]
  },
  {
   "cell_type": "markdown",
   "metadata": {},
   "source": [
    "#### 9. Create a 3x3 matrix with values ranging from 0 to 8 (★☆☆)"
   ]
  },
  {
   "cell_type": "code",
   "execution_count": 25,
   "metadata": {},
   "outputs": [
    {
     "data": {
      "text/plain": [
       "array([[0, 1, 2],\n",
       "       [3, 4, 5],\n",
       "       [6, 7, 8]])"
      ]
     },
     "execution_count": 25,
     "metadata": {},
     "output_type": "execute_result"
    }
   ],
   "source": [
    "np.arange(0, 9).reshape(3,3)  #######"
   ]
  },
  {
   "cell_type": "markdown",
   "metadata": {},
   "source": [
    "#### 10. Find indices of non-zero elements from [1,2,0,0,4,0] (★☆☆)"
   ]
  },
  {
   "cell_type": "code",
   "execution_count": 26,
   "metadata": {},
   "outputs": [
    {
     "name": "stdout",
     "output_type": "stream",
     "text": [
      "0\n",
      "1\n",
      "4\n"
     ]
    },
    {
     "data": {
      "text/plain": [
       "(array([0, 1, 4], dtype=int64),)"
      ]
     },
     "execution_count": 26,
     "metadata": {},
     "output_type": "execute_result"
    }
   ],
   "source": [
    "chk = np.array([1,2,0,0,4,0])\n",
    "\n",
    "# MINE\n",
    "for i, v in enumerate(chk):\n",
    "    if v:\n",
    "        print(i)\n",
    "        \n",
    "# BETTER\n",
    "np.nonzero(chk)  #######"
   ]
  },
  {
   "cell_type": "markdown",
   "metadata": {},
   "source": [
    "Save your progress by commiting your work to Jovian"
   ]
  },
  {
   "cell_type": "code",
   "execution_count": 13,
   "metadata": {},
   "outputs": [],
   "source": [
    "import jovian"
   ]
  },
  {
   "cell_type": "code",
   "execution_count": 14,
   "metadata": {},
   "outputs": [
    {
     "data": {
      "application/javascript": [
       "window.require && require([\"base/js/namespace\"],function(Jupyter){Jupyter.notebook.save_checkpoint()})"
      ],
      "text/plain": [
       "<IPython.core.display.Javascript object>"
      ]
     },
     "metadata": {},
     "output_type": "display_data"
    },
    {
     "name": "stdout",
     "output_type": "stream",
     "text": [
      "[jovian] Updating notebook \"wasif1607/numpy-100-exercises\" on https://jovian.com/\u001b[0m\n",
      "[jovian] Committed successfully! https://jovian.com/wasif1607/numpy-100-exercises\u001b[0m\n"
     ]
    },
    {
     "data": {
      "text/plain": [
       "'https://jovian.com/wasif1607/numpy-100-exercises'"
      ]
     },
     "execution_count": 14,
     "metadata": {},
     "output_type": "execute_result"
    }
   ],
   "source": [
    "jovian.commit(project='numpy-100-exercises')"
   ]
  },
  {
   "cell_type": "markdown",
   "metadata": {},
   "source": [
    "#### 11. Create a 3x3 identity matrix (★☆☆)"
   ]
  },
  {
   "cell_type": "code",
   "execution_count": 27,
   "metadata": {},
   "outputs": [
    {
     "data": {
      "text/plain": [
       "array([[1., 0., 0.],\n",
       "       [0., 1., 0.],\n",
       "       [0., 0., 1.]])"
      ]
     },
     "execution_count": 27,
     "metadata": {},
     "output_type": "execute_result"
    }
   ],
   "source": [
    "np.identity(3)  #######"
   ]
  },
  {
   "cell_type": "markdown",
   "metadata": {},
   "source": [
    "#### 12. Create a 3x3x3 array with random values (★☆☆)"
   ]
  },
  {
   "cell_type": "code",
   "execution_count": 28,
   "metadata": {},
   "outputs": [
    {
     "data": {
      "text/plain": [
       "array([[[0.32112002, 0.52145257, 0.62284435],\n",
       "        [0.33823173, 0.32049152, 0.62660039],\n",
       "        [0.47433285, 0.31010708, 0.53202141]],\n",
       "\n",
       "       [[0.26508779, 0.70501214, 0.6706697 ],\n",
       "        [0.32738131, 0.11829004, 0.10330658],\n",
       "        [0.53976045, 0.26676452, 0.56341521]],\n",
       "\n",
       "       [[0.90959023, 0.55793572, 0.51704756],\n",
       "        [0.4361703 , 0.72932784, 0.61944327],\n",
       "        [0.47726505, 0.0604747 , 0.59612757]]])"
      ]
     },
     "execution_count": 28,
     "metadata": {},
     "output_type": "execute_result"
    }
   ],
   "source": [
    "np.random.random((3,3,3))  #######"
   ]
  },
  {
   "cell_type": "markdown",
   "metadata": {},
   "source": [
    "#### 13. Create a 10x10 array with random values and find the minimum and maximum values (★☆☆)"
   ]
  },
  {
   "cell_type": "code",
   "execution_count": 29,
   "metadata": {},
   "outputs": [
    {
     "name": "stdout",
     "output_type": "stream",
     "text": [
      "[[0.78205454 0.08242308 0.69989257 0.9174305  0.53696905 0.97952313\n",
      "  0.38606197 0.41665254 0.01495003 0.31194954]\n",
      " [0.25795248 0.51137532 0.66918313 0.73471512 0.11979334 0.40434717\n",
      "  0.35014467 0.16598539 0.30024178 0.33767879]\n",
      " [0.93475487 0.7281155  0.51964684 0.81064245 0.98265774 0.07942578\n",
      "  0.22631816 0.27996836 0.74203488 0.02482658]\n",
      " [0.48717224 0.29533155 0.26695953 0.69233098 0.94184976 0.48770732\n",
      "  0.83963887 0.48450482 0.41941138 0.49561494]\n",
      " [0.83198668 0.01339507 0.75824366 0.37652078 0.76627419 0.19707502\n",
      "  0.01913567 0.26220523 0.36147074 0.3484574 ]\n",
      " [0.36806506 0.07896056 0.32041857 0.28267988 0.13932603 0.81921261\n",
      "  0.27814865 0.76602171 0.04715896 0.70715856]\n",
      " [0.82532314 0.74410794 0.81369801 0.65768614 0.15457314 0.11553318\n",
      "  0.60814502 0.85681257 0.1112565  0.21181065]\n",
      " [0.25159764 0.80037399 0.95923815 0.00592474 0.63428843 0.29286252\n",
      "  0.44608276 0.88549272 0.71705975 0.69256433]\n",
      " [0.24093232 0.1756042  0.93615586 0.65863697 0.84848716 0.32971204\n",
      "  0.51648674 0.87310591 0.59780819 0.79859348]\n",
      " [0.33932365 0.85710363 0.12697108 0.15213358 0.3000413  0.59169198\n",
      "  0.89895384 0.11895162 0.00190244 0.62749056]]\n",
      "Maximum: 0.9826577375104129\n",
      "Minimum: 0.0019024373311172793\n"
     ]
    }
   ],
   "source": [
    "das = np.random.random((10,10))\n",
    "print(das)\n",
    "print(f\"Maximum: {das.max()}\")  #######\n",
    "print(f\"Minimum: {das.min()}\")  #######"
   ]
  },
  {
   "cell_type": "markdown",
   "metadata": {},
   "source": [
    "#### 14. Create a random vector of size 30 and find the mean value (★☆☆)"
   ]
  },
  {
   "cell_type": "code",
   "execution_count": 30,
   "metadata": {},
   "outputs": [
    {
     "name": "stdout",
     "output_type": "stream",
     "text": [
      "Mean value is: 0.4295644183589535\n"
     ]
    }
   ],
   "source": [
    "men = np.random.random(30)\n",
    "print(f\"Mean value is: {men.mean()}\")  #######"
   ]
  },
  {
   "cell_type": "markdown",
   "metadata": {},
   "source": [
    "#### 15. Create a 2d array with 1 on the border and 0 inside (★☆☆)"
   ]
  },
  {
   "cell_type": "code",
   "execution_count": 31,
   "metadata": {},
   "outputs": [
    {
     "data": {
      "text/plain": [
       "array([[1., 0., 0.],\n",
       "       [0., 0., 1.]])"
      ]
     },
     "execution_count": 31,
     "metadata": {},
     "output_type": "execute_result"
    }
   ],
   "source": [
    "lol = np.zeros((2, 3))\n",
    "lol[0, 0] = lol[-1, -1] = 1\n",
    "lol"
   ]
  },
  {
   "cell_type": "markdown",
   "metadata": {},
   "source": [
    "#### 16. How to add a border (filled with 0's) around an existing array? (★☆☆)"
   ]
  },
  {
   "cell_type": "code",
   "execution_count": 32,
   "metadata": {},
   "outputs": [
    {
     "data": {
      "text/plain": [
       "array([[0.        , 0.        , 0.        , 0.        , 0.        ],\n",
       "       [0.        , 0.19229985, 0.33680364, 0.60378353, 0.        ],\n",
       "       [0.        , 0.79765081, 0.8523457 , 0.98288249, 0.        ],\n",
       "       [0.        , 0.503972  , 0.85733439, 0.00328498, 0.        ],\n",
       "       [0.        , 0.        , 0.        , 0.        , 0.        ]])"
      ]
     },
     "execution_count": 32,
     "metadata": {},
     "output_type": "execute_result"
    }
   ],
   "source": [
    "krte = np.random.random((3,3))\n",
    "np.pad(krte, pad_width=1, mode=\"constant\", constant_values=0)  #######"
   ]
  },
  {
   "cell_type": "markdown",
   "metadata": {},
   "source": [
    "#### 17. What is the result of the following expression? (★☆☆)\n",
    "```python\n",
    "0 * np.nan\n",
    "np.nan == np.nan\n",
    "np.inf > np.nan\n",
    "np.nan - np.nan\n",
    "np.nan in set([np.nan])\n",
    "0.3 == 3 * 0.1\n",
    "```"
   ]
  },
  {
   "cell_type": "code",
   "execution_count": 33,
   "metadata": {},
   "outputs": [
    {
     "name": "stdout",
     "output_type": "stream",
     "text": [
      "nan\n",
      "False\n",
      "False\n",
      "nan\n",
      "False\n"
     ]
    }
   ],
   "source": [
    "print(0 * np.nan)\n",
    "print(np.nan == np.nan)\n",
    "print(np.inf > np.nan)\n",
    "print(np.nan - np.nan)\n",
    "print(0.3 == 3 * 0.1)"
   ]
  },
  {
   "cell_type": "markdown",
   "metadata": {},
   "source": [
    "#### 18. Create a 5x5 matrix with values 1,2,3,4 just below the diagonal (★☆☆)"
   ]
  },
  {
   "cell_type": "code",
   "execution_count": 34,
   "metadata": {},
   "outputs": [
    {
     "name": "stdout",
     "output_type": "stream",
     "text": [
      "Simple: \n",
      "[[0 0 0 0 0]\n",
      " [1 0 0 0 0]\n",
      " [0 2 0 0 0]\n",
      " [0 0 3 0 0]\n",
      " [0 0 0 4 0]]\n",
      "\n",
      "arange: \n",
      "[[0 0 0 0 0]\n",
      " [1 0 0 0 0]\n",
      " [0 2 0 0 0]\n",
      " [0 0 3 0 0]\n",
      " [0 0 0 4 0]]\n"
     ]
    }
   ],
   "source": [
    "a=np.diag((1,2,3,4), k = -1)  # k = -1 mtlb diagonal ki ek neeche wali line\n",
    "# Another approach\n",
    "b = np.diag(np.arange(1, 5), k = -1)  #######\n",
    "print(f\"Simple: \\n{a}\\n\")\n",
    "print(f\"arange: \\n{b}\")"
   ]
  },
  {
   "cell_type": "markdown",
   "metadata": {},
   "source": [
    "#### 19. Create a 8x8 matrix and fill it with a checkerboard pattern (★☆☆)"
   ]
  },
  {
   "cell_type": "code",
   "execution_count": 35,
   "metadata": {},
   "outputs": [
    {
     "data": {
      "text/plain": [
       "array([[1, 0, 1, 0, 1, 0, 1, 0],\n",
       "       [0, 1, 0, 1, 0, 1, 0, 1],\n",
       "       [1, 0, 1, 0, 1, 0, 1, 0],\n",
       "       [0, 1, 0, 1, 0, 1, 0, 1],\n",
       "       [1, 0, 1, 0, 1, 0, 1, 0],\n",
       "       [0, 1, 0, 1, 0, 1, 0, 1],\n",
       "       [1, 0, 1, 0, 1, 0, 1, 0],\n",
       "       [0, 1, 0, 1, 0, 1, 0, 1]])"
      ]
     },
     "execution_count": 35,
     "metadata": {},
     "output_type": "execute_result"
    }
   ],
   "source": [
    "board = np.ones((8, 8), dtype=\"int\")  #######\n",
    "# 1st row, 0th col (1,0) to last skipping 1\n",
    "board[1::2, ::2]= 0\n",
    "# 0th row, 1st col (0,1) to last skipping 1\n",
    "board[::2, 1::2] = 0\n",
    "board"
   ]
  },
  {
   "cell_type": "markdown",
   "metadata": {},
   "source": [
    "#### 20. Consider a (6,7,8) shape array, what is the index (x,y,z) of the 100th element?"
   ]
  },
  {
   "cell_type": "code",
   "execution_count": 36,
   "metadata": {},
   "outputs": [
    {
     "data": {
      "text/plain": [
       "(1, 5, 4)"
      ]
     },
     "execution_count": 36,
     "metadata": {},
     "output_type": "execute_result"
    }
   ],
   "source": [
    "np.unravel_index(100, (6,7,8))  #######"
   ]
  },
  {
   "cell_type": "markdown",
   "metadata": {},
   "source": [
    "Save your progress by commiting your work to Jovian"
   ]
  },
  {
   "cell_type": "code",
   "execution_count": 25,
   "metadata": {},
   "outputs": [],
   "source": [
    "import jovian"
   ]
  },
  {
   "cell_type": "code",
   "execution_count": 26,
   "metadata": {},
   "outputs": [
    {
     "data": {
      "application/javascript": [
       "window.require && require([\"base/js/namespace\"],function(Jupyter){Jupyter.notebook.save_checkpoint()})"
      ],
      "text/plain": [
       "<IPython.core.display.Javascript object>"
      ]
     },
     "metadata": {},
     "output_type": "display_data"
    },
    {
     "name": "stdout",
     "output_type": "stream",
     "text": [
      "[jovian] Updating notebook \"wasif1607/numpy-100-exercises\" on https://jovian.com/\u001b[0m\n",
      "[jovian] Committed successfully! https://jovian.com/wasif1607/numpy-100-exercises\u001b[0m\n"
     ]
    },
    {
     "data": {
      "text/plain": [
       "'https://jovian.com/wasif1607/numpy-100-exercises'"
      ]
     },
     "execution_count": 26,
     "metadata": {},
     "output_type": "execute_result"
    }
   ],
   "source": [
    "jovian.commit()"
   ]
  },
  {
   "cell_type": "markdown",
   "metadata": {},
   "source": [
    "#### 21. Create a checkerboard 8x8 matrix using the tile function (★☆☆)"
   ]
  },
  {
   "cell_type": "code",
   "execution_count": 37,
   "metadata": {},
   "outputs": [
    {
     "data": {
      "text/plain": [
       "array([[0, 1, 0, 1, 0, 1, 0, 1],\n",
       "       [1, 0, 1, 0, 1, 0, 1, 0],\n",
       "       [0, 1, 0, 1, 0, 1, 0, 1],\n",
       "       [1, 0, 1, 0, 1, 0, 1, 0],\n",
       "       [0, 1, 0, 1, 0, 1, 0, 1],\n",
       "       [1, 0, 1, 0, 1, 0, 1, 0],\n",
       "       [0, 1, 0, 1, 0, 1, 0, 1],\n",
       "       [1, 0, 1, 0, 1, 0, 1, 0]])"
      ]
     },
     "execution_count": 37,
     "metadata": {},
     "output_type": "execute_result"
    }
   ],
   "source": [
    "temp = np.array([[0,1],\n",
    "                 [1,0]])\n",
    "np.tile(temp, (4,4))  #######"
   ]
  },
  {
   "cell_type": "markdown",
   "metadata": {},
   "source": [
    "#### 22. Normalize a 5x5 random matrix (★☆☆)"
   ]
  },
  {
   "cell_type": "code",
   "execution_count": 38,
   "metadata": {},
   "outputs": [
    {
     "name": "stdout",
     "output_type": "stream",
     "text": [
      "Original array: \n",
      "[[0.28964695 0.61136719 0.32728765 0.23187838 0.8702343 ]\n",
      " [0.99383693 0.65527956 0.01175051 0.53562371 0.37676284]\n",
      " [0.90789186 0.69661375 0.76404357 0.82664216 0.42615399]\n",
      " [0.47521903 0.74451806 0.76929288 0.35108472 0.07909692]\n",
      " [0.55937931 0.42281478 0.30663674 0.88470245 0.84671171]]\n",
      "Normalized array: \n",
      "[[0.28296536 0.61055389 0.32129264 0.22414307 0.87414282]\n",
      " [1.         0.65526723 0.         0.53342882 0.37167027]\n",
      " [0.91248727 0.69735538 0.76601513 0.82975555 0.42196233]\n",
      " [0.47192234 0.74613348 0.7713602  0.34552377 0.06857482]\n",
      " [0.55761773 0.41856222 0.30026505 0.88887487 0.85019117]]\n"
     ]
    }
   ],
   "source": [
    "norm = np.random.random((5,5))\n",
    "print(f\"Original array: \\n{norm}\")\n",
    "maxi, mini = norm.max(), norm.min()\n",
    "norm = (norm - mini)/(maxi - mini)\n",
    "print(f\"Normalized array: \\n{norm}\")"
   ]
  },
  {
   "cell_type": "markdown",
   "metadata": {},
   "source": [
    "#### 23. Create a custom dtype that describes a color as four unsigned bytes (RGBA) (★☆☆)"
   ]
  },
  {
   "cell_type": "code",
   "execution_count": 39,
   "metadata": {},
   "outputs": [
    {
     "name": "stdout",
     "output_type": "stream",
     "text": [
      "[('red', 'u1'), ('green', 'u1'), ('blue', 'u1'), ('alpha', 'u1')]\n",
      "(1, 2, 4, 3)\n",
      "4\n"
     ]
    },
    {
     "data": {
      "text/plain": [
       "numpy.ndarray"
      ]
     },
     "execution_count": 39,
     "metadata": {},
     "output_type": "execute_result"
    }
   ],
   "source": [
    "RGBA = np.dtype([('red',np.uint8),('green',np.uint8),('blue',np.uint8),('alpha',np.uint8)])  #######\n",
    "print(RGBA)\n",
    "color = np.array((1,2,4,3),dtype = RGBA)\n",
    "print(color)\n",
    "print((color['blue']))\n",
    "type(color)"
   ]
  },
  {
   "cell_type": "markdown",
   "metadata": {},
   "source": [
    "#### 24. Multiply a 5x3 matrix by a 3x2 matrix (real matrix product) (★☆☆)"
   ]
  },
  {
   "cell_type": "code",
   "execution_count": 40,
   "metadata": {},
   "outputs": [
    {
     "name": "stdout",
     "output_type": "stream",
     "text": [
      "a: \n",
      " [[ 0  2  4]\n",
      " [ 6  8 10]\n",
      " [12 14 16]\n",
      " [18 20 22]\n",
      " [24 26 28]]\n",
      "b: \n",
      " [[ 0  2]\n",
      " [ 4  6]\n",
      " [ 8 10]]\n",
      "ans: \n",
      " [[ 40  52]\n",
      " [112 160]\n",
      " [184 268]\n",
      " [256 376]\n",
      " [328 484]]\n"
     ]
    }
   ],
   "source": [
    "a = np.arange(0, 30, 2).reshape(5,3)\n",
    "print(\"a: \\n\", a)\n",
    "b = np.arange(0, 12, 2).reshape(3, 2)\n",
    "print(\"b: \\n\", b)\n",
    "\n",
    "ans = a @ b  ####### # or we can use np.matmul(a,b)\n",
    "print(\"ans: \\n\", ans)"
   ]
  },
  {
   "cell_type": "markdown",
   "metadata": {},
   "source": [
    "#### 25. Given a 1D array, negate all elements which are between 3 and 8, in place. (★☆☆)"
   ]
  },
  {
   "cell_type": "code",
   "execution_count": 41,
   "metadata": {},
   "outputs": [
    {
     "name": "stdout",
     "output_type": "stream",
     "text": [
      "[False False  True  True  True  True  True  True  True]\n",
      "[3 4 5 6 7 8]\n",
      "[ 1  2 -3 -4 -5 -6 -7 -8  9]\n"
     ]
    }
   ],
   "source": [
    "hehe = np.arange(1,10)\n",
    "print(hehe >= 3)  # No need of for loop in numpy, it will return an array of True and False\n",
    "print(hehe[(hehe>=3) & (hehe<=8)])\n",
    "hehe[(hehe>=3) & (hehe<=8)] *= (-1)\n",
    "print(hehe)"
   ]
  },
  {
   "cell_type": "markdown",
   "metadata": {},
   "source": [
    "#### 26. What is the output of the following script? (★☆☆)\n",
    "```python\n",
    "# Author: Jake VanderPlas\n",
    "\n",
    "print(sum(range(5),-1))\n",
    "from numpy import *\n",
    "print(sum(range(5),-1))\n",
    "```"
   ]
  },
  {
   "cell_type": "code",
   "execution_count": 42,
   "metadata": {},
   "outputs": [
    {
     "name": "stdout",
     "output_type": "stream",
     "text": [
      "9\n",
      "10\n"
     ]
    }
   ],
   "source": [
    "print(sum(range(5),-1))  # sum(iterable, starting)\n",
    "from numpy import *\n",
    "print(sum(range(5),-1))"
   ]
  },
  {
   "cell_type": "markdown",
   "metadata": {},
   "source": [
    "#### 27. Consider an integer vector Z, which of these expressions are legal? (★☆☆)\n",
    "```python\n",
    "Z**Z\n",
    "2 << Z >> 2\n",
    "Z <- Z\n",
    "1j*Z\n",
    "Z/1/1\n",
    "Z<Z>Z\n",
    "```"
   ]
  },
  {
   "cell_type": "code",
   "execution_count": 43,
   "metadata": {},
   "outputs": [
    {
     "name": "stdout",
     "output_type": "stream",
     "text": [
      "[1 2 3 4 5 6]\n",
      "[    1     4    27   256  3125 46656]\n",
      "[ 1  2  4  8 16 32]\n",
      "[False False False False False False]\n",
      "[0.+1.j 0.+2.j 0.+3.j 0.+4.j 0.+5.j 0.+6.j]\n",
      "[1. 2. 3. 4. 5. 6.]\n"
     ]
    },
    {
     "ename": "ValueError",
     "evalue": "The truth value of an array with more than one element is ambiguous. Use a.any() or a.all()",
     "output_type": "error",
     "traceback": [
      "\u001b[1;31m---------------------------------------------------------------------------\u001b[0m",
      "\u001b[1;31mValueError\u001b[0m                                Traceback (most recent call last)",
      "Cell \u001b[1;32mIn[43], line 8\u001b[0m\n\u001b[0;32m      6\u001b[0m \u001b[38;5;28mprint\u001b[39m(\u001b[38;5;241m1\u001b[39mj \u001b[38;5;241m*\u001b[39m Z)  \u001b[38;5;66;03m# LEGAL\u001b[39;00m\n\u001b[0;32m      7\u001b[0m \u001b[38;5;28mprint\u001b[39m(Z \u001b[38;5;241m/\u001b[39m \u001b[38;5;241m1\u001b[39m \u001b[38;5;241m/\u001b[39m \u001b[38;5;241m1\u001b[39m)  \u001b[38;5;66;03m# LEGAL\u001b[39;00m\n\u001b[1;32m----> 8\u001b[0m \u001b[38;5;28mprint\u001b[39m(Z \u001b[38;5;241m<\u001b[39m Z \u001b[38;5;241m>\u001b[39m Z)\n",
      "\u001b[1;31mValueError\u001b[0m: The truth value of an array with more than one element is ambiguous. Use a.any() or a.all()"
     ]
    }
   ],
   "source": [
    "Z = np.arange(1,7)\n",
    "print(Z)\n",
    "print(Z ** Z)  # LEGAL\n",
    "print(2 << Z >> 2)  # LEGAL\n",
    "print(Z <- Z)  # LEGAL\n",
    "print(1j * Z)  # LEGAL\n",
    "print(Z / 1 / 1)  # LEGAL\n",
    "print(Z < Z > Z)  # ILLEGAL"
   ]
  },
  {
   "cell_type": "markdown",
   "metadata": {},
   "source": [
    "#### 28. What are the result of the following expressions?\n",
    "```python\n",
    "np.array(0) / np.array(0)\n",
    "np.array(0) // np.array(0)\n",
    "np.array([np.nan]).astype(int).astype(float)\n",
    "```"
   ]
  },
  {
   "cell_type": "code",
   "execution_count": 46,
   "metadata": {},
   "outputs": [
    {
     "name": "stdout",
     "output_type": "stream",
     "text": [
      "nan\n",
      "0\n",
      "[-2.14748365e+09]\n"
     ]
    },
    {
     "name": "stderr",
     "output_type": "stream",
     "text": [
      "C:\\Users\\91831\\AppData\\Local\\Temp\\ipykernel_7716\\1639629202.py:1: RuntimeWarning: invalid value encountered in divide\n",
      "  print(np.array(0)/np.array(0))  # nan\n",
      "C:\\Users\\91831\\AppData\\Local\\Temp\\ipykernel_7716\\1639629202.py:2: RuntimeWarning: divide by zero encountered in floor_divide\n",
      "  print(np.array(0) // np.array(0))  # 0\n",
      "C:\\Users\\91831\\AppData\\Local\\Temp\\ipykernel_7716\\1639629202.py:3: RuntimeWarning: invalid value encountered in cast\n",
      "  print(np.array([np.nan]).astype(int).astype(float))  # [-2.14748365e+09]\n"
     ]
    }
   ],
   "source": [
    "print(np.array(0)/np.array(0))  # nan\n",
    "print(np.array(0) // np.array(0))  # 0\n",
    "print(np.array([np.nan]).astype(int).astype(float))  # [-2.14748365e+09]"
   ]
  },
  {
   "cell_type": "markdown",
   "metadata": {},
   "source": [
    "#### 29. How to round away from zero a float array ? (★☆☆)"
   ]
  },
  {
   "cell_type": "code",
   "execution_count": 45,
   "metadata": {},
   "outputs": [
    {
     "name": "stdout",
     "output_type": "stream",
     "text": [
      "[[0.27351819 0.62427628 0.76502607 0.80465928]\n",
      " [0.29497067 0.89959839 0.41656351 0.27860815]\n",
      " [0.43173337 0.27925976 0.15635624 0.92759398]]\n",
      "[[0.27 0.62 0.77 0.8 ]\n",
      " [0.29 0.9  0.42 0.28]\n",
      " [0.43 0.28 0.16 0.93]]\n"
     ]
    }
   ],
   "source": [
    "arr = np.random.random((3,4))\n",
    "print(arr)\n",
    "arr = np.round(arr, 2)  #######  # 2 decimal places here\n",
    "print(arr)"
   ]
  },
  {
   "cell_type": "markdown",
   "metadata": {},
   "source": [
    "#### 30. How to find common values between two arrays? (★☆☆)"
   ]
  },
  {
   "cell_type": "code",
   "execution_count": 44,
   "metadata": {},
   "outputs": [
    {
     "name": "stdout",
     "output_type": "stream",
     "text": [
      "[[ 0  2]\n",
      " [ 4  6]\n",
      " [ 8 10]\n",
      " [12 14]]\n",
      "[[ 0  3  6  9]\n",
      " [12 15 18 21]]\n",
      "[ 0  6 12]\n"
     ]
    }
   ],
   "source": [
    "a = np.arange(0, 15, 2).reshape(4,2)\n",
    "print(a)\n",
    "b = np.arange(0, 22, 3).reshape(2,4)\n",
    "print(b)\n",
    "print(np.intersect1d(a, b))  #######"
   ]
  },
  {
   "cell_type": "markdown",
   "metadata": {},
   "source": [
    "Save your progress by commiting your work to Jovian"
   ]
  },
  {
   "cell_type": "code",
   "execution_count": null,
   "metadata": {},
   "outputs": [],
   "source": [
    "import jovian"
   ]
  },
  {
   "cell_type": "code",
   "execution_count": null,
   "metadata": {},
   "outputs": [],
   "source": [
    "jovian.commit()"
   ]
  },
  {
   "cell_type": "markdown",
   "metadata": {},
   "source": [
    "#### 31. How to ignore all numpy warnings (not recommended)? (★☆☆)"
   ]
  },
  {
   "cell_type": "code",
   "execution_count": 47,
   "metadata": {},
   "outputs": [
    {
     "name": "stderr",
     "output_type": "stream",
     "text": [
      "C:\\Users\\91831\\AppData\\Local\\Temp\\ipykernel_7716\\2584743330.py:4: RuntimeWarning: All-NaN slice encountered\n",
      "  np.nanmedian(data, axis=[1, 2])  # This statement bascially triggers a warning.\n"
     ]
    },
    {
     "data": {
      "text/plain": [
       "array([nan, nan, nan, nan, nan, nan, nan, nan, nan, nan])"
      ]
     },
     "execution_count": 47,
     "metadata": {},
     "output_type": "execute_result"
    }
   ],
   "source": [
    "data = np.random.random(1000).reshape(10, 10,10) * np.nan\n",
    "np.seterr(all=\"ignore\")  ####### # Seterr function comes handy for control of warnings.\n",
    "# Here all='ignore' helps in ignoring any type of warnings we might encounter.\n",
    "np.nanmedian(data, axis=[1, 2])  # This statement bascially triggers a warning."
   ]
  },
  {
   "cell_type": "markdown",
   "metadata": {},
   "source": [
    "#### 32. Is the following expressions true? (★☆☆)\n",
    "```python\n",
    "np.sqrt(-1) == np.emath.sqrt(-1)\n",
    "```"
   ]
  },
  {
   "cell_type": "code",
   "execution_count": 48,
   "metadata": {},
   "outputs": [
    {
     "name": "stdout",
     "output_type": "stream",
     "text": [
      "nan\n",
      "1j\n",
      "False\n"
     ]
    }
   ],
   "source": [
    "print(np.sqrt(-1))  #######\n",
    "print(np.emath.sqrt(-1))  #######\n",
    "print(np.sqrt(-1) == np.emath.sqrt(-1))"
   ]
  },
  {
   "cell_type": "markdown",
   "metadata": {},
   "source": [
    "#### 33. How to get the dates of yesterday, today and tomorrow? (★☆☆)"
   ]
  },
  {
   "cell_type": "code",
   "execution_count": 49,
   "metadata": {},
   "outputs": [
    {
     "name": "stdout",
     "output_type": "stream",
     "text": [
      "Today  2023-06-18\n",
      "Yesterday  2023-06-17\n",
      "Tomorrow 2023-06-19\n"
     ]
    }
   ],
   "source": [
    "today = np.datetime64(\"today\", \"D\")  #######\n",
    "print(\"Today \", today)\n",
    "yesterday = np.datetime64(\"today\", \"D\") - np.timedelta64(1, \"D\")  #######\n",
    "print(\"Yesterday \", yesterday)\n",
    "tomorrow = np.datetime64(\"today\", \"D\") + np.timedelta64(1, \"D\")\n",
    "print(\"Tomorrow\", tomorrow)"
   ]
  },
  {
   "cell_type": "markdown",
   "metadata": {},
   "source": [
    "#### 34. How to get all the dates corresponding to the month of July 2016? (★★☆)"
   ]
  },
  {
   "cell_type": "code",
   "execution_count": 50,
   "metadata": {},
   "outputs": [
    {
     "name": "stdout",
     "output_type": "stream",
     "text": [
      "July 2016\n",
      "['2016-07-01' '2016-07-02' '2016-07-03' '2016-07-04' '2016-07-05'\n",
      " '2016-07-06' '2016-07-07' '2016-07-08' '2016-07-09' '2016-07-10'\n",
      " '2016-07-11' '2016-07-12' '2016-07-13' '2016-07-14' '2016-07-15'\n",
      " '2016-07-16' '2016-07-17' '2016-07-18' '2016-07-19' '2016-07-20'\n",
      " '2016-07-21' '2016-07-22' '2016-07-23' '2016-07-24' '2016-07-25'\n",
      " '2016-07-26' '2016-07-27' '2016-07-28' '2016-07-29' '2016-07-30'\n",
      " '2016-07-31']\n"
     ]
    }
   ],
   "source": [
    "print(\"July 2016\")\n",
    "print(np.arange(\"2016-07\", \"2016-08\", dtype=\"datetime64[D]\"))  #######"
   ]
  },
  {
   "cell_type": "markdown",
   "metadata": {},
   "source": [
    "#### 35. How to compute ((A+B)*(-A/2)) in place (without copy)? (★★☆)"
   ]
  },
  {
   "cell_type": "code",
   "execution_count": 51,
   "metadata": {},
   "outputs": [
    {
     "name": "stdout",
     "output_type": "stream",
     "text": [
      "[1. 1. 1.]\n",
      "[2. 2. 2.]\n",
      "[3. 3. 3.]\n",
      "[3. 3. 3.]\n",
      "[0.5 0.5 0.5]\n",
      "[-0.5 -0.5 -0.5]\n",
      "-4.5\n"
     ]
    }
   ],
   "source": [
    "A = np.ones(3)*1\n",
    "print(A)\n",
    "B = np.ones(3)*2\n",
    "print(B)\n",
    "C = np.ones(3)*3\n",
    "print(C)\n",
    "print(np.add(A,B,out=B))  ####### # Here, B doesn't forms a copy it gets changed in place\n",
    "print(np.divide(A,2,out=A))  #######\n",
    "print(np.negative(A,out=A))  #######\n",
    "print(np.dot(A,B))  #######"
   ]
  },
  {
   "cell_type": "markdown",
   "metadata": {},
   "source": [
    "#### 36. Extract the integer part of a random array of positive numbers using 4 different methods (★★☆)"
   ]
  },
  {
   "cell_type": "code",
   "execution_count": 52,
   "metadata": {},
   "outputs": [
    {
     "name": "stdout",
     "output_type": "stream",
     "text": [
      "[[ 3.19666228  7.11645536 10.38964438 13.19278051 10.55906638]\n",
      " [ 5.40701286  6.67322945  9.23366234  2.81433935  3.42123284]\n",
      " [ 5.34716252 11.67630065  8.58298865  4.69002056  5.48770527]\n",
      " [ 2.87610035  4.22133593 11.05930599  4.90270279  2.75051899]\n",
      " [ 2.56689767  1.8914546   7.32434821 12.94340053  9.34295824]]\n",
      "[[ 3.  7. 10. 13. 10.]\n",
      " [ 5.  6.  9.  2.  3.]\n",
      " [ 5. 11.  8.  4.  5.]\n",
      " [ 2.  4. 11.  4.  2.]\n",
      " [ 2.  1.  7. 12.  9.]]\n",
      "[[ 3.  7. 10. 13. 10.]\n",
      " [ 5.  6.  9.  2.  3.]\n",
      " [ 5. 11.  8.  4.  5.]\n",
      " [ 2.  4. 11.  4.  2.]\n",
      " [ 2.  1.  7. 12.  9.]]\n",
      "[[ 3.  7. 10. 13. 10.]\n",
      " [ 5.  6.  9.  2.  3.]\n",
      " [ 5. 11.  8.  4.  5.]\n",
      " [ 2.  4. 11.  4.  2.]\n",
      " [ 2.  1.  7. 12.  9.]]\n",
      "[[ 3  7 10 13 10]\n",
      " [ 5  6  9  2  3]\n",
      " [ 5 11  8  4  5]\n",
      " [ 2  4 11  4  2]\n",
      " [ 2  1  7 12  9]]\n"
     ]
    }
   ],
   "source": [
    "Z = np.random.uniform(0.5, 13.3, (5,5))  ####### # To generate random no's from given range\n",
    "print(Z)\n",
    "print(Z - Z % 1)\n",
    "print(np.floor(Z))\n",
    "print(np.ceil(Z) - 1)\n",
    "print (Z.astype(int))  #######"
   ]
  },
  {
   "cell_type": "markdown",
   "metadata": {},
   "source": [
    "#### 37. Create a 5x5 matrix with row values ranging from 0 to 4 (★★☆)"
   ]
  },
  {
   "cell_type": "code",
   "execution_count": 53,
   "metadata": {},
   "outputs": [
    {
     "name": "stdout",
     "output_type": "stream",
     "text": [
      "[[0. 0. 0. 0. 0.]\n",
      " [0. 0. 0. 0. 0.]\n",
      " [0. 0. 0. 0. 0.]\n",
      " [0. 0. 0. 0. 0.]\n",
      " [0. 0. 0. 0. 0.]]\n",
      "[[0. 1. 2. 3. 4.]\n",
      " [0. 1. 2. 3. 4.]\n",
      " [0. 1. 2. 3. 4.]\n",
      " [0. 1. 2. 3. 4.]\n",
      " [0. 1. 2. 3. 4.]]\n"
     ]
    }
   ],
   "source": [
    "new = np.zeros((5, 5))\n",
    "print(new)\n",
    "new += np.arange(5)\n",
    "print(new)"
   ]
  },
  {
   "cell_type": "markdown",
   "metadata": {},
   "source": [
    "#### 38. Consider a generator function that generates 10 integers and use it to build an array (★☆☆)"
   ]
  },
  {
   "cell_type": "code",
   "execution_count": 54,
   "metadata": {},
   "outputs": [
    {
     "name": "stdout",
     "output_type": "stream",
     "text": [
      "[0. 1. 2. 3. 4. 5. 6. 7. 8. 9.]\n"
     ]
    }
   ],
   "source": [
    "def generate():\n",
    "    for x in range(10):\n",
    "        yield x\n",
    "Z = np.fromiter(generate(),dtype=float,count=-1)  ####### # -1 == 10 here, -1 means ki last element tak jaana hai\n",
    "print(Z)"
   ]
  },
  {
   "cell_type": "markdown",
   "metadata": {},
   "source": [
    "#### 39. Create a vector of size 10 with values ranging from 0 to 1, both excluded (★★☆)"
   ]
  },
  {
   "cell_type": "code",
   "execution_count": 55,
   "metadata": {},
   "outputs": [
    {
     "name": "stdout",
     "output_type": "stream",
     "text": [
      "[0.09090909 0.18181818 0.27272727 0.36363636 0.45454545 0.54545455\n",
      " 0.63636364 0.72727273 0.81818182 0.90909091]\n"
     ]
    }
   ],
   "source": [
    "# np.random.uniform(0, 1, 10)\n",
    "Z = np.linspace(0, 1, 11, endpoint=False)[1:]  ####### # [1:] to exclude first element (0 here), endpoint=False to print more decimal places\n",
    "print(Z)"
   ]
  },
  {
   "cell_type": "markdown",
   "metadata": {},
   "source": [
    "#### 40. Create a random vector of size 10 and sort it (★★☆)"
   ]
  },
  {
   "cell_type": "code",
   "execution_count": 56,
   "metadata": {},
   "outputs": [
    {
     "name": "stdout",
     "output_type": "stream",
     "text": [
      "[0.09048687 0.23087432 0.30088757 0.40840379 0.64667726 0.68140444\n",
      " 0.71237282 0.75414925 0.84586762 0.93191924]\n"
     ]
    }
   ],
   "source": [
    "k = np.random.random(10)\n",
    "k.sort() #######\n",
    "print(k)"
   ]
  },
  {
   "cell_type": "markdown",
   "metadata": {},
   "source": [
    "Save your progress by commiting your work to Jovian"
   ]
  },
  {
   "cell_type": "code",
   "execution_count": 145,
   "metadata": {},
   "outputs": [],
   "source": [
    "import jovian"
   ]
  },
  {
   "cell_type": "code",
   "execution_count": 146,
   "metadata": {},
   "outputs": [
    {
     "data": {
      "application/javascript": [
       "window.require && require([\"base/js/namespace\"],function(Jupyter){Jupyter.notebook.save_checkpoint()})"
      ],
      "text/plain": [
       "<IPython.core.display.Javascript object>"
      ]
     },
     "metadata": {},
     "output_type": "display_data"
    },
    {
     "name": "stdout",
     "output_type": "stream",
     "text": [
      "[jovian] Updating notebook \"wasif1607/numpy-100-exercises\" on https://jovian.com/\u001b[0m\n",
      "[jovian] Committed successfully! https://jovian.com/wasif1607/numpy-100-exercises\u001b[0m\n"
     ]
    },
    {
     "data": {
      "text/plain": [
       "'https://jovian.com/wasif1607/numpy-100-exercises'"
      ]
     },
     "execution_count": 146,
     "metadata": {},
     "output_type": "execute_result"
    }
   ],
   "source": [
    "jovian.commit()"
   ]
  },
  {
   "cell_type": "markdown",
   "metadata": {},
   "source": [
    "#### 41. How to sum a small array faster than np.sum? (★★☆)"
   ]
  },
  {
   "cell_type": "code",
   "execution_count": 57,
   "metadata": {},
   "outputs": [
    {
     "data": {
      "text/plain": [
       "10"
      ]
     },
     "execution_count": 57,
     "metadata": {},
     "output_type": "execute_result"
    }
   ],
   "source": [
    "import functools as ft\n",
    "Z = np.arange(5)\n",
    "# np.add.reduce(Z)  #######\n",
    "ft.reduce(np.add,Z,0)"
   ]
  },
  {
   "cell_type": "markdown",
   "metadata": {},
   "source": [
    "#### 42. Consider two random array A and B, check if they are equal (★★☆)"
   ]
  },
  {
   "cell_type": "code",
   "execution_count": 58,
   "metadata": {},
   "outputs": [
    {
     "name": "stdout",
     "output_type": "stream",
     "text": [
      "[0 1 0 0 1]\n",
      "************************************************************\n",
      "[1 0 0 0 1]\n",
      "************************************************************\n",
      "False\n",
      "False\n"
     ]
    }
   ],
   "source": [
    "A = np.random.randint(0,2,5)  #######\n",
    "B = np.random.randint(0,2,5)\n",
    "print(A)\n",
    "print('*'*60)\n",
    "print(B)\n",
    "print('*'*60)\n",
    "# Assuming identical shape of the arrays and a tolerance for the comparison of values\n",
    "equal = np.allclose(A,B)  #######\n",
    "print(equal)\n",
    "\n",
    "# Checking both the shape and the element values, no tolerance (values have to be exactly equal)\n",
    "equal = np.array_equal(A,B)  #######\n",
    "print(equal)"
   ]
  },
  {
   "cell_type": "markdown",
   "metadata": {},
   "source": [
    "#### 43. Make an array immutable (read-only) (★★☆)"
   ]
  },
  {
   "cell_type": "code",
   "execution_count": 59,
   "metadata": {},
   "outputs": [
    {
     "ename": "ValueError",
     "evalue": "assignment destination is read-only",
     "output_type": "error",
     "traceback": [
      "\u001b[1;31m---------------------------------------------------------------------------\u001b[0m",
      "\u001b[1;31mValueError\u001b[0m                                Traceback (most recent call last)",
      "Cell \u001b[1;32mIn[59], line 3\u001b[0m\n\u001b[0;32m      1\u001b[0m Z \u001b[38;5;241m=\u001b[39m np\u001b[38;5;241m.\u001b[39mzeros(\u001b[38;5;241m10\u001b[39m)\n\u001b[0;32m      2\u001b[0m Z\u001b[38;5;241m.\u001b[39mflags\u001b[38;5;241m.\u001b[39mwriteable \u001b[38;5;241m=\u001b[39m \u001b[38;5;28;01mFalse\u001b[39;00m  \u001b[38;5;66;03m#######\u001b[39;00m\n\u001b[1;32m----> 3\u001b[0m Z[\u001b[38;5;241m0\u001b[39m] \u001b[38;5;241m=\u001b[39m \u001b[38;5;241m1\u001b[39m\n",
      "\u001b[1;31mValueError\u001b[0m: assignment destination is read-only"
     ]
    }
   ],
   "source": [
    "Z = np.zeros(10)\n",
    "Z.flags.writeable = False  #######\n",
    "Z[0] = 1"
   ]
  },
  {
   "cell_type": "markdown",
   "metadata": {},
   "source": [
    "#### 44. Consider a random 10x2 matrix representing cartesian coordinates, convert them to polar coordinates (★★☆)"
   ]
  },
  {
   "cell_type": "code",
   "execution_count": 60,
   "metadata": {},
   "outputs": [
    {
     "name": "stdout",
     "output_type": "stream",
     "text": [
      "z:  [[3 7]\n",
      " [8 8]\n",
      " [3 4]\n",
      " [2 7]\n",
      " [0 6]\n",
      " [5 0]\n",
      " [5 3]\n",
      " [0 4]\n",
      " [0 2]\n",
      " [8 5]]\n",
      "x:  [3 8 3 2 0 5 5 0 0 8]\n",
      "y:  [7 8 4 7 6 0 3 4 2 5]\n",
      "r:  [ 7.61577311 11.3137085   5.          7.28010989  6.          5.\n",
      "  5.83095189  4.          2.          9.43398113]\n",
      "t:  [1.16590454 0.78539816 0.92729522 1.29249667 1.57079633 0.\n",
      " 0.5404195  1.57079633 1.57079633 0.55859932]\n",
      "[[ 7.61577311  1.16590454]\n",
      " [11.3137085   0.78539816]\n",
      " [ 5.          0.92729522]\n",
      " [ 7.28010989  1.29249667]\n",
      " [ 6.          1.57079633]\n",
      " [ 5.          0.        ]\n",
      " [ 5.83095189  0.5404195 ]\n",
      " [ 4.          1.57079633]\n",
      " [ 2.          1.57079633]\n",
      " [ 9.43398113  0.55859932]]\n"
     ]
    }
   ],
   "source": [
    "z= np.random.randint(0,9,(10,2))\n",
    "print(\"z: \", z)\n",
    "x,y = z[:,0], z[:,1]\n",
    "print(\"x: \", x)\n",
    "print(\"y: \", y)\n",
    "r = np.sqrt(x**2+y**2)  #######\n",
    "print(\"r: \", r)\n",
    "\"\"\"The numpy.arctan2() method computes element-wise arc tangent of arr1/arr2 choosing the quadrant correctly.\n",
    "The quadrant is chosen so that arctan2(x1, x2) is the signed angle in radians between the ray ending at theorigin\n",
    "and passing through the point (1, 0), and the ray ending at the origin and passing through the point (x2, x1).\"\"\"\n",
    "t = np.arctan2(y,x)\n",
    "print(\"t: \", t)\n",
    "\"\"\"np.c_ takes two arrays and concatenate them coulmn-wise making them 2-D\"\"\"\n",
    "poles = np.c_[r,t]\n",
    "print(poles)"
   ]
  },
  {
   "cell_type": "markdown",
   "metadata": {},
   "source": [
    "#### 45. Create random vector of size 10 and replace the maximum value by 0 (★★☆)"
   ]
  },
  {
   "cell_type": "code",
   "execution_count": 61,
   "metadata": {},
   "outputs": [
    {
     "name": "stdout",
     "output_type": "stream",
     "text": [
      "[7 3 9 9 9 8 3]\n",
      "2\n",
      "[7 3 0 9 9 8 3]\n"
     ]
    }
   ],
   "source": [
    "t = np.random.randint(1,10, 7)  # 1 to 10 is range seletion of random no, and 7 is size in 1D\n",
    "print(t)\n",
    "print(t.argmax())  ####### # Gives index of max value\n",
    "t[t.argmax()] = 0\n",
    "print(t)"
   ]
  },
  {
   "cell_type": "markdown",
   "metadata": {},
   "source": [
    "#### 46. Create a structured array with `x` and `y` coordinates covering the [0,1]x[0,1] area (★★☆)"
   ]
  },
  {
   "cell_type": "code",
   "execution_count": 62,
   "metadata": {},
   "outputs": [
    {
     "name": "stdout",
     "output_type": "stream",
     "text": [
      "Z: \n",
      " [[(0., 0.) (0., 0.) (0., 0.) (0., 0.) (0., 0.) (0., 0.) (0., 0.) (0., 0.)\n",
      "  (0., 0.) (0., 0.)]\n",
      " [(0., 0.) (0., 0.) (0., 0.) (0., 0.) (0., 0.) (0., 0.) (0., 0.) (0., 0.)\n",
      "  (0., 0.) (0., 0.)]\n",
      " [(0., 0.) (0., 0.) (0., 0.) (0., 0.) (0., 0.) (0., 0.) (0., 0.) (0., 0.)\n",
      "  (0., 0.) (0., 0.)]\n",
      " [(0., 0.) (0., 0.) (0., 0.) (0., 0.) (0., 0.) (0., 0.) (0., 0.) (0., 0.)\n",
      "  (0., 0.) (0., 0.)]\n",
      " [(0., 0.) (0., 0.) (0., 0.) (0., 0.) (0., 0.) (0., 0.) (0., 0.) (0., 0.)\n",
      "  (0., 0.) (0., 0.)]\n",
      " [(0., 0.) (0., 0.) (0., 0.) (0., 0.) (0., 0.) (0., 0.) (0., 0.) (0., 0.)\n",
      "  (0., 0.) (0., 0.)]\n",
      " [(0., 0.) (0., 0.) (0., 0.) (0., 0.) (0., 0.) (0., 0.) (0., 0.) (0., 0.)\n",
      "  (0., 0.) (0., 0.)]\n",
      " [(0., 0.) (0., 0.) (0., 0.) (0., 0.) (0., 0.) (0., 0.) (0., 0.) (0., 0.)\n",
      "  (0., 0.) (0., 0.)]\n",
      " [(0., 0.) (0., 0.) (0., 0.) (0., 0.) (0., 0.) (0., 0.) (0., 0.) (0., 0.)\n",
      "  (0., 0.) (0., 0.)]\n",
      " [(0., 0.) (0., 0.) (0., 0.) (0., 0.) (0., 0.) (0., 0.) (0., 0.) (0., 0.)\n",
      "  (0., 0.) (0., 0.)]]\n",
      "[[(0.        , 0.        ) (0.11111111, 0.        )\n",
      "  (0.22222222, 0.        ) (0.33333333, 0.        )\n",
      "  (0.44444444, 0.        ) (0.55555556, 0.        )\n",
      "  (0.66666667, 0.        ) (0.77777778, 0.        )\n",
      "  (0.88888889, 0.        ) (1.        , 0.        )]\n",
      " [(0.        , 0.11111111) (0.11111111, 0.11111111)\n",
      "  (0.22222222, 0.11111111) (0.33333333, 0.11111111)\n",
      "  (0.44444444, 0.11111111) (0.55555556, 0.11111111)\n",
      "  (0.66666667, 0.11111111) (0.77777778, 0.11111111)\n",
      "  (0.88888889, 0.11111111) (1.        , 0.11111111)]\n",
      " [(0.        , 0.22222222) (0.11111111, 0.22222222)\n",
      "  (0.22222222, 0.22222222) (0.33333333, 0.22222222)\n",
      "  (0.44444444, 0.22222222) (0.55555556, 0.22222222)\n",
      "  (0.66666667, 0.22222222) (0.77777778, 0.22222222)\n",
      "  (0.88888889, 0.22222222) (1.        , 0.22222222)]\n",
      " [(0.        , 0.33333333) (0.11111111, 0.33333333)\n",
      "  (0.22222222, 0.33333333) (0.33333333, 0.33333333)\n",
      "  (0.44444444, 0.33333333) (0.55555556, 0.33333333)\n",
      "  (0.66666667, 0.33333333) (0.77777778, 0.33333333)\n",
      "  (0.88888889, 0.33333333) (1.        , 0.33333333)]\n",
      " [(0.        , 0.44444444) (0.11111111, 0.44444444)\n",
      "  (0.22222222, 0.44444444) (0.33333333, 0.44444444)\n",
      "  (0.44444444, 0.44444444) (0.55555556, 0.44444444)\n",
      "  (0.66666667, 0.44444444) (0.77777778, 0.44444444)\n",
      "  (0.88888889, 0.44444444) (1.        , 0.44444444)]\n",
      " [(0.        , 0.55555556) (0.11111111, 0.55555556)\n",
      "  (0.22222222, 0.55555556) (0.33333333, 0.55555556)\n",
      "  (0.44444444, 0.55555556) (0.55555556, 0.55555556)\n",
      "  (0.66666667, 0.55555556) (0.77777778, 0.55555556)\n",
      "  (0.88888889, 0.55555556) (1.        , 0.55555556)]\n",
      " [(0.        , 0.66666667) (0.11111111, 0.66666667)\n",
      "  (0.22222222, 0.66666667) (0.33333333, 0.66666667)\n",
      "  (0.44444444, 0.66666667) (0.55555556, 0.66666667)\n",
      "  (0.66666667, 0.66666667) (0.77777778, 0.66666667)\n",
      "  (0.88888889, 0.66666667) (1.        , 0.66666667)]\n",
      " [(0.        , 0.77777778) (0.11111111, 0.77777778)\n",
      "  (0.22222222, 0.77777778) (0.33333333, 0.77777778)\n",
      "  (0.44444444, 0.77777778) (0.55555556, 0.77777778)\n",
      "  (0.66666667, 0.77777778) (0.77777778, 0.77777778)\n",
      "  (0.88888889, 0.77777778) (1.        , 0.77777778)]\n",
      " [(0.        , 0.88888889) (0.11111111, 0.88888889)\n",
      "  (0.22222222, 0.88888889) (0.33333333, 0.88888889)\n",
      "  (0.44444444, 0.88888889) (0.55555556, 0.88888889)\n",
      "  (0.66666667, 0.88888889) (0.77777778, 0.88888889)\n",
      "  (0.88888889, 0.88888889) (1.        , 0.88888889)]\n",
      " [(0.        , 1.        ) (0.11111111, 1.        )\n",
      "  (0.22222222, 1.        ) (0.33333333, 1.        )\n",
      "  (0.44444444, 1.        ) (0.55555556, 1.        )\n",
      "  (0.66666667, 1.        ) (0.77777778, 1.        )\n",
      "  (0.88888889, 1.        ) (1.        , 1.        )]]\n"
     ]
    }
   ],
   "source": [
    "#### DON'T KNOW\n",
    "Z = np.zeros((10,10), [('x',float),('y',float)])\n",
    "print(\"Z: \\n\", Z)\n",
    "Z['x'], Z['y'] = np.meshgrid(np.linspace(0,1,10), np.linspace(0,1,10))\n",
    "print(Z)"
   ]
  },
  {
   "cell_type": "markdown",
   "metadata": {},
   "source": [
    "#### 47. Given two arrays, X and Y, construct the Cauchy matrix C (Cij =1/(xi - yj))"
   ]
  },
  {
   "cell_type": "code",
   "execution_count": 63,
   "metadata": {},
   "outputs": [
    {
     "name": "stdout",
     "output_type": "stream",
     "text": [
      "X: \n",
      " [[3 4 8]\n",
      " [4 4 5]]\n",
      "Y: \n",
      " [[4 6 5]\n",
      " [6 4 5]]\n"
     ]
    }
   ],
   "source": [
    "### DON'T KNOW (WRONG)\n",
    "X = np.random.randint(1,10, (2,3))\n",
    "print(\"X: \\n\", X)\n",
    "Y = np.random.randint(1,10, (2,3))\n",
    "print(\"Y: \\n\", Y)\n",
    "# C = 1 / (X - Y)\n",
    "# print(C)"
   ]
  },
  {
   "cell_type": "markdown",
   "metadata": {},
   "source": [
    "#### 48. Print the minimum and maximum representable value for each numpy scalar type (★★☆)"
   ]
  },
  {
   "cell_type": "code",
   "execution_count": 64,
   "metadata": {},
   "outputs": [
    {
     "name": "stdout",
     "output_type": "stream",
     "text": [
      "<class 'numpy.int8'>\n",
      "-128\n",
      "127\n",
      "\n",
      "<class 'numpy.int32'>\n",
      "-2147483648\n",
      "2147483647\n",
      "\n",
      "<class 'numpy.int64'>\n",
      "-9223372036854775808\n",
      "9223372036854775807\n",
      "\n",
      "<class 'numpy.float32'>\n",
      "-3.4028235e+38\n",
      "3.4028235e+38\n",
      "1.1920929e-07\n",
      "\n",
      "<class 'numpy.float64'>\n",
      "-1.7976931348623157e+308\n",
      "1.7976931348623157e+308\n",
      "2.220446049250313e-16\n",
      "\n"
     ]
    }
   ],
   "source": [
    "for dtype in [np.int8, np.int32, np.int64]:\n",
    "    print(dtype)\n",
    "    print(np.iinfo(dtype).min)  #######\n",
    "    print(np.iinfo(dtype).max)\n",
    "    print(\"\")\n",
    "for dtype in [np.float32, np.float64]:\n",
    "    print(dtype)\n",
    "    print(np.finfo(dtype).min)\n",
    "    print(np.finfo(dtype).max)\n",
    "    print(np.finfo(dtype).eps)\n",
    "    print(\"\")"
   ]
  },
  {
   "cell_type": "markdown",
   "metadata": {},
   "source": [
    "#### 49. How to print all the values of an array? (★★☆)"
   ]
  },
  {
   "cell_type": "code",
   "execution_count": 65,
   "metadata": {},
   "outputs": [
    {
     "name": "stdout",
     "output_type": "stream",
     "text": [
      "[]\n"
     ]
    }
   ],
   "source": [
    "Z = []\n",
    "print(Z)"
   ]
  },
  {
   "cell_type": "markdown",
   "metadata": {},
   "source": [
    "#### 50. How to find the closest value (to a given scalar) in a vector? (★★☆)"
   ]
  },
  {
   "cell_type": "code",
   "execution_count": 66,
   "metadata": {},
   "outputs": [
    {
     "name": "stdout",
     "output_type": "stream",
     "text": [
      "Array:  [2.3572309  9.87500789 7.52929868 6.36414183 8.77613812 3.4549498\n",
      " 3.51316138 3.26483176 7.68228152 5.93196033]\n",
      "We have to find closest value to:  5\n",
      "Abs of array values - 5,  [2.6427691  4.87500789 2.52929868 1.36414183 3.77613812 1.5450502\n",
      " 1.48683862 1.73516824 2.68228152 0.93196033]\n",
      "************************************************************\n",
      "5.931960327219443\n"
     ]
    }
   ],
   "source": [
    "arr = np.random.uniform(0,10,10)\n",
    "print(\"Array: \", arr)\n",
    "scal = 5\n",
    "print(\"We have to find closest value to: \", scal)\n",
    "arr_1 = np.abs(arr - 5)  #######\n",
    "print(\"Abs of array values - 5, \", arr_1)\n",
    "ind = arr_1.argmin()  # Minimum value index of arr_1 array\n",
    "print('*'*60)\n",
    "print(arr[ind])"
   ]
  },
  {
   "cell_type": "markdown",
   "metadata": {},
   "source": [
    "Save and commit your work."
   ]
  },
  {
   "cell_type": "code",
   "execution_count": 107,
   "metadata": {},
   "outputs": [],
   "source": [
    "import jovian"
   ]
  },
  {
   "cell_type": "code",
   "execution_count": 108,
   "metadata": {},
   "outputs": [
    {
     "data": {
      "application/javascript": [
       "window.require && require([\"base/js/namespace\"],function(Jupyter){Jupyter.notebook.save_checkpoint()})"
      ],
      "text/plain": [
       "<IPython.core.display.Javascript object>"
      ]
     },
     "metadata": {},
     "output_type": "display_data"
    },
    {
     "name": "stdout",
     "output_type": "stream",
     "text": [
      "[jovian] Updating notebook \"wasif1607/numpy-100-exercises\" on https://jovian.com/\u001b[0m\n",
      "[jovian] Committed successfully! https://jovian.com/wasif1607/numpy-100-exercises\u001b[0m\n"
     ]
    },
    {
     "data": {
      "text/plain": [
       "'https://jovian.com/wasif1607/numpy-100-exercises'"
      ]
     },
     "execution_count": 108,
     "metadata": {},
     "output_type": "execute_result"
    }
   ],
   "source": [
    "jovian.commit()"
   ]
  },
  {
   "cell_type": "markdown",
   "metadata": {},
   "source": [
    "#### 51. Create a structured array representing a position (x,y) and a color (r,g,b) (★★☆)"
   ]
  },
  {
   "cell_type": "code",
   "execution_count": 67,
   "metadata": {},
   "outputs": [
    {
     "name": "stdout",
     "output_type": "stream",
     "text": [
      "[((0., 0.), (0., 0., 0.)) ((0., 0.), (0., 0., 0.))\n",
      " ((0., 0.), (0., 0., 0.)) ((0., 0.), (0., 0., 0.))\n",
      " ((0., 0.), (0., 0., 0.)) ((0., 0.), (0., 0., 0.))\n",
      " ((0., 0.), (0., 0., 0.)) ((0., 0.), (0., 0., 0.))\n",
      " ((0., 0.), (0., 0., 0.)) ((0., 0.), (0., 0., 0.))]\n"
     ]
    }
   ],
   "source": [
    "Z = np.zeros(10, [ ('position', [ ('x', float), ('y', float)]),\n",
    "                   ('color',    [ ('r', float), ('g', float),('b', float)])\n",
    "                 ])\n",
    "print(Z)"
   ]
  },
  {
   "cell_type": "markdown",
   "metadata": {},
   "source": [
    "#### 52. Consider a random vector with shape (100,2) representing coordinates, find point by point distances (★★☆)"
   ]
  },
  {
   "cell_type": "code",
   "execution_count": 72,
   "metadata": {},
   "outputs": [
    {
     "name": "stdout",
     "output_type": "stream",
     "text": [
      "Requirement already satisfied: scipy in d:\\conda7\\envs\\100-numpy-exercises\\lib\\site-packages (1.10.1)\n",
      "Requirement already satisfied: numpy<1.27.0,>=1.19.5 in d:\\conda7\\envs\\100-numpy-exercises\\lib\\site-packages (from scipy) (1.25.0)\n",
      "Note: you may need to restart the kernel to use updated packages.\n"
     ]
    }
   ],
   "source": [
    "pip install scipy"
   ]
  },
  {
   "cell_type": "code",
   "execution_count": 78,
   "metadata": {},
   "outputs": [
    {
     "name": "stdout",
     "output_type": "stream",
     "text": [
      "Array: \n",
      " [[0.41836091 0.9581132 ]\n",
      " [0.03945938 0.51982721]\n",
      " [0.3518397  0.71602857]\n",
      " [0.39752173 0.38192932]\n",
      " [0.98325331 0.47646913]\n",
      " [0.93303606 0.56266107]\n",
      " [0.5449319  0.37402476]\n",
      " [0.88310584 0.26456969]\n",
      " [0.05718769 0.86480759]\n",
      " [0.18216988 0.5560758 ]\n",
      " [0.35607772 0.26862335]\n",
      " [0.7045532  0.42213916]\n",
      " [0.43196073 0.90542597]\n",
      " [0.10684771 0.14244649]\n",
      " [0.16355119 0.5130511 ]\n",
      " [0.84279052 0.72316068]\n",
      " [0.60259116 0.97531715]\n",
      " [0.2033809  0.08273607]\n",
      " [0.83937205 0.24256616]\n",
      " [0.04209657 0.593126  ]\n",
      " [0.69228245 0.62384951]\n",
      " [0.20453945 0.51283649]\n",
      " [0.89694683 0.76018535]\n",
      " [0.87512491 0.16976113]\n",
      " [0.42239251 0.33620023]\n",
      " [0.82382703 0.84712865]\n",
      " [0.43588068 0.49703275]\n",
      " [0.44255438 0.01001055]\n",
      " [0.39632193 0.73922596]\n",
      " [0.50280319 0.73389299]\n",
      " [0.14723135 0.94699349]\n",
      " [0.00702094 0.84330936]\n",
      " [0.7662779  0.5268239 ]\n",
      " [0.74287758 0.03231199]\n",
      " [0.26445219 0.95976751]\n",
      " [0.90238708 0.69931003]\n",
      " [0.01700816 0.5500965 ]\n",
      " [0.08772082 0.22577815]\n",
      " [0.56754812 0.68326058]\n",
      " [0.98677333 0.01465166]\n",
      " [0.20945406 0.40196293]\n",
      " [0.97491323 0.82124962]\n",
      " [0.66778664 0.39427787]\n",
      " [0.94016106 0.14377416]\n",
      " [0.47801698 0.00426727]\n",
      " [0.30239369 0.42252231]\n",
      " [0.09465901 0.33980829]\n",
      " [0.98901242 0.22202384]\n",
      " [0.15083403 0.98181189]\n",
      " [0.8065313  0.29437172]\n",
      " [0.98231859 0.19138251]\n",
      " [0.38974587 0.44071094]\n",
      " [0.35345863 0.22634123]\n",
      " [0.30366806 0.44468691]\n",
      " [0.78597387 0.60844355]\n",
      " [0.90449729 0.88418514]\n",
      " [0.83053937 0.67930347]\n",
      " [0.60465263 0.45781763]\n",
      " [0.19025002 0.57439693]\n",
      " [0.0113141  0.09800046]\n",
      " [0.70841927 0.76264232]\n",
      " [0.59608992 0.16427405]\n",
      " [0.15035401 0.86216933]\n",
      " [0.24536301 0.68950588]\n",
      " [0.79693853 0.72440185]\n",
      " [0.91905986 0.17023062]\n",
      " [0.52736062 0.932717  ]\n",
      " [0.78549321 0.03211939]\n",
      " [0.13260645 0.27498584]\n",
      " [0.77430019 0.48740511]\n",
      " [0.67661634 0.79352755]\n",
      " [0.75919152 0.92037187]\n",
      " [0.1812841  0.39061978]\n",
      " [0.10893574 0.86902799]\n",
      " [0.52766862 0.15935987]\n",
      " [0.97043558 0.71360568]\n",
      " [0.2020008  0.72200358]\n",
      " [0.62699428 0.21699619]\n",
      " [0.64607247 0.16448919]\n",
      " [0.80213955 0.51435569]\n",
      " [0.81272434 0.96965161]\n",
      " [0.68981679 0.44923338]\n",
      " [0.3803179  0.32693688]\n",
      " [0.50672369 0.67629114]\n",
      " [0.62034132 0.63258513]\n",
      " [0.95664703 0.51233282]\n",
      " [0.90516518 0.34794317]\n",
      " [0.04642736 0.08228811]\n",
      " [0.81359907 0.68146836]\n",
      " [0.83398543 0.61342318]\n",
      " [0.41171656 0.78358719]\n",
      " [0.65267791 0.16166451]\n",
      " [0.56114459 0.24919672]\n",
      " [0.11997893 0.27313624]\n",
      " [0.35933207 0.73435019]\n",
      " [0.78656753 0.35727821]\n",
      " [0.15254666 0.50342863]\n",
      " [0.07904585 0.33071733]\n",
      " [0.74382773 0.2644338 ]\n",
      " [0.63986599 0.68928373]]\n",
      "X: \n",
      " [[0.41836091 0.03945938 0.3518397  0.39752173 0.98325331 0.93303606\n",
      "  0.5449319  0.88310584 0.05718769 0.18216988 0.35607772 0.7045532\n",
      "  0.43196073 0.10684771 0.16355119 0.84279052 0.60259116 0.2033809\n",
      "  0.83937205 0.04209657 0.69228245 0.20453945 0.89694683 0.87512491\n",
      "  0.42239251 0.82382703 0.43588068 0.44255438 0.39632193 0.50280319\n",
      "  0.14723135 0.00702094 0.7662779  0.74287758 0.26445219 0.90238708\n",
      "  0.01700816 0.08772082 0.56754812 0.98677333 0.20945406 0.97491323\n",
      "  0.66778664 0.94016106 0.47801698 0.30239369 0.09465901 0.98901242\n",
      "  0.15083403 0.8065313  0.98231859 0.38974587 0.35345863 0.30366806\n",
      "  0.78597387 0.90449729 0.83053937 0.60465263 0.19025002 0.0113141\n",
      "  0.70841927 0.59608992 0.15035401 0.24536301 0.79693853 0.91905986\n",
      "  0.52736062 0.78549321 0.13260645 0.77430019 0.67661634 0.75919152\n",
      "  0.1812841  0.10893574 0.52766862 0.97043558 0.2020008  0.62699428\n",
      "  0.64607247 0.80213955 0.81272434 0.68981679 0.3803179  0.50672369\n",
      "  0.62034132 0.95664703 0.90516518 0.04642736 0.81359907 0.83398543\n",
      "  0.41171656 0.65267791 0.56114459 0.11997893 0.35933207 0.78656753\n",
      "  0.15254666 0.07904585 0.74382773 0.63986599]]\n",
      "Y: \n",
      " [[0.9581132  0.51982721 0.71602857 0.38192932 0.47646913 0.56266107\n",
      "  0.37402476 0.26456969 0.86480759 0.5560758  0.26862335 0.42213916\n",
      "  0.90542597 0.14244649 0.5130511  0.72316068 0.97531715 0.08273607\n",
      "  0.24256616 0.593126   0.62384951 0.51283649 0.76018535 0.16976113\n",
      "  0.33620023 0.84712865 0.49703275 0.01001055 0.73922596 0.73389299\n",
      "  0.94699349 0.84330936 0.5268239  0.03231199 0.95976751 0.69931003\n",
      "  0.5500965  0.22577815 0.68326058 0.01465166 0.40196293 0.82124962\n",
      "  0.39427787 0.14377416 0.00426727 0.42252231 0.33980829 0.22202384\n",
      "  0.98181189 0.29437172 0.19138251 0.44071094 0.22634123 0.44468691\n",
      "  0.60844355 0.88418514 0.67930347 0.45781763 0.57439693 0.09800046\n",
      "  0.76264232 0.16427405 0.86216933 0.68950588 0.72440185 0.17023062\n",
      "  0.932717   0.03211939 0.27498584 0.48740511 0.79352755 0.92037187\n",
      "  0.39061978 0.86902799 0.15935987 0.71360568 0.72200358 0.21699619\n",
      "  0.16448919 0.51435569 0.96965161 0.44923338 0.32693688 0.67629114\n",
      "  0.63258513 0.51233282 0.34794317 0.08228811 0.68146836 0.61342318\n",
      "  0.78358719 0.16166451 0.24919672 0.27313624 0.73435019 0.35727821\n",
      "  0.50342863 0.33071733 0.2644338  0.68928373]]\n",
      "D: \n",
      " [[0.         0.57936256 0.25105783 ... 0.71327434 0.7662374  0.34832999]\n",
      " [0.57936256 0.         0.36888541 ... 0.19320878 0.74923999 0.62386185]\n",
      " [0.25105783 0.36888541 0.         ... 0.472103   0.59799034 0.28926532]\n",
      " ...\n",
      " [0.71327434 0.19320878 0.472103   ... 0.         0.66807817 0.66564938]\n",
      " [0.7662374  0.74923999 0.59799034 ... 0.66807817 0.         0.43738486]\n",
      " [0.34832999 0.62386185 0.28926532 ... 0.66564938 0.43738486 0.        ]]\n",
      "[[0.         0.58171666 0.48049442 0.53031815 0.61782836 0.50247596\n",
      "  0.94237775 0.34055011 0.6452368  0.78971627]\n",
      " [0.58171666 0.         0.13452299 0.1370404  0.16845882 0.10487243\n",
      "  0.46833296 0.37608202 0.62322016 0.55558569]\n",
      " [0.48049442 0.13452299 0.         0.05868417 0.14930175 0.02969622\n",
      "  0.59876376 0.35429005 0.66276743 0.64150643]\n",
      " [0.53031815 0.1370404  0.05868417 0.         0.09140372 0.05957468\n",
      "  0.60410179 0.41198346 0.71279568 0.67722579]\n",
      " [0.61782836 0.16845882 0.14930175 0.09140372 0.         0.14181277\n",
      "  0.60459873 0.49801248 0.78283731 0.72394078]\n",
      " [0.50247596 0.10487243 0.02969622 0.05957468 0.14181277 0.\n",
      "  0.57017414 0.35630358 0.65323493 0.62215305]\n",
      " [0.94237775 0.46833296 0.59876376 0.60410179 0.60459873 0.57017414\n",
      "  0.         0.61869847 0.58289144 0.35477556]\n",
      " [0.34055011 0.37608202 0.35429005 0.41198346 0.49801248 0.35630358\n",
      "  0.61869847 0.         0.35728332 0.45340973]\n",
      " [0.6452368  0.62322016 0.66276743 0.71279568 0.78283731 0.65323493\n",
      "  0.58289144 0.35728332 0.         0.24685485]\n",
      " [0.78971627 0.55558569 0.64150643 0.67722579 0.72394078 0.62215305\n",
      "  0.35477556 0.45340973 0.24685485 0.        ]]\n"
     ]
    }
   ],
   "source": [
    "arr = np.random.random((100,2))\n",
    "print(\"Array: \\n\", arr)\n",
    "X,Y = np.atleast_2d(arr[:,0],arr[:,1])  ####### # This line separates the two columns of a into two 1D arrays \n",
    "# and converts them into 2D arrays with shape (10,1)\n",
    "print(\"X: \\n\", X)\n",
    "print(\"Y: \\n\", Y)\n",
    "D = np.sqrt( (X-X.T)**2 + (Y-Y.T)**2)  ####### # x-x.T and y-y.T compute the difference between all pairs of x and y coordinates,\n",
    "# respectively. Since x and y have shape (10,1), subtracting their transposes (with shape (1,10)) results in broadcasting,\n",
    "# producing two 10x10 arrays where each element represents the difference in x or y coordinates between a pair of points.\n",
    "print(\"D: \\n\", D)\n",
    "# Much faster with scipy\n",
    "import scipy\n",
    "# Thanks Gavin Heverly-Coulson (#issue 1)\n",
    "import scipy.spatial\n",
    "\n",
    "Z = np.random.random((10,2))\n",
    "D = scipy.spatial.distance.cdist(Z,Z)\n",
    "print(D)"
   ]
  },
  {
   "cell_type": "markdown",
   "metadata": {},
   "source": [
    "#### 53. How to convert a float (32 bits) array into an integer (32 bits) in place?"
   ]
  },
  {
   "cell_type": "code",
   "execution_count": 86,
   "metadata": {},
   "outputs": [
    {
     "name": "stdout",
     "output_type": "stream",
     "text": [
      "Initial: \n",
      " [0. 1. 2. 3. 4. 5. 6. 7. 8. 9.]\n",
      "Final: \n",
      " [2. 1. 2. 3. 4. 5. 6. 7. 8. 9.]\n"
     ]
    }
   ],
   "source": [
    "Z = np.arange(10, dtype=np.float32)\n",
    "print(\"Initial: \\n\", Z)\n",
    "Z_1 = Z.astype(np.float32, copy=False)  #######\n",
    "Z_1[0] = 2\n",
    "print(\"Final: \\n\", Z)"
   ]
  },
  {
   "cell_type": "markdown",
   "metadata": {},
   "source": [
    "#### 54. How to read the following file? (★★☆)\n",
    "```\n",
    "1, 2, 3, 4, 5\n",
    "6,  ,  , 7, 8\n",
    " ,  , 9,10,11\n",
    "```"
   ]
  },
  {
   "cell_type": "code",
   "execution_count": 89,
   "metadata": {},
   "outputs": [
    {
     "name": "stdout",
     "output_type": "stream",
     "text": [
      "[[ 1  2  3  4  5]\n",
      " [ 6 -1 -1  7  8]\n",
      " [-1 -1  9 10 11]]\n"
     ]
    }
   ],
   "source": [
    "from io import StringIO\n",
    "\n",
    "# Fake file \n",
    "s = StringIO(\"\"\"1, 2, 3, 4, 5\\n\n",
    "                6,  ,  , 7, 8\\n\n",
    "                 ,  , 9,10,11\\n\"\"\")\n",
    "Z = np.genfromtxt(s, delimiter=\",\", dtype=np.int64)\n",
    "print(Z)"
   ]
  },
  {
   "cell_type": "markdown",
   "metadata": {},
   "source": [
    "#### 55. What is the equivalent of enumerate for numpy arrays? (★★☆)"
   ]
  },
  {
   "cell_type": "code",
   "execution_count": 95,
   "metadata": {},
   "outputs": [
    {
     "name": "stdout",
     "output_type": "stream",
     "text": [
      "Z: \n",
      " [[0 1 2]\n",
      " [3 4 5]\n",
      " [6 7 8]]\n",
      "\n",
      "From ndenumerate:\n",
      "(0, 0) 0\n",
      "(0, 1) 1\n",
      "(0, 2) 2\n",
      "(1, 0) 3\n",
      "(1, 1) 4\n",
      "(1, 2) 5\n",
      "(2, 0) 6\n",
      "(2, 1) 7\n",
      "(2, 2) 8\n",
      "\n",
      "From ndindex:\n",
      "(0, 0) 0\n",
      "(0, 1) 1\n",
      "(0, 2) 2\n",
      "(1, 0) 3\n",
      "(1, 1) 4\n",
      "(1, 2) 5\n",
      "(2, 0) 6\n",
      "(2, 1) 7\n",
      "(2, 2) 8\n"
     ]
    }
   ],
   "source": [
    "Z = np.arange(9).reshape(3,3)\n",
    "print(\"Z: \\n\", Z)\n",
    "print(\"\\nFrom ndenumerate:\")\n",
    "for index, value in np.ndenumerate(Z):  ####### # Works like enumerate of python\n",
    "    print(index, value)\n",
    "print(\"\\nFrom ndindex:\")\n",
    "for index in np.ndindex(Z.shape):  #######\n",
    "    print(index, Z[index])"
   ]
  },
  {
   "cell_type": "markdown",
   "metadata": {},
   "source": [
    "#### 56. Generate a generic 2D Gaussian-like array (★★☆)"
   ]
  },
  {
   "cell_type": "code",
   "execution_count": 100,
   "metadata": {},
   "outputs": [
    {
     "name": "stdout",
     "output_type": "stream",
     "text": [
      "X: \n",
      " [[-1.         -0.77777778 -0.55555556 -0.33333333 -0.11111111  0.11111111\n",
      "   0.33333333  0.55555556  0.77777778  1.        ]\n",
      " [-1.         -0.77777778 -0.55555556 -0.33333333 -0.11111111  0.11111111\n",
      "   0.33333333  0.55555556  0.77777778  1.        ]\n",
      " [-1.         -0.77777778 -0.55555556 -0.33333333 -0.11111111  0.11111111\n",
      "   0.33333333  0.55555556  0.77777778  1.        ]\n",
      " [-1.         -0.77777778 -0.55555556 -0.33333333 -0.11111111  0.11111111\n",
      "   0.33333333  0.55555556  0.77777778  1.        ]\n",
      " [-1.         -0.77777778 -0.55555556 -0.33333333 -0.11111111  0.11111111\n",
      "   0.33333333  0.55555556  0.77777778  1.        ]\n",
      " [-1.         -0.77777778 -0.55555556 -0.33333333 -0.11111111  0.11111111\n",
      "   0.33333333  0.55555556  0.77777778  1.        ]\n",
      " [-1.         -0.77777778 -0.55555556 -0.33333333 -0.11111111  0.11111111\n",
      "   0.33333333  0.55555556  0.77777778  1.        ]\n",
      " [-1.         -0.77777778 -0.55555556 -0.33333333 -0.11111111  0.11111111\n",
      "   0.33333333  0.55555556  0.77777778  1.        ]\n",
      " [-1.         -0.77777778 -0.55555556 -0.33333333 -0.11111111  0.11111111\n",
      "   0.33333333  0.55555556  0.77777778  1.        ]\n",
      " [-1.         -0.77777778 -0.55555556 -0.33333333 -0.11111111  0.11111111\n",
      "   0.33333333  0.55555556  0.77777778  1.        ]]\n",
      "Y: \n",
      " [[-1.         -1.         -1.         -1.         -1.         -1.\n",
      "  -1.         -1.         -1.         -1.        ]\n",
      " [-0.77777778 -0.77777778 -0.77777778 -0.77777778 -0.77777778 -0.77777778\n",
      "  -0.77777778 -0.77777778 -0.77777778 -0.77777778]\n",
      " [-0.55555556 -0.55555556 -0.55555556 -0.55555556 -0.55555556 -0.55555556\n",
      "  -0.55555556 -0.55555556 -0.55555556 -0.55555556]\n",
      " [-0.33333333 -0.33333333 -0.33333333 -0.33333333 -0.33333333 -0.33333333\n",
      "  -0.33333333 -0.33333333 -0.33333333 -0.33333333]\n",
      " [-0.11111111 -0.11111111 -0.11111111 -0.11111111 -0.11111111 -0.11111111\n",
      "  -0.11111111 -0.11111111 -0.11111111 -0.11111111]\n",
      " [ 0.11111111  0.11111111  0.11111111  0.11111111  0.11111111  0.11111111\n",
      "   0.11111111  0.11111111  0.11111111  0.11111111]\n",
      " [ 0.33333333  0.33333333  0.33333333  0.33333333  0.33333333  0.33333333\n",
      "   0.33333333  0.33333333  0.33333333  0.33333333]\n",
      " [ 0.55555556  0.55555556  0.55555556  0.55555556  0.55555556  0.55555556\n",
      "   0.55555556  0.55555556  0.55555556  0.55555556]\n",
      " [ 0.77777778  0.77777778  0.77777778  0.77777778  0.77777778  0.77777778\n",
      "   0.77777778  0.77777778  0.77777778  0.77777778]\n",
      " [ 1.          1.          1.          1.          1.          1.\n",
      "   1.          1.          1.          1.        ]]\n",
      "G: \n",
      " [[0.36787944 0.44822088 0.51979489 0.57375342 0.60279818 0.60279818\n",
      "  0.57375342 0.51979489 0.44822088 0.36787944]\n",
      " [0.44822088 0.54610814 0.63331324 0.69905581 0.73444367 0.73444367\n",
      "  0.69905581 0.63331324 0.54610814 0.44822088]\n",
      " [0.51979489 0.63331324 0.73444367 0.81068432 0.85172308 0.85172308\n",
      "  0.81068432 0.73444367 0.63331324 0.51979489]\n",
      " [0.57375342 0.69905581 0.81068432 0.89483932 0.9401382  0.9401382\n",
      "  0.89483932 0.81068432 0.69905581 0.57375342]\n",
      " [0.60279818 0.73444367 0.85172308 0.9401382  0.98773022 0.98773022\n",
      "  0.9401382  0.85172308 0.73444367 0.60279818]\n",
      " [0.60279818 0.73444367 0.85172308 0.9401382  0.98773022 0.98773022\n",
      "  0.9401382  0.85172308 0.73444367 0.60279818]\n",
      " [0.57375342 0.69905581 0.81068432 0.89483932 0.9401382  0.9401382\n",
      "  0.89483932 0.81068432 0.69905581 0.57375342]\n",
      " [0.51979489 0.63331324 0.73444367 0.81068432 0.85172308 0.85172308\n",
      "  0.81068432 0.73444367 0.63331324 0.51979489]\n",
      " [0.44822088 0.54610814 0.63331324 0.69905581 0.73444367 0.73444367\n",
      "  0.69905581 0.63331324 0.54610814 0.44822088]\n",
      " [0.36787944 0.44822088 0.51979489 0.57375342 0.60279818 0.60279818\n",
      "  0.57375342 0.51979489 0.44822088 0.36787944]]\n"
     ]
    }
   ],
   "source": [
    "sigma,myu = 1.0,0.0\n",
    "\n",
    "# Creates a 2-D mesh\n",
    "X,Y  = np.meshgrid(np.linspace(-1,1,10),np.linspace(-1,1,10))\n",
    "print(\"X: \\n\", X)\n",
    "print(\"Y: \\n\", Y)\n",
    "D = np.sqrt(X**2+Y**2)\n",
    "G = np.exp(-(D-myu)**2/(2*sigma**2)) # e^-((x^2 + y^2)^1/2 - 0.0)^2 / (2 * 1.0^2)\n",
    "print(\"G: \\n\", G)"
   ]
  },
  {
   "cell_type": "markdown",
   "metadata": {},
   "source": [
    "#### 57. How to randomly place p elements in a 2D array? (★★☆)"
   ]
  },
  {
   "cell_type": "code",
   "execution_count": 108,
   "metadata": {},
   "outputs": [
    {
     "name": "stdout",
     "output_type": "stream",
     "text": [
      "Z: \n",
      " [[0. 0. 0. 0. 0. 0. 0. 0. 0. 0.]\n",
      " [0. 0. 0. 0. 0. 0. 0. 0. 0. 0.]\n",
      " [0. 0. 0. 0. 0. 0. 0. 0. 0. 0.]\n",
      " [0. 0. 0. 0. 0. 0. 0. 0. 0. 0.]\n",
      " [0. 0. 0. 0. 0. 0. 0. 0. 0. 0.]\n",
      " [0. 0. 0. 0. 0. 0. 0. 0. 0. 0.]\n",
      " [0. 0. 0. 0. 0. 0. 0. 0. 0. 0.]\n",
      " [0. 0. 0. 0. 0. 0. 0. 0. 0. 0.]\n",
      " [0. 0. 0. 0. 0. 0. 0. 0. 0. 0.]\n",
      " [0. 0. 0. 0. 0. 0. 0. 0. 0. 0.]]\n",
      "Z with randomly placed no.s: \n",
      " [[0. 0. 0. 0. 0. 0. 0. 0. 0. 0.]\n",
      " [0. 0. 0. 0. 0. 0. 0. 0. 0. 0.]\n",
      " [0. 0. 0. 0. 0. 0. 0. 0. 0. 0.]\n",
      " [0. 0. 0. 0. 0. 0. 0. 0. 0. 0.]\n",
      " [0. 0. 0. 0. 0. 0. 0. 0. 0. 0.]\n",
      " [0. 0. 0. 0. 0. 0. 0. 0. 0. 0.]\n",
      " [0. 0. 0. 0. 0. 0. 0. 0. 0. 0.]\n",
      " [0. 0. 0. 0. 0. 0. 0. 0. 1. 0.]\n",
      " [0. 0. 0. 0. 1. 0. 0. 0. 0. 0.]\n",
      " [0. 0. 0. 0. 0. 0. 0. 0. 0. 1.]]\n"
     ]
    }
   ],
   "source": [
    "n = 10\n",
    "p = 3\n",
    "Z = np.zeros((n,n))\n",
    "print(\"Z: \\n\", Z)\n",
    "np.put(Z, np.random.choice(range(n*n), p, replace=False),1)  #######\n",
    "print(\"Z with randomly placed no.s: \\n\", Z)\n"
   ]
  },
  {
   "cell_type": "markdown",
   "metadata": {},
   "source": [
    "#### 58. Subtract the mean of each row of a matrix (★★☆)"
   ]
  },
  {
   "cell_type": "code",
   "execution_count": 113,
   "metadata": {},
   "outputs": [
    {
     "name": "stdout",
     "output_type": "stream",
     "text": [
      "X: \n",
      " [[0.32717674 0.80124173 0.50329824 0.45091789 0.53169165 0.27209868\n",
      "  0.16779681 0.98183034 0.0225719  0.01934472]\n",
      " [0.55040716 0.34367067 0.41306772 0.27008593 0.98651842 0.77827836\n",
      "  0.83955945 0.09308709 0.87649232 0.50931701]\n",
      " [0.12059496 0.91448869 0.81960897 0.63899154 0.5689586  0.24800117\n",
      "  0.22282189 0.17319343 0.16342691 0.63415148]\n",
      " [0.61301908 0.23895475 0.21486091 0.34275796 0.74397301 0.54889411\n",
      "  0.20079087 0.16714288 0.37146538 0.37281738]\n",
      " [0.21562038 0.36720819 0.07945208 0.56181472 0.10745454 0.374334\n",
      "  0.16908944 0.89900028 0.84786801 0.10212503]]\n",
      "Y: \n",
      " [[-0.08062013  0.39344486  0.09550137  0.04312102  0.12389478 -0.13569819\n",
      "  -0.24000006  0.57403347 -0.38522497 -0.38845215]\n",
      " [-0.01564125 -0.22237775 -0.1529807  -0.29596248  0.42047001  0.21222995\n",
      "   0.27351104 -0.47296132  0.31044391 -0.05673141]\n",
      " [-0.3298288   0.46406493  0.3691852   0.18856777  0.11853484 -0.20242259\n",
      "  -0.22760187 -0.27723034 -0.28699685  0.18372771]\n",
      " [ 0.23155145 -0.14251289 -0.16660672 -0.03870967  0.36250538  0.16742648\n",
      "  -0.18067676 -0.21432476 -0.01000226 -0.00865026]\n",
      " [-0.15677629 -0.00518847 -0.29294459  0.18941805 -0.26494213  0.00193733\n",
      "  -0.20330723  0.52660362  0.47547134 -0.27027163]]\n",
      "K: \n",
      " [[0.40779687]\n",
      " [0.56604841]\n",
      " [0.45042377]\n",
      " [0.38146763]\n",
      " [0.37239667]]\n",
      "M: \n",
      " [[0.40779687]\n",
      " [0.56604841]\n",
      " [0.45042377]\n",
      " [0.38146763]\n",
      " [0.37239667]]\n"
     ]
    }
   ],
   "source": [
    "X = np.random.rand(5, 10)\n",
    "print(\"X: \\n\", X)\n",
    "Y = X - X.mean(axis = 1,keepdims = True)  #######\n",
    "print(\"Y: \\n\", Y)\n",
    "K = X.mean(axis = 1).reshape(-1,1)\n",
    "print(\"K: \\n\", K)\n",
    "M = X.mean(axis = 1,keepdims =True)\n",
    "print(\"M: \\n\", M)"
   ]
  },
  {
   "cell_type": "markdown",
   "metadata": {},
   "source": [
    "#### 59. How to sort an array by the nth column? (★★☆)"
   ]
  },
  {
   "cell_type": "code",
   "execution_count": 116,
   "metadata": {},
   "outputs": [
    {
     "name": "stdout",
     "output_type": "stream",
     "text": [
      "[[1 0 7 8 8]\n",
      " [1 6 3 4 1]\n",
      " [5 6 3 2 9]\n",
      " [9 9 8 0 1]\n",
      " [5 7 4 2 0]]\n",
      "[[9 9 8 0 1]\n",
      " [5 7 4 2 0]\n",
      " [1 6 3 4 1]\n",
      " [5 6 3 2 9]\n",
      " [1 0 7 8 8]]\n",
      "[[1 8 7 8 0]\n",
      " [1 1 3 4 6]\n",
      " [5 9 3 2 6]\n",
      " [9 1 8 0 9]\n",
      " [5 0 4 2 7]]\n"
     ]
    }
   ],
   "source": [
    "# DON'T UNDERSTAND\n",
    "Z = np.random.randint(0,10,(5,5))\n",
    "print(Z)\n",
    "\n",
    "print(Z[(-Z)[:,1].argsort()])\n",
    "print(Z[:,Z[1,:].argsort()])"
   ]
  },
  {
   "cell_type": "markdown",
   "metadata": {},
   "source": [
    "#### 60. How to tell if a given 2D array has null columns? (★★☆)"
   ]
  },
  {
   "cell_type": "code",
   "execution_count": 125,
   "metadata": {},
   "outputs": [
    {
     "name": "stdout",
     "output_type": "stream",
     "text": [
      "Z: \n",
      " [[0 2 0 0 0 2 0 2 1 1]\n",
      " [0 1 2 1 0 0 0 0 1 0]\n",
      " [0 0 1 2 0 1 2 0 0 1]]\n",
      "Z (new): \n",
      " [[0 0 0 0 0 2 0 2 1 1]\n",
      " [0 0 2 1 0 0 0 0 1 0]\n",
      " [0 0 1 2 0 1 2 0 0 1]]\n",
      "[[False False False False False  True False  True  True  True]\n",
      " [False False  True  True False False False False  True False]\n",
      " [False False  True  True False  True  True False False  True]]\n",
      "[[ True  True  True  True  True False  True False False False]\n",
      " [ True  True False False  True  True  True  True False  True]\n",
      " [ True  True False False  True False False  True  True False]]\n"
     ]
    },
    {
     "data": {
      "text/plain": [
       "array([False, False,  True,  True, False,  True,  True,  True,  True,\n",
       "        True])"
      ]
     },
     "execution_count": 125,
     "metadata": {},
     "output_type": "execute_result"
    }
   ],
   "source": [
    "Z = np.random.randint(0,3,(3,10))\n",
    "print(\"Z: \\n\", Z)\n",
    "Z[:,1] = 0\n",
    "print(\"Z (new): \\n\", Z)\n",
    "Z = Z.astype(bool)\n",
    "print(Z)\n",
    "print(~Z)\n",
    "(Z).any(axis = 0)"
   ]
  },
  {
   "cell_type": "markdown",
   "metadata": {},
   "source": [
    "Save and commit your work."
   ]
  },
  {
   "cell_type": "code",
   "execution_count": 126,
   "metadata": {},
   "outputs": [],
   "source": [
    "import jovian"
   ]
  },
  {
   "cell_type": "code",
   "execution_count": 127,
   "metadata": {},
   "outputs": [
    {
     "data": {
      "application/javascript": [
       "window.require && require([\"base/js/namespace\"],function(Jupyter){Jupyter.notebook.save_checkpoint()})"
      ],
      "text/plain": [
       "<IPython.core.display.Javascript object>"
      ]
     },
     "metadata": {},
     "output_type": "display_data"
    },
    {
     "name": "stdout",
     "output_type": "stream",
     "text": [
      "[jovian] Updating notebook \"wasif1607/numpy-100-exercises\" on https://jovian.com/\u001b[0m\n",
      "[jovian] Committed successfully! https://jovian.com/wasif1607/numpy-100-exercises\u001b[0m\n"
     ]
    },
    {
     "data": {
      "text/plain": [
       "'https://jovian.com/wasif1607/numpy-100-exercises'"
      ]
     },
     "execution_count": 127,
     "metadata": {},
     "output_type": "execute_result"
    }
   ],
   "source": [
    "jovian.commit()"
   ]
  },
  {
   "cell_type": "markdown",
   "metadata": {},
   "source": [
    "#### 61. Find the nearest value from a given value in an array (★★☆)"
   ]
  },
  {
   "cell_type": "code",
   "execution_count": null,
   "metadata": {},
   "outputs": [],
   "source": []
  },
  {
   "cell_type": "markdown",
   "metadata": {},
   "source": [
    "#### 62. Considering two arrays with shape (1,3) and (3,1), how to compute their sum using an iterator? (★★☆)"
   ]
  },
  {
   "cell_type": "code",
   "execution_count": null,
   "metadata": {},
   "outputs": [],
   "source": []
  },
  {
   "cell_type": "markdown",
   "metadata": {},
   "source": [
    "#### 63. Create an array class that has a name attribute (★★☆)"
   ]
  },
  {
   "cell_type": "code",
   "execution_count": null,
   "metadata": {},
   "outputs": [],
   "source": []
  },
  {
   "cell_type": "markdown",
   "metadata": {},
   "source": [
    "#### 64. Consider a given vector, how to add 1 to each element indexed by a second vector (be careful with repeated indices)? (★★★)"
   ]
  },
  {
   "cell_type": "code",
   "execution_count": null,
   "metadata": {},
   "outputs": [],
   "source": []
  },
  {
   "cell_type": "markdown",
   "metadata": {},
   "source": [
    "#### 65. How to accumulate elements of a vector (X) to an array (F) based on an index list (I)? (★★★)"
   ]
  },
  {
   "cell_type": "code",
   "execution_count": null,
   "metadata": {},
   "outputs": [],
   "source": []
  },
  {
   "cell_type": "markdown",
   "metadata": {},
   "source": [
    "#### 66. Considering a (w,h,3) image of (dtype=ubyte), compute the number of unique colors (★★★)"
   ]
  },
  {
   "cell_type": "code",
   "execution_count": null,
   "metadata": {},
   "outputs": [],
   "source": []
  },
  {
   "cell_type": "markdown",
   "metadata": {},
   "source": [
    "#### 67. Considering a four dimensions array, how to get sum over the last two axis at once? (★★★)"
   ]
  },
  {
   "cell_type": "code",
   "execution_count": null,
   "metadata": {},
   "outputs": [],
   "source": []
  },
  {
   "cell_type": "markdown",
   "metadata": {},
   "source": [
    "#### 68. Considering a one-dimensional vector D, how to compute means of subsets of D using a vector S of same size describing subset  indices? (★★★)"
   ]
  },
  {
   "cell_type": "code",
   "execution_count": null,
   "metadata": {},
   "outputs": [],
   "source": []
  },
  {
   "cell_type": "markdown",
   "metadata": {},
   "source": [
    "#### 69. How to get the diagonal of a dot product? (★★★)"
   ]
  },
  {
   "cell_type": "code",
   "execution_count": null,
   "metadata": {},
   "outputs": [],
   "source": []
  },
  {
   "cell_type": "markdown",
   "metadata": {},
   "source": [
    "#### 70. Consider the vector [1, 2, 3, 4, 5], how to build a new vector with 3 consecutive zeros interleaved between each value? (★★★)"
   ]
  },
  {
   "cell_type": "code",
   "execution_count": null,
   "metadata": {},
   "outputs": [],
   "source": []
  },
  {
   "cell_type": "code",
   "execution_count": null,
   "metadata": {},
   "outputs": [],
   "source": []
  },
  {
   "cell_type": "markdown",
   "metadata": {},
   "source": [
    "Save and commit your work"
   ]
  },
  {
   "cell_type": "code",
   "execution_count": 16,
   "metadata": {},
   "outputs": [],
   "source": [
    "import jovian"
   ]
  },
  {
   "cell_type": "code",
   "execution_count": 17,
   "metadata": {},
   "outputs": [
    {
     "data": {
      "application/javascript": [
       "window.require && require([\"base/js/namespace\"],function(Jupyter){Jupyter.notebook.save_checkpoint()})"
      ],
      "text/plain": [
       "<IPython.core.display.Javascript object>"
      ]
     },
     "metadata": {},
     "output_type": "display_data"
    },
    {
     "name": "stdout",
     "output_type": "stream",
     "text": [
      "[jovian] Attempting to save notebook..\u001b[0m\n",
      "[jovian] Updating notebook \"aakashns/numpy-100-exercises\" on https://jovian.ml/\u001b[0m\n",
      "[jovian] Uploading notebook..\u001b[0m\n",
      "[jovian] Capturing environment..\u001b[0m\n",
      "[jovian] Committed successfully! https://jovian.ml/aakashns/numpy-100-exercises\u001b[0m\n"
     ]
    },
    {
     "data": {
      "text/plain": [
       "'https://jovian.ml/aakashns/numpy-100-exercises'"
      ]
     },
     "execution_count": 17,
     "metadata": {},
     "output_type": "execute_result"
    }
   ],
   "source": [
    "jovian.commit()"
   ]
  },
  {
   "cell_type": "markdown",
   "metadata": {},
   "source": [
    "#### 71. Consider an array of dimension (5,5,3), how to mulitply it by an array with dimensions (5,5)? (★★★)"
   ]
  },
  {
   "cell_type": "code",
   "execution_count": null,
   "metadata": {},
   "outputs": [],
   "source": []
  },
  {
   "cell_type": "markdown",
   "metadata": {},
   "source": [
    "#### 72. How to swap two rows of an array? (★★★)"
   ]
  },
  {
   "cell_type": "code",
   "execution_count": null,
   "metadata": {},
   "outputs": [],
   "source": []
  },
  {
   "cell_type": "markdown",
   "metadata": {},
   "source": [
    "#### 73. Consider a set of 10 triplets describing 10 triangles (with shared vertices), find the set of unique line segments composing all the  triangles (★★★)"
   ]
  },
  {
   "cell_type": "code",
   "execution_count": null,
   "metadata": {},
   "outputs": [],
   "source": []
  },
  {
   "cell_type": "markdown",
   "metadata": {},
   "source": [
    "#### 74. Given an array C that is a bincount, how to produce an array A such that np.bincount(A) == C? (★★★)"
   ]
  },
  {
   "cell_type": "code",
   "execution_count": null,
   "metadata": {},
   "outputs": [],
   "source": []
  },
  {
   "cell_type": "markdown",
   "metadata": {},
   "source": [
    "#### 75. How to compute averages using a sliding window over an array? (★★★)"
   ]
  },
  {
   "cell_type": "code",
   "execution_count": null,
   "metadata": {},
   "outputs": [],
   "source": []
  },
  {
   "cell_type": "markdown",
   "metadata": {},
   "source": [
    "#### 76. Consider a one-dimensional array Z, build a two-dimensional array whose first row is (Z[0],Z[1],Z[2]) and each subsequent row is  shifted by 1 (last row should be (Z[-3],Z[-2],Z[-1]) (★★★)"
   ]
  },
  {
   "cell_type": "code",
   "execution_count": null,
   "metadata": {},
   "outputs": [],
   "source": []
  },
  {
   "cell_type": "markdown",
   "metadata": {},
   "source": [
    "#### 77. How to negate a boolean, or to change the sign of a float inplace? (★★★)"
   ]
  },
  {
   "cell_type": "code",
   "execution_count": null,
   "metadata": {},
   "outputs": [],
   "source": []
  },
  {
   "cell_type": "markdown",
   "metadata": {},
   "source": [
    "#### 78. Consider 2 sets of points P0,P1 describing lines (2d) and a point p, how to compute distance from p to each line i (P0[i],P1[i])? (★★★)"
   ]
  },
  {
   "cell_type": "code",
   "execution_count": null,
   "metadata": {},
   "outputs": [],
   "source": []
  },
  {
   "cell_type": "markdown",
   "metadata": {},
   "source": [
    "#### 79. Consider 2 sets of points P0,P1 describing lines (2d) and a set of points P, how to compute distance from each point j (P[j]) to each line i (P0[i],P1[i])? (★★★)"
   ]
  },
  {
   "cell_type": "code",
   "execution_count": null,
   "metadata": {},
   "outputs": [],
   "source": []
  },
  {
   "cell_type": "markdown",
   "metadata": {},
   "source": [
    "#### 80. Consider an arbitrary array, write a function that extract a subpart with a fixed shape and centered on a given element (pad with a `fill` value when necessary) (★★★)"
   ]
  },
  {
   "cell_type": "code",
   "execution_count": null,
   "metadata": {},
   "outputs": [],
   "source": []
  },
  {
   "cell_type": "markdown",
   "metadata": {},
   "source": [
    "Save and commit your work."
   ]
  },
  {
   "cell_type": "code",
   "execution_count": 18,
   "metadata": {},
   "outputs": [],
   "source": [
    "import jovian"
   ]
  },
  {
   "cell_type": "code",
   "execution_count": 19,
   "metadata": {},
   "outputs": [
    {
     "data": {
      "application/javascript": [
       "window.require && require([\"base/js/namespace\"],function(Jupyter){Jupyter.notebook.save_checkpoint()})"
      ],
      "text/plain": [
       "<IPython.core.display.Javascript object>"
      ]
     },
     "metadata": {},
     "output_type": "display_data"
    },
    {
     "name": "stdout",
     "output_type": "stream",
     "text": [
      "[jovian] Attempting to save notebook..\u001b[0m\n",
      "[jovian] Updating notebook \"aakashns/numpy-100-exercises\" on https://jovian.ml/\u001b[0m\n",
      "[jovian] Uploading notebook..\u001b[0m\n",
      "[jovian] Capturing environment..\u001b[0m\n",
      "[jovian] Committed successfully! https://jovian.ml/aakashns/numpy-100-exercises\u001b[0m\n"
     ]
    },
    {
     "data": {
      "text/plain": [
       "'https://jovian.ml/aakashns/numpy-100-exercises'"
      ]
     },
     "execution_count": 19,
     "metadata": {},
     "output_type": "execute_result"
    }
   ],
   "source": [
    "jovian.commit()"
   ]
  },
  {
   "cell_type": "markdown",
   "metadata": {},
   "source": [
    "#### 81. Consider an array Z = [1,2,3,4,5,6,7,8,9,10,11,12,13,14], how to generate an array R = [[1,2,3,4], [2,3,4,5], [3,4,5,6], ..., [11,12,13,14]]? (★★★)"
   ]
  },
  {
   "cell_type": "code",
   "execution_count": null,
   "metadata": {},
   "outputs": [],
   "source": []
  },
  {
   "cell_type": "markdown",
   "metadata": {},
   "source": [
    "#### 82. Compute a matrix rank (★★★)"
   ]
  },
  {
   "cell_type": "code",
   "execution_count": null,
   "metadata": {},
   "outputs": [],
   "source": []
  },
  {
   "cell_type": "markdown",
   "metadata": {},
   "source": [
    "#### 83. How to find the most frequent value in an array?"
   ]
  },
  {
   "cell_type": "code",
   "execution_count": null,
   "metadata": {},
   "outputs": [],
   "source": []
  },
  {
   "cell_type": "markdown",
   "metadata": {},
   "source": [
    "#### 84. Extract all the contiguous 3x3 blocks from a random 10x10 matrix (★★★)"
   ]
  },
  {
   "cell_type": "code",
   "execution_count": null,
   "metadata": {},
   "outputs": [],
   "source": []
  },
  {
   "cell_type": "markdown",
   "metadata": {},
   "source": [
    "#### 85. Create a 2D array subclass such that Z[i,j] == Z[j,i] (★★★)"
   ]
  },
  {
   "cell_type": "code",
   "execution_count": null,
   "metadata": {},
   "outputs": [],
   "source": []
  },
  {
   "cell_type": "markdown",
   "metadata": {},
   "source": [
    "#### 86. Consider a set of p matrices wich shape (n,n) and a set of p vectors with shape (n,1). How to compute the sum of of the p matrix products at once? (result has shape (n,1)) (★★★)"
   ]
  },
  {
   "cell_type": "code",
   "execution_count": null,
   "metadata": {},
   "outputs": [],
   "source": []
  },
  {
   "cell_type": "markdown",
   "metadata": {},
   "source": [
    "#### 87. Consider a 16x16 array, how to get the block-sum (block size is 4x4)? (★★★)"
   ]
  },
  {
   "cell_type": "code",
   "execution_count": null,
   "metadata": {},
   "outputs": [],
   "source": []
  },
  {
   "cell_type": "markdown",
   "metadata": {},
   "source": [
    "#### 88. How to implement the Game of Life using numpy arrays? (★★★)"
   ]
  },
  {
   "cell_type": "code",
   "execution_count": null,
   "metadata": {},
   "outputs": [],
   "source": []
  },
  {
   "cell_type": "markdown",
   "metadata": {},
   "source": [
    "#### 89. How to get the n largest values of an array (★★★)"
   ]
  },
  {
   "cell_type": "code",
   "execution_count": null,
   "metadata": {},
   "outputs": [],
   "source": []
  },
  {
   "cell_type": "markdown",
   "metadata": {},
   "source": [
    "#### 90. Given an arbitrary number of vectors, build the cartesian product (every combinations of every item) (★★★)"
   ]
  },
  {
   "cell_type": "code",
   "execution_count": null,
   "metadata": {},
   "outputs": [],
   "source": []
  },
  {
   "cell_type": "markdown",
   "metadata": {},
   "source": [
    "Save and commit your work"
   ]
  },
  {
   "cell_type": "code",
   "execution_count": 20,
   "metadata": {},
   "outputs": [],
   "source": [
    "import jovian"
   ]
  },
  {
   "cell_type": "code",
   "execution_count": 21,
   "metadata": {},
   "outputs": [
    {
     "data": {
      "application/javascript": [
       "window.require && require([\"base/js/namespace\"],function(Jupyter){Jupyter.notebook.save_checkpoint()})"
      ],
      "text/plain": [
       "<IPython.core.display.Javascript object>"
      ]
     },
     "metadata": {},
     "output_type": "display_data"
    },
    {
     "name": "stdout",
     "output_type": "stream",
     "text": [
      "[jovian] Attempting to save notebook..\u001b[0m\n",
      "[jovian] Updating notebook \"aakashns/numpy-100-exercises\" on https://jovian.ml/\u001b[0m\n",
      "[jovian] Uploading notebook..\u001b[0m\n",
      "[jovian] Capturing environment..\u001b[0m\n",
      "[jovian] Committed successfully! https://jovian.ml/aakashns/numpy-100-exercises\u001b[0m\n"
     ]
    },
    {
     "data": {
      "text/plain": [
       "'https://jovian.ml/aakashns/numpy-100-exercises'"
      ]
     },
     "execution_count": 21,
     "metadata": {},
     "output_type": "execute_result"
    }
   ],
   "source": [
    "jovian.commit()"
   ]
  },
  {
   "cell_type": "markdown",
   "metadata": {},
   "source": [
    "#### 91. How to create a record array from a regular array? (★★★)"
   ]
  },
  {
   "cell_type": "code",
   "execution_count": null,
   "metadata": {},
   "outputs": [],
   "source": []
  },
  {
   "cell_type": "markdown",
   "metadata": {},
   "source": [
    "#### 92. Consider a large vector Z, compute Z to the power of 3 using 3 different methods (★★★)"
   ]
  },
  {
   "cell_type": "code",
   "execution_count": null,
   "metadata": {},
   "outputs": [],
   "source": []
  },
  {
   "cell_type": "markdown",
   "metadata": {},
   "source": [
    "#### 93. Consider two arrays A and B of shape (8,3) and (2,2). How to find rows of A that contain elements of each row of B regardless of the order of the elements in B? (★★★)"
   ]
  },
  {
   "cell_type": "code",
   "execution_count": null,
   "metadata": {},
   "outputs": [],
   "source": []
  },
  {
   "cell_type": "markdown",
   "metadata": {},
   "source": [
    "#### 94. Considering a 10x3 matrix, extract rows with unequal values (e.g. [2,2,3]) (★★★)"
   ]
  },
  {
   "cell_type": "code",
   "execution_count": null,
   "metadata": {},
   "outputs": [],
   "source": []
  },
  {
   "cell_type": "markdown",
   "metadata": {},
   "source": [
    "#### 95. Convert a vector of ints into a matrix binary representation (★★★)"
   ]
  },
  {
   "cell_type": "code",
   "execution_count": null,
   "metadata": {},
   "outputs": [],
   "source": []
  },
  {
   "cell_type": "markdown",
   "metadata": {},
   "source": [
    "#### 96. Given a two dimensional array, how to extract unique rows? (★★★)"
   ]
  },
  {
   "cell_type": "code",
   "execution_count": null,
   "metadata": {},
   "outputs": [],
   "source": []
  },
  {
   "cell_type": "markdown",
   "metadata": {},
   "source": [
    "#### 97. Considering 2 vectors A & B, write the einsum equivalent of inner, outer, sum, and mul function (★★★)"
   ]
  },
  {
   "cell_type": "code",
   "execution_count": null,
   "metadata": {},
   "outputs": [],
   "source": []
  },
  {
   "cell_type": "markdown",
   "metadata": {},
   "source": [
    "#### 98. Considering a path described by two vectors (X,Y), how to sample it using equidistant samples (★★★)?"
   ]
  },
  {
   "cell_type": "code",
   "execution_count": null,
   "metadata": {},
   "outputs": [],
   "source": []
  },
  {
   "cell_type": "markdown",
   "metadata": {},
   "source": [
    "#### 99. Given an integer n and a 2D array X, select from X the rows which can be interpreted as draws from a multinomial distribution with n degrees, i.e., the rows which only contain integers and which sum to n. (★★★)"
   ]
  },
  {
   "cell_type": "code",
   "execution_count": null,
   "metadata": {},
   "outputs": [],
   "source": []
  },
  {
   "cell_type": "markdown",
   "metadata": {},
   "source": [
    "#### 100. Compute bootstrapped 95% confidence intervals for the mean of a 1D array X (i.e., resample the elements of an array with replacement N times, compute the mean of each sample, and then compute percentiles over the means). (★★★)"
   ]
  },
  {
   "cell_type": "code",
   "execution_count": null,
   "metadata": {},
   "outputs": [],
   "source": []
  },
  {
   "cell_type": "markdown",
   "metadata": {},
   "source": [
    "Save and commit your work"
   ]
  },
  {
   "cell_type": "code",
   "execution_count": 22,
   "metadata": {},
   "outputs": [],
   "source": [
    "import jovian"
   ]
  },
  {
   "cell_type": "code",
   "execution_count": null,
   "metadata": {},
   "outputs": [
    {
     "data": {
      "application/javascript": [
       "window.require && require([\"base/js/namespace\"],function(Jupyter){Jupyter.notebook.save_checkpoint()})"
      ],
      "text/plain": [
       "<IPython.core.display.Javascript object>"
      ]
     },
     "metadata": {},
     "output_type": "display_data"
    },
    {
     "name": "stdout",
     "output_type": "stream",
     "text": [
      "[jovian] Attempting to save notebook..\u001b[0m\n"
     ]
    }
   ],
   "source": [
    "jovian.commit()"
   ]
  },
  {
   "cell_type": "markdown",
   "metadata": {},
   "source": [
    "Congratulations on completing the 100 exercises, well done!\n",
    "\n",
    "#### What to do next?\n",
    "\n",
    "- Share your completed notebook on Facebook, LinkedIn or Twitter and challenge your friends.\n",
    "- Share your solutions and help others on the forum: https://jovian.ml/forum/t/100-numpy-exercises-hints-discussions-help/10561\n",
    "- Check out our course on \"Data Analysis with Python: Zero to Pandas\" - https://jovian.ml/learn/data-analysis-with-python-zero-to-pandas\n",
    "- Star this repository to show your appreciation for the original author of this notebook: https://github.com/rougier/numpy-100"
   ]
  }
 ],
 "metadata": {
  "kernelspec": {
   "display_name": "Python 3 (ipykernel)",
   "language": "python",
   "name": "python3"
  },
  "language_info": {
   "codemirror_mode": {
    "name": "ipython",
    "version": 3
   },
   "file_extension": ".py",
   "mimetype": "text/x-python",
   "name": "python",
   "nbconvert_exporter": "python",
   "pygments_lexer": "ipython3",
   "version": "3.11.3"
  }
 },
 "nbformat": 4,
 "nbformat_minor": 4
}
