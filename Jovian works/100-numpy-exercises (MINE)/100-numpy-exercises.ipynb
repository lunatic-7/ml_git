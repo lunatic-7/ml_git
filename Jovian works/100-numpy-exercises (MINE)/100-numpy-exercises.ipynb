{
 "cells": [
  {
   "cell_type": "markdown",
   "metadata": {},
   "source": [
    "# 100 numpy exercises (Optional)\n",
    "\n",
    "Source: https://github.com/rougier/numpy-100\n"
   ]
  },
  {
   "cell_type": "markdown",
   "metadata": {},
   "source": [
    "#### How to run this notebook\n",
    "\n",
    "The recommended way to run this notebook is to click the \"Run\" button at the top of this page, and select \"Run on Binder\". This will run the notebook on mybinder.org, a free online service for running Jupyter notebooks.\n",
    "\n",
    "#### How to get help\n",
    "\n",
    "If you are stuck, you can ask for help on the community forum: https://jovian.ml/forum/t/100-numpy-exercises-hints-discussions-help/10561 . You can get help with errors, ask for hints, and share your solutions with others.\n",
    "\n",
    "If you're new to Numpy, check out this notebook for a quick tutorial: https://jovian.ml/aakashns/python-numerical-computing-with-numpy\n",
    "\n",
    "\n",
    "#### Saving your work\n",
    "\n",
    "Remember to save a snapshot of your work from time to time using to your Jovian.ml account."
   ]
  },
  {
   "cell_type": "code",
   "execution_count": 1,
   "metadata": {},
   "outputs": [],
   "source": [
    "!pip install jovian --upgrade --quiet"
   ]
  },
  {
   "cell_type": "code",
   "execution_count": 2,
   "metadata": {},
   "outputs": [],
   "source": [
    "import jovian"
   ]
  },
  {
   "cell_type": "code",
   "execution_count": 3,
   "metadata": {},
   "outputs": [
    {
     "data": {
      "application/javascript": [
       "window.require && require([\"base/js/namespace\"],function(Jupyter){Jupyter.notebook.save_checkpoint()})"
      ],
      "text/plain": [
       "<IPython.core.display.Javascript object>"
      ]
     },
     "metadata": {},
     "output_type": "display_data"
    },
    {
     "name": "stdout",
     "output_type": "stream",
     "text": [
      "[jovian] Please enter your API key ( from https://jovian.com/ ):\u001b[0m\n",
      "API KEY: ········\n",
      "[jovian] Creating a new project \"wasif1607/100-numpy-exercises\"\u001b[0m\n",
      "[jovian] Committed successfully! https://jovian.com/wasif1607/100-numpy-exercises\u001b[0m\n"
     ]
    },
    {
     "data": {
      "text/plain": [
       "'https://jovian.com/wasif1607/100-numpy-exercises'"
      ]
     },
     "execution_count": 3,
     "metadata": {},
     "output_type": "execute_result"
    }
   ],
   "source": [
    "jovian.commit(project='100-numpy-exercises')"
   ]
  },
  {
   "cell_type": "markdown",
   "metadata": {},
   "source": [
    "`jovian.commit` uploads the notebook to your Jovian.ml account, captures the Python environment and creates a shareable link for your notebook as shown above. You can use this link to share your work and let anyone (including you) run your notebooks and reproduce your work. Learn more: https://jovian.ml/docs/\n"
   ]
  },
  {
   "cell_type": "code",
   "execution_count": 1,
   "metadata": {},
   "outputs": [
    {
     "name": "stdout",
     "output_type": "stream",
     "text": [
      "Requirement already satisfied: numpy in d:\\conda7\\envs\\100-numpy-exercises\\lib\\site-packages (1.25.0)\n"
     ]
    }
   ],
   "source": [
    "# Ucomment the next line if you need install numpy\n",
    "!pip install numpy --upgrade"
   ]
  },
  {
   "cell_type": "markdown",
   "metadata": {},
   "source": [
    "#### 1. Import the numpy package under the name `np` (★☆☆)"
   ]
  },
  {
   "cell_type": "code",
   "execution_count": 2,
   "metadata": {},
   "outputs": [],
   "source": [
    "import numpy as np"
   ]
  },
  {
   "cell_type": "markdown",
   "metadata": {},
   "source": [
    "#### 2. Print the numpy version and the configuration (★☆☆)"
   ]
  },
  {
   "cell_type": "code",
   "execution_count": 3,
   "metadata": {},
   "outputs": [
    {
     "name": "stdout",
     "output_type": "stream",
     "text": [
      "Name: numpy\n",
      "Version: 1.25.0\n",
      "Summary: Fundamental package for array computing in Python\n",
      "Home-page: https://www.numpy.org\n",
      "Author: Travis E. Oliphant et al.\n",
      "Author-email: \n",
      "License: BSD-3-Clause\n",
      "Location: D:\\conda7\\envs\\100-numpy-exercises\\Lib\\site-packages\n",
      "Requires: \n",
      "Required-by: scipy\n",
      "Note: you may need to restart the kernel to use updated packages.\n"
     ]
    }
   ],
   "source": [
    "pip show numpy"
   ]
  },
  {
   "cell_type": "markdown",
   "metadata": {},
   "source": [
    "#### 3. Create a null vector of size 10 (★☆☆)"
   ]
  },
  {
   "cell_type": "code",
   "execution_count": 4,
   "metadata": {},
   "outputs": [
    {
     "data": {
      "text/plain": [
       "array([0., 0., 0., 0., 0., 0., 0., 0., 0., 0.])"
      ]
     },
     "execution_count": 4,
     "metadata": {},
     "output_type": "execute_result"
    }
   ],
   "source": [
    "k = np.zeros(10)  #######\n",
    "k"
   ]
  },
  {
   "cell_type": "markdown",
   "metadata": {},
   "source": [
    "#### 4. How to find the memory size of any array (★☆☆)"
   ]
  },
  {
   "cell_type": "code",
   "execution_count": 5,
   "metadata": {},
   "outputs": [
    {
     "name": "stdout",
     "output_type": "stream",
     "text": [
      "Size of the array 10\n",
      "Size of an element in array 8\n",
      "Memory size of an array 80\n"
     ]
    }
   ],
   "source": [
    "print(f\"Size of the array {k.size}\")\n",
    "print(f\"Size of an element in array {k.itemsize}\")\n",
    "print(f\"Memory size of an array {k.size * k.itemsize}\")"
   ]
  },
  {
   "cell_type": "markdown",
   "metadata": {},
   "source": [
    "#### 5. How to get the documentation of the numpy add function from the command line? (★☆☆)"
   ]
  },
  {
   "cell_type": "code",
   "execution_count": 6,
   "metadata": {},
   "outputs": [
    {
     "name": "stdout",
     "output_type": "stream",
     "text": [
      "add(x1, x2, /, out=None, *, where=True, casting='same_kind', order='K', dtype=None, subok=True[, signature, extobj])\n",
      "\n",
      "Add arguments element-wise.\n",
      "\n",
      "Parameters\n",
      "----------\n",
      "x1, x2 : array_like\n",
      "    The arrays to be added.\n",
      "    If ``x1.shape != x2.shape``, they must be broadcastable to a common\n",
      "    shape (which becomes the shape of the output).\n",
      "out : ndarray, None, or tuple of ndarray and None, optional\n",
      "    A location into which the result is stored. If provided, it must have\n",
      "    a shape that the inputs broadcast to. If not provided or None,\n",
      "    a freshly-allocated array is returned. A tuple (possible only as a\n",
      "    keyword argument) must have length equal to the number of outputs.\n",
      "where : array_like, optional\n",
      "    This condition is broadcast over the input. At locations where the\n",
      "    condition is True, the `out` array will be set to the ufunc result.\n",
      "    Elsewhere, the `out` array will retain its original value.\n",
      "    Note that if an uninitialized `out` array is created via the default\n",
      "    ``out=None``, locations within it where the condition is False will\n",
      "    remain uninitialized.\n",
      "**kwargs\n",
      "    For other keyword-only arguments, see the\n",
      "    :ref:`ufunc docs <ufuncs.kwargs>`.\n",
      "\n",
      "Returns\n",
      "-------\n",
      "add : ndarray or scalar\n",
      "    The sum of `x1` and `x2`, element-wise.\n",
      "    This is a scalar if both `x1` and `x2` are scalars.\n",
      "\n",
      "Notes\n",
      "-----\n",
      "Equivalent to `x1` + `x2` in terms of array broadcasting.\n",
      "\n",
      "Examples\n",
      "--------\n",
      ">>> np.add(1.0, 4.0)\n",
      "5.0\n",
      ">>> x1 = np.arange(9.0).reshape((3, 3))\n",
      ">>> x2 = np.arange(3.0)\n",
      ">>> np.add(x1, x2)\n",
      "array([[  0.,   2.,   4.],\n",
      "       [  3.,   5.,   7.],\n",
      "       [  6.,   8.,  10.]])\n",
      "\n",
      "The ``+`` operator can be used as a shorthand for ``np.add`` on ndarrays.\n",
      "\n",
      ">>> x1 = np.arange(9.0).reshape((3, 3))\n",
      ">>> x2 = np.arange(3.0)\n",
      ">>> x1 + x2\n",
      "array([[ 0.,  2.,  4.],\n",
      "       [ 3.,  5.,  7.],\n",
      "       [ 6.,  8., 10.]])\n"
     ]
    }
   ],
   "source": [
    "np.info(np.add)"
   ]
  },
  {
   "cell_type": "markdown",
   "metadata": {},
   "source": [
    "#### 6. Create a null vector of size 10 but the fifth value which is 1 (★☆☆)"
   ]
  },
  {
   "cell_type": "code",
   "execution_count": 7,
   "metadata": {},
   "outputs": [
    {
     "data": {
      "text/plain": [
       "array([0., 0., 0., 0., 1., 0., 0., 0., 0., 0.])"
      ]
     },
     "execution_count": 7,
     "metadata": {},
     "output_type": "execute_result"
    }
   ],
   "source": [
    "k[4] = 1\n",
    "k"
   ]
  },
  {
   "cell_type": "markdown",
   "metadata": {},
   "source": [
    "#### 7. Create a vector with values ranging from 10 to 49 (★☆☆)"
   ]
  },
  {
   "cell_type": "code",
   "execution_count": 8,
   "metadata": {},
   "outputs": [
    {
     "data": {
      "text/plain": [
       "array([10, 11, 12, 13, 14, 15, 16, 17, 18, 19, 20, 21, 22, 23, 24, 25, 26,\n",
       "       27, 28, 29, 30, 31, 32, 33, 34, 35, 36, 37, 38, 39, 40, 41, 42, 43,\n",
       "       44, 45, 46, 47, 48, 49])"
      ]
     },
     "execution_count": 8,
     "metadata": {},
     "output_type": "execute_result"
    }
   ],
   "source": [
    "np.arange(10,50)  #######"
   ]
  },
  {
   "cell_type": "markdown",
   "metadata": {},
   "source": [
    "#### 8. Reverse a vector (first element becomes last) (★☆☆)"
   ]
  },
  {
   "cell_type": "code",
   "execution_count": 9,
   "metadata": {},
   "outputs": [
    {
     "data": {
      "text/plain": [
       "array([7, 6, 5, 4, 3, 2, 1])"
      ]
     },
     "execution_count": 9,
     "metadata": {},
     "output_type": "execute_result"
    }
   ],
   "source": [
    "rev = np.array([1,2,3,4,5,6,7])\n",
    "rev[-1: : -1]"
   ]
  },
  {
   "cell_type": "markdown",
   "metadata": {},
   "source": [
    "#### 9. Create a 3x3 matrix with values ranging from 0 to 8 (★☆☆)"
   ]
  },
  {
   "cell_type": "code",
   "execution_count": 10,
   "metadata": {},
   "outputs": [
    {
     "data": {
      "text/plain": [
       "array([[0, 1, 2],\n",
       "       [3, 4, 5],\n",
       "       [6, 7, 8]])"
      ]
     },
     "execution_count": 10,
     "metadata": {},
     "output_type": "execute_result"
    }
   ],
   "source": [
    "np.arange(0, 9).reshape(3,3)  #######"
   ]
  },
  {
   "cell_type": "markdown",
   "metadata": {},
   "source": [
    "#### 10. Find indices of non-zero elements from [1,2,0,0,4,0] (★☆☆)"
   ]
  },
  {
   "cell_type": "code",
   "execution_count": 11,
   "metadata": {},
   "outputs": [
    {
     "name": "stdout",
     "output_type": "stream",
     "text": [
      "0\n",
      "1\n",
      "4\n"
     ]
    },
    {
     "data": {
      "text/plain": [
       "(array([0, 1, 4], dtype=int64),)"
      ]
     },
     "execution_count": 11,
     "metadata": {},
     "output_type": "execute_result"
    }
   ],
   "source": [
    "chk = np.array([1,2,0,0,4,0])\n",
    "\n",
    "# MINE\n",
    "for i, v in enumerate(chk):\n",
    "    if v:\n",
    "        print(i)\n",
    "        \n",
    "# BETTER\n",
    "np.nonzero(chk)  #######"
   ]
  },
  {
   "cell_type": "markdown",
   "metadata": {},
   "source": [
    "Save your progress by commiting your work to Jovian"
   ]
  },
  {
   "cell_type": "code",
   "execution_count": 13,
   "metadata": {},
   "outputs": [],
   "source": [
    "import jovian"
   ]
  },
  {
   "cell_type": "code",
   "execution_count": 14,
   "metadata": {},
   "outputs": [
    {
     "data": {
      "application/javascript": [
       "window.require && require([\"base/js/namespace\"],function(Jupyter){Jupyter.notebook.save_checkpoint()})"
      ],
      "text/plain": [
       "<IPython.core.display.Javascript object>"
      ]
     },
     "metadata": {},
     "output_type": "display_data"
    },
    {
     "name": "stdout",
     "output_type": "stream",
     "text": [
      "[jovian] Updating notebook \"wasif1607/numpy-100-exercises\" on https://jovian.com/\u001b[0m\n",
      "[jovian] Committed successfully! https://jovian.com/wasif1607/numpy-100-exercises\u001b[0m\n"
     ]
    },
    {
     "data": {
      "text/plain": [
       "'https://jovian.com/wasif1607/numpy-100-exercises'"
      ]
     },
     "execution_count": 14,
     "metadata": {},
     "output_type": "execute_result"
    }
   ],
   "source": [
    "jovian.commit(project='numpy-100-exercises')"
   ]
  },
  {
   "cell_type": "markdown",
   "metadata": {},
   "source": [
    "#### 11. Create a 3x3 identity matrix (★☆☆)"
   ]
  },
  {
   "cell_type": "code",
   "execution_count": 12,
   "metadata": {},
   "outputs": [
    {
     "data": {
      "text/plain": [
       "array([[1., 0., 0.],\n",
       "       [0., 1., 0.],\n",
       "       [0., 0., 1.]])"
      ]
     },
     "execution_count": 12,
     "metadata": {},
     "output_type": "execute_result"
    }
   ],
   "source": [
    "np.identity(3)  #######"
   ]
  },
  {
   "cell_type": "markdown",
   "metadata": {},
   "source": [
    "#### 12. Create a 3x3x3 array with random values (★☆☆)"
   ]
  },
  {
   "cell_type": "code",
   "execution_count": 13,
   "metadata": {},
   "outputs": [
    {
     "data": {
      "text/plain": [
       "array([[[0.51584051, 0.03549452, 0.7081078 ],\n",
       "        [0.4818054 , 0.97834197, 0.84568092],\n",
       "        [0.39793477, 0.30737589, 0.5925627 ]],\n",
       "\n",
       "       [[0.42751058, 0.51595464, 0.0428332 ],\n",
       "        [0.67683943, 0.81206842, 0.16769735],\n",
       "        [0.6013393 , 0.24374233, 0.67274556]],\n",
       "\n",
       "       [[0.05252212, 0.21221192, 0.82609707],\n",
       "        [0.55040555, 0.61710917, 0.86487886],\n",
       "        [0.22217735, 0.85925458, 0.98526583]]])"
      ]
     },
     "execution_count": 13,
     "metadata": {},
     "output_type": "execute_result"
    }
   ],
   "source": [
    "np.random.random((3,3,3))  #######"
   ]
  },
  {
   "cell_type": "markdown",
   "metadata": {},
   "source": [
    "#### 13. Create a 10x10 array with random values and find the minimum and maximum values (★☆☆)"
   ]
  },
  {
   "cell_type": "code",
   "execution_count": 14,
   "metadata": {},
   "outputs": [
    {
     "name": "stdout",
     "output_type": "stream",
     "text": [
      "[[2.24260060e-01 7.10183139e-01 3.54567914e-01 3.91925551e-01\n",
      "  5.68454273e-01 4.57729854e-01 5.88401633e-01 3.53365046e-01\n",
      "  5.85515858e-01 5.09099824e-01]\n",
      " [4.28977930e-01 5.19386803e-01 5.42903551e-01 9.51745678e-01\n",
      "  6.07495021e-01 7.44510898e-01 9.99550841e-01 8.38754674e-01\n",
      "  2.19203036e-01 2.13657224e-01]\n",
      " [2.27088175e-01 5.15752022e-01 4.92307989e-02 8.24182923e-01\n",
      "  7.13865120e-01 8.36816557e-01 8.10386764e-01 4.93311868e-01\n",
      "  3.96320755e-01 9.65695180e-01]\n",
      " [5.15864132e-01 8.49160356e-01 3.85915099e-01 8.18378235e-01\n",
      "  5.77746621e-01 7.81349834e-01 4.46864677e-01 2.29662254e-01\n",
      "  8.14394734e-01 5.63685201e-01]\n",
      " [6.44234871e-01 6.11537761e-01 3.97132525e-01 7.95227161e-01\n",
      "  2.83477880e-01 6.95435906e-02 3.72617998e-01 3.67157938e-01\n",
      "  9.60618346e-01 3.84328301e-01]\n",
      " [1.29901368e-01 9.01985239e-01 9.76854190e-01 9.94445221e-01\n",
      "  4.20878557e-01 2.73062764e-02 9.39744904e-02 2.70197335e-01\n",
      "  8.65613164e-01 2.83961569e-01]\n",
      " [7.77049724e-01 9.15307505e-01 2.96698107e-01 2.94076913e-01\n",
      "  5.35150513e-01 9.08690640e-01 3.01986970e-01 3.54986011e-01\n",
      "  6.67671367e-01 1.40330997e-01]\n",
      " [5.20991305e-01 6.53218936e-01 8.82457862e-01 3.61125578e-01\n",
      "  9.50994434e-01 2.97012050e-01 2.08052769e-02 1.99292918e-01\n",
      "  3.33530588e-01 5.60753627e-02]\n",
      " [4.95013988e-01 7.45029995e-01 1.73906344e-01 5.78118785e-01\n",
      "  3.51830577e-01 8.22647958e-01 6.28051333e-01 1.23551649e-01\n",
      "  4.01386067e-02 6.51027758e-01]\n",
      " [1.36522265e-01 4.13199256e-04 8.36080173e-01 9.24131919e-01\n",
      "  2.77060954e-01 7.91458741e-01 2.02407521e-01 2.02094853e-01\n",
      "  6.49893034e-01 1.53105144e-01]]\n",
      "Maximum: 0.9995508407289739\n",
      "Minimum: 0.00041319925647620437\n"
     ]
    }
   ],
   "source": [
    "das = np.random.random((10,10))\n",
    "print(das)\n",
    "print(f\"Maximum: {das.max()}\")  #######\n",
    "print(f\"Minimum: {das.min()}\")  #######"
   ]
  },
  {
   "cell_type": "markdown",
   "metadata": {},
   "source": [
    "#### 14. Create a random vector of size 30 and find the mean value (★☆☆)"
   ]
  },
  {
   "cell_type": "code",
   "execution_count": 15,
   "metadata": {},
   "outputs": [
    {
     "name": "stdout",
     "output_type": "stream",
     "text": [
      "Mean value is: 0.46692515610894336\n"
     ]
    }
   ],
   "source": [
    "men = np.random.random(30)\n",
    "print(f\"Mean value is: {men.mean()}\")  #######"
   ]
  },
  {
   "cell_type": "markdown",
   "metadata": {},
   "source": [
    "#### 15. Create a 2d array with 1 on the border and 0 inside (★☆☆)"
   ]
  },
  {
   "cell_type": "code",
   "execution_count": 16,
   "metadata": {},
   "outputs": [
    {
     "data": {
      "text/plain": [
       "array([[1., 0., 0.],\n",
       "       [0., 0., 1.]])"
      ]
     },
     "execution_count": 16,
     "metadata": {},
     "output_type": "execute_result"
    }
   ],
   "source": [
    "lol = np.zeros((2, 3))\n",
    "lol[0, 0] = lol[-1, -1] = 1\n",
    "lol"
   ]
  },
  {
   "cell_type": "markdown",
   "metadata": {},
   "source": [
    "#### 16. How to add a border (filled with 0's) around an existing array? (★☆☆)"
   ]
  },
  {
   "cell_type": "code",
   "execution_count": 17,
   "metadata": {},
   "outputs": [
    {
     "data": {
      "text/plain": [
       "array([[0.        , 0.        , 0.        , 0.        , 0.        ],\n",
       "       [0.        , 0.12053512, 0.57818216, 0.33379721, 0.        ],\n",
       "       [0.        , 0.81889148, 0.02737188, 0.99265073, 0.        ],\n",
       "       [0.        , 0.00565986, 0.3644728 , 0.11916455, 0.        ],\n",
       "       [0.        , 0.        , 0.        , 0.        , 0.        ]])"
      ]
     },
     "execution_count": 17,
     "metadata": {},
     "output_type": "execute_result"
    }
   ],
   "source": [
    "krte = np.random.random((3,3))\n",
    "np.pad(krte, pad_width=1, mode=\"constant\", constant_values=0)  #######"
   ]
  },
  {
   "cell_type": "markdown",
   "metadata": {},
   "source": [
    "#### 17. What is the result of the following expression? (★☆☆)\n",
    "```python\n",
    "0 * np.nan\n",
    "np.nan == np.nan\n",
    "np.inf > np.nan\n",
    "np.nan - np.nan\n",
    "np.nan in set([np.nan])\n",
    "0.3 == 3 * 0.1\n",
    "```"
   ]
  },
  {
   "cell_type": "code",
   "execution_count": 18,
   "metadata": {},
   "outputs": [
    {
     "name": "stdout",
     "output_type": "stream",
     "text": [
      "nan\n",
      "False\n",
      "False\n",
      "nan\n",
      "False\n"
     ]
    }
   ],
   "source": [
    "print(0 * np.nan)\n",
    "print(np.nan == np.nan)\n",
    "print(np.inf > np.nan)\n",
    "print(np.nan - np.nan)\n",
    "print(0.3 == 3 * 0.1)"
   ]
  },
  {
   "cell_type": "markdown",
   "metadata": {},
   "source": [
    "#### 18. Create a 5x5 matrix with values 1,2,3,4 just below the diagonal (★☆☆)"
   ]
  },
  {
   "cell_type": "code",
   "execution_count": 19,
   "metadata": {},
   "outputs": [
    {
     "name": "stdout",
     "output_type": "stream",
     "text": [
      "Simple: \n",
      "[[0 0 0 0 0]\n",
      " [1 0 0 0 0]\n",
      " [0 2 0 0 0]\n",
      " [0 0 3 0 0]\n",
      " [0 0 0 4 0]]\n",
      "\n",
      "arange: \n",
      "[[0 0 0 0 0]\n",
      " [1 0 0 0 0]\n",
      " [0 2 0 0 0]\n",
      " [0 0 3 0 0]\n",
      " [0 0 0 4 0]]\n"
     ]
    }
   ],
   "source": [
    "a=np.diag((1,2,3,4), k = -1)  # k = -1 mtlb diagonal ki ek neeche wali line\n",
    "# Another approach\n",
    "b = np.diag(np.arange(1, 5), k = -1)  #######\n",
    "print(f\"Simple: \\n{a}\\n\")\n",
    "print(f\"arange: \\n{b}\")"
   ]
  },
  {
   "cell_type": "markdown",
   "metadata": {},
   "source": [
    "#### 19. Create a 8x8 matrix and fill it with a checkerboard pattern (★☆☆)"
   ]
  },
  {
   "cell_type": "code",
   "execution_count": 20,
   "metadata": {},
   "outputs": [
    {
     "data": {
      "text/plain": [
       "array([[1, 0, 1, 0, 1, 0, 1, 0],\n",
       "       [0, 1, 0, 1, 0, 1, 0, 1],\n",
       "       [1, 0, 1, 0, 1, 0, 1, 0],\n",
       "       [0, 1, 0, 1, 0, 1, 0, 1],\n",
       "       [1, 0, 1, 0, 1, 0, 1, 0],\n",
       "       [0, 1, 0, 1, 0, 1, 0, 1],\n",
       "       [1, 0, 1, 0, 1, 0, 1, 0],\n",
       "       [0, 1, 0, 1, 0, 1, 0, 1]])"
      ]
     },
     "execution_count": 20,
     "metadata": {},
     "output_type": "execute_result"
    }
   ],
   "source": [
    "board = np.ones((8, 8), dtype=\"int\")  #######\n",
    "# 1st row, 0th col (1,0) to last skipping 1\n",
    "board[1::2, ::2]= 0\n",
    "# 0th row, 1st col (0,1) to last skipping 1\n",
    "board[::2, 1::2] = 0\n",
    "board"
   ]
  },
  {
   "cell_type": "markdown",
   "metadata": {},
   "source": [
    "#### 20. Consider a (6,7,8) shape array, what is the index (x,y,z) of the 100th element?"
   ]
  },
  {
   "cell_type": "code",
   "execution_count": 21,
   "metadata": {},
   "outputs": [
    {
     "data": {
      "text/plain": [
       "(1, 5, 4)"
      ]
     },
     "execution_count": 21,
     "metadata": {},
     "output_type": "execute_result"
    }
   ],
   "source": [
    "np.unravel_index(100, (6,7,8))  #######"
   ]
  },
  {
   "cell_type": "markdown",
   "metadata": {},
   "source": [
    "Save your progress by commiting your work to Jovian"
   ]
  },
  {
   "cell_type": "code",
   "execution_count": 25,
   "metadata": {},
   "outputs": [],
   "source": [
    "import jovian"
   ]
  },
  {
   "cell_type": "code",
   "execution_count": 26,
   "metadata": {},
   "outputs": [
    {
     "data": {
      "application/javascript": [
       "window.require && require([\"base/js/namespace\"],function(Jupyter){Jupyter.notebook.save_checkpoint()})"
      ],
      "text/plain": [
       "<IPython.core.display.Javascript object>"
      ]
     },
     "metadata": {},
     "output_type": "display_data"
    },
    {
     "name": "stdout",
     "output_type": "stream",
     "text": [
      "[jovian] Updating notebook \"wasif1607/numpy-100-exercises\" on https://jovian.com/\u001b[0m\n",
      "[jovian] Committed successfully! https://jovian.com/wasif1607/numpy-100-exercises\u001b[0m\n"
     ]
    },
    {
     "data": {
      "text/plain": [
       "'https://jovian.com/wasif1607/numpy-100-exercises'"
      ]
     },
     "execution_count": 26,
     "metadata": {},
     "output_type": "execute_result"
    }
   ],
   "source": [
    "jovian.commit()"
   ]
  },
  {
   "cell_type": "markdown",
   "metadata": {},
   "source": [
    "#### 21. Create a checkerboard 8x8 matrix using the tile function (★☆☆)"
   ]
  },
  {
   "cell_type": "code",
   "execution_count": 22,
   "metadata": {},
   "outputs": [
    {
     "data": {
      "text/plain": [
       "array([[0, 1, 0, 1, 0, 1, 0, 1],\n",
       "       [1, 0, 1, 0, 1, 0, 1, 0],\n",
       "       [0, 1, 0, 1, 0, 1, 0, 1],\n",
       "       [1, 0, 1, 0, 1, 0, 1, 0],\n",
       "       [0, 1, 0, 1, 0, 1, 0, 1],\n",
       "       [1, 0, 1, 0, 1, 0, 1, 0],\n",
       "       [0, 1, 0, 1, 0, 1, 0, 1],\n",
       "       [1, 0, 1, 0, 1, 0, 1, 0]])"
      ]
     },
     "execution_count": 22,
     "metadata": {},
     "output_type": "execute_result"
    }
   ],
   "source": [
    "temp = np.array([[0,1],\n",
    "                 [1,0]])\n",
    "np.tile(temp, (4,4))  #######"
   ]
  },
  {
   "cell_type": "markdown",
   "metadata": {},
   "source": [
    "#### 22. Normalize a 5x5 random matrix (★☆☆)"
   ]
  },
  {
   "cell_type": "code",
   "execution_count": 23,
   "metadata": {},
   "outputs": [
    {
     "name": "stdout",
     "output_type": "stream",
     "text": [
      "Original array: \n",
      "[[0.39822066 0.98448804 0.51808006 0.10454417 0.67995165]\n",
      " [0.03599363 0.09127921 0.99317818 0.56313218 0.67624116]\n",
      " [0.62640157 0.44142131 0.97377244 0.5310007  0.53478063]\n",
      " [0.91126922 0.03650581 0.82529463 0.04444813 0.80048491]\n",
      " [0.34910543 0.78121931 0.80707182 0.98210207 0.90591562]]\n",
      "Normalized array: \n",
      "[[3.78429667e-01 9.90921141e-01 5.03650449e-01 7.16168442e-02\n",
      "  6.72762660e-01]\n",
      " [0.00000000e+00 5.77585402e-02 1.00000000e+00 5.50717783e-01\n",
      "  6.68886194e-01]\n",
      " [6.16817252e-01 4.23562702e-01 9.79726233e-01 5.17149043e-01\n",
      "  5.21098048e-01]\n",
      " [9.14427198e-01 5.35086197e-04 8.24606914e-01 8.83267599e-03\n",
      "  7.98687439e-01]\n",
      " [3.27117483e-01 7.78560075e-01 8.05568988e-01 9.88428446e-01\n",
      "  9.08834134e-01]]\n"
     ]
    }
   ],
   "source": [
    "norm = np.random.random((5,5))\n",
    "print(f\"Original array: \\n{norm}\")\n",
    "maxi, mini = norm.max(), norm.min()\n",
    "norm = (norm - mini)/(maxi - mini)\n",
    "print(f\"Normalized array: \\n{norm}\")"
   ]
  },
  {
   "cell_type": "markdown",
   "metadata": {},
   "source": [
    "#### 23. Create a custom dtype that describes a color as four unsigned bytes (RGBA) (★☆☆)"
   ]
  },
  {
   "cell_type": "code",
   "execution_count": 24,
   "metadata": {},
   "outputs": [
    {
     "name": "stdout",
     "output_type": "stream",
     "text": [
      "[('red', 'u1'), ('green', 'u1'), ('blue', 'u1'), ('alpha', 'u1')]\n",
      "(1, 2, 4, 3)\n",
      "4\n"
     ]
    },
    {
     "data": {
      "text/plain": [
       "numpy.ndarray"
      ]
     },
     "execution_count": 24,
     "metadata": {},
     "output_type": "execute_result"
    }
   ],
   "source": [
    "RGBA = np.dtype([('red',np.uint8),('green',np.uint8),('blue',np.uint8),('alpha',np.uint8)])  #######\n",
    "print(RGBA)\n",
    "color = np.array((1,2,4,3),dtype = RGBA)\n",
    "print(color)\n",
    "print((color['blue']))\n",
    "type(color)"
   ]
  },
  {
   "cell_type": "markdown",
   "metadata": {},
   "source": [
    "#### 24. Multiply a 5x3 matrix by a 3x2 matrix (real matrix product) (★☆☆)"
   ]
  },
  {
   "cell_type": "code",
   "execution_count": 25,
   "metadata": {},
   "outputs": [
    {
     "name": "stdout",
     "output_type": "stream",
     "text": [
      "a: \n",
      " [[ 0  2  4]\n",
      " [ 6  8 10]\n",
      " [12 14 16]\n",
      " [18 20 22]\n",
      " [24 26 28]]\n",
      "b: \n",
      " [[ 0  2]\n",
      " [ 4  6]\n",
      " [ 8 10]]\n",
      "ans: \n",
      " [[ 40  52]\n",
      " [112 160]\n",
      " [184 268]\n",
      " [256 376]\n",
      " [328 484]]\n"
     ]
    }
   ],
   "source": [
    "a = np.arange(0, 30, 2).reshape(5,3)\n",
    "print(\"a: \\n\", a)\n",
    "b = np.arange(0, 12, 2).reshape(3, 2)\n",
    "print(\"b: \\n\", b)\n",
    "\n",
    "ans = a @ b  ####### # or we can use np.matmul(a,b)\n",
    "print(\"ans: \\n\", ans)"
   ]
  },
  {
   "cell_type": "markdown",
   "metadata": {},
   "source": [
    "#### 25. Given a 1D array, negate all elements which are between 3 and 8, in place. (★☆☆)"
   ]
  },
  {
   "cell_type": "code",
   "execution_count": 26,
   "metadata": {},
   "outputs": [
    {
     "name": "stdout",
     "output_type": "stream",
     "text": [
      "[False False  True  True  True  True  True  True  True]\n",
      "[3 4 5 6 7 8]\n",
      "[ 1  2 -3 -4 -5 -6 -7 -8  9]\n"
     ]
    }
   ],
   "source": [
    "hehe = np.arange(1,10)\n",
    "print(hehe >= 3)  # No need of for loop in numpy, it will return an array of True and False\n",
    "print(hehe[(hehe>=3) & (hehe<=8)])\n",
    "hehe[(hehe>=3) & (hehe<=8)] *= (-1)\n",
    "print(hehe)"
   ]
  },
  {
   "cell_type": "markdown",
   "metadata": {},
   "source": [
    "#### 26. What is the output of the following script? (★☆☆)\n",
    "```python\n",
    "# Author: Jake VanderPlas\n",
    "\n",
    "print(sum(range(5),-1))\n",
    "from numpy import *\n",
    "print(sum(range(5),-1))\n",
    "```"
   ]
  },
  {
   "cell_type": "code",
   "execution_count": 27,
   "metadata": {},
   "outputs": [
    {
     "name": "stdout",
     "output_type": "stream",
     "text": [
      "9\n",
      "10\n"
     ]
    }
   ],
   "source": [
    "print(sum(range(5),-1))  # sum(iterable, starting)\n",
    "from numpy import *\n",
    "print(sum(range(5),-1))"
   ]
  },
  {
   "cell_type": "markdown",
   "metadata": {},
   "source": [
    "#### 27. Consider an integer vector Z, which of these expressions are legal? (★☆☆)\n",
    "```python\n",
    "Z**Z\n",
    "2 << Z >> 2\n",
    "Z <- Z\n",
    "1j*Z\n",
    "Z/1/1\n",
    "Z<Z>Z\n",
    "```"
   ]
  },
  {
   "cell_type": "code",
   "execution_count": 28,
   "metadata": {},
   "outputs": [
    {
     "name": "stdout",
     "output_type": "stream",
     "text": [
      "[1 2 3 4 5 6]\n",
      "[    1     4    27   256  3125 46656]\n",
      "[ 1  2  4  8 16 32]\n",
      "[False False False False False False]\n",
      "[0.+1.j 0.+2.j 0.+3.j 0.+4.j 0.+5.j 0.+6.j]\n",
      "[1. 2. 3. 4. 5. 6.]\n"
     ]
    },
    {
     "ename": "ValueError",
     "evalue": "The truth value of an array with more than one element is ambiguous. Use a.any() or a.all()",
     "output_type": "error",
     "traceback": [
      "\u001b[1;31m---------------------------------------------------------------------------\u001b[0m",
      "\u001b[1;31mValueError\u001b[0m                                Traceback (most recent call last)",
      "Cell \u001b[1;32mIn[28], line 8\u001b[0m\n\u001b[0;32m      6\u001b[0m \u001b[38;5;28mprint\u001b[39m(\u001b[38;5;241m1\u001b[39mj \u001b[38;5;241m*\u001b[39m Z)  \u001b[38;5;66;03m# LEGAL\u001b[39;00m\n\u001b[0;32m      7\u001b[0m \u001b[38;5;28mprint\u001b[39m(Z \u001b[38;5;241m/\u001b[39m \u001b[38;5;241m1\u001b[39m \u001b[38;5;241m/\u001b[39m \u001b[38;5;241m1\u001b[39m)  \u001b[38;5;66;03m# LEGAL\u001b[39;00m\n\u001b[1;32m----> 8\u001b[0m \u001b[38;5;28mprint\u001b[39m(Z \u001b[38;5;241m<\u001b[39m Z \u001b[38;5;241m>\u001b[39m Z)\n",
      "\u001b[1;31mValueError\u001b[0m: The truth value of an array with more than one element is ambiguous. Use a.any() or a.all()"
     ]
    }
   ],
   "source": [
    "Z = np.arange(1,7)\n",
    "print(Z)\n",
    "print(Z ** Z)  # LEGAL\n",
    "print(2 << Z >> 2)  # LEGAL\n",
    "print(Z <- Z)  # LEGAL\n",
    "print(1j * Z)  # LEGAL\n",
    "print(Z / 1 / 1)  # LEGAL\n",
    "print(Z < Z > Z)  # ILLEGAL"
   ]
  },
  {
   "cell_type": "markdown",
   "metadata": {},
   "source": [
    "#### 28. What are the result of the following expressions?\n",
    "```python\n",
    "np.array(0) / np.array(0)\n",
    "np.array(0) // np.array(0)\n",
    "np.array([np.nan]).astype(int).astype(float)\n",
    "```"
   ]
  },
  {
   "cell_type": "code",
   "execution_count": 29,
   "metadata": {},
   "outputs": [
    {
     "name": "stdout",
     "output_type": "stream",
     "text": [
      "nan\n",
      "0\n",
      "[-2.14748365e+09]\n"
     ]
    },
    {
     "name": "stderr",
     "output_type": "stream",
     "text": [
      "C:\\Users\\91831\\AppData\\Local\\Temp\\ipykernel_12676\\1639629202.py:1: RuntimeWarning: invalid value encountered in divide\n",
      "  print(np.array(0)/np.array(0))  # nan\n",
      "C:\\Users\\91831\\AppData\\Local\\Temp\\ipykernel_12676\\1639629202.py:2: RuntimeWarning: divide by zero encountered in floor_divide\n",
      "  print(np.array(0) // np.array(0))  # 0\n",
      "C:\\Users\\91831\\AppData\\Local\\Temp\\ipykernel_12676\\1639629202.py:3: RuntimeWarning: invalid value encountered in cast\n",
      "  print(np.array([np.nan]).astype(int).astype(float))  # [-2.14748365e+09]\n"
     ]
    }
   ],
   "source": [
    "print(np.array(0)/np.array(0))  # nan\n",
    "print(np.array(0) // np.array(0))  # 0\n",
    "print(np.array([np.nan]).astype(int).astype(float))  # [-2.14748365e+09]"
   ]
  },
  {
   "cell_type": "markdown",
   "metadata": {},
   "source": [
    "#### 29. How to round away from zero a float array ? (★☆☆)"
   ]
  },
  {
   "cell_type": "code",
   "execution_count": 30,
   "metadata": {},
   "outputs": [
    {
     "name": "stdout",
     "output_type": "stream",
     "text": [
      "[[0.48293066 0.80492369 0.89010766 0.26305197]\n",
      " [0.33461164 0.42490014 0.03310292 0.71158736]\n",
      " [0.74670911 0.38593544 0.2533976  0.16523698]]\n",
      "[[0.48 0.8  0.89 0.26]\n",
      " [0.33 0.42 0.03 0.71]\n",
      " [0.75 0.39 0.25 0.17]]\n"
     ]
    }
   ],
   "source": [
    "arr = np.random.random((3,4))\n",
    "print(arr)\n",
    "arr = np.round(arr, 2)  #######  # 2 decimal places here\n",
    "print(arr)"
   ]
  },
  {
   "cell_type": "markdown",
   "metadata": {},
   "source": [
    "#### 30. How to find common values between two arrays? (★☆☆)"
   ]
  },
  {
   "cell_type": "code",
   "execution_count": 31,
   "metadata": {},
   "outputs": [
    {
     "name": "stdout",
     "output_type": "stream",
     "text": [
      "[[ 0  2]\n",
      " [ 4  6]\n",
      " [ 8 10]\n",
      " [12 14]]\n",
      "[[ 0  3  6  9]\n",
      " [12 15 18 21]]\n",
      "[ 0  6 12]\n"
     ]
    }
   ],
   "source": [
    "a = np.arange(0, 15, 2).reshape(4,2)\n",
    "print(a)\n",
    "b = np.arange(0, 22, 3).reshape(2,4)\n",
    "print(b)\n",
    "print(np.intersect1d(a, b))  #######"
   ]
  },
  {
   "cell_type": "markdown",
   "metadata": {},
   "source": [
    "Save your progress by commiting your work to Jovian"
   ]
  },
  {
   "cell_type": "code",
   "execution_count": null,
   "metadata": {},
   "outputs": [],
   "source": [
    "import jovian"
   ]
  },
  {
   "cell_type": "code",
   "execution_count": null,
   "metadata": {},
   "outputs": [],
   "source": [
    "jovian.commit()"
   ]
  },
  {
   "cell_type": "markdown",
   "metadata": {},
   "source": [
    "#### 31. How to ignore all numpy warnings (not recommended)? (★☆☆)"
   ]
  },
  {
   "cell_type": "code",
   "execution_count": 32,
   "metadata": {},
   "outputs": [
    {
     "name": "stderr",
     "output_type": "stream",
     "text": [
      "C:\\Users\\91831\\AppData\\Local\\Temp\\ipykernel_12676\\2584743330.py:4: RuntimeWarning: All-NaN slice encountered\n",
      "  np.nanmedian(data, axis=[1, 2])  # This statement bascially triggers a warning.\n"
     ]
    },
    {
     "data": {
      "text/plain": [
       "array([nan, nan, nan, nan, nan, nan, nan, nan, nan, nan])"
      ]
     },
     "execution_count": 32,
     "metadata": {},
     "output_type": "execute_result"
    }
   ],
   "source": [
    "data = np.random.random(1000).reshape(10, 10,10) * np.nan\n",
    "np.seterr(all=\"ignore\")  ####### # Seterr function comes handy for control of warnings.\n",
    "# Here all='ignore' helps in ignoring any type of warnings we might encounter.\n",
    "np.nanmedian(data, axis=[1, 2])  # This statement bascially triggers a warning."
   ]
  },
  {
   "cell_type": "markdown",
   "metadata": {},
   "source": [
    "#### 32. Is the following expressions true? (★☆☆)\n",
    "```python\n",
    "np.sqrt(-1) == np.emath.sqrt(-1)\n",
    "```"
   ]
  },
  {
   "cell_type": "code",
   "execution_count": 33,
   "metadata": {},
   "outputs": [
    {
     "name": "stdout",
     "output_type": "stream",
     "text": [
      "nan\n",
      "1j\n",
      "False\n"
     ]
    }
   ],
   "source": [
    "print(np.sqrt(-1))  #######\n",
    "print(np.emath.sqrt(-1))  #######\n",
    "print(np.sqrt(-1) == np.emath.sqrt(-1))"
   ]
  },
  {
   "cell_type": "markdown",
   "metadata": {},
   "source": [
    "#### 33. How to get the dates of yesterday, today and tomorrow? (★☆☆)"
   ]
  },
  {
   "cell_type": "code",
   "execution_count": 34,
   "metadata": {},
   "outputs": [
    {
     "name": "stdout",
     "output_type": "stream",
     "text": [
      "Today  2023-06-19\n",
      "Yesterday  2023-06-18\n",
      "Tomorrow 2023-06-20\n"
     ]
    }
   ],
   "source": [
    "today = np.datetime64(\"today\", \"D\")  #######\n",
    "print(\"Today \", today)\n",
    "yesterday = np.datetime64(\"today\", \"D\") - np.timedelta64(1, \"D\")  #######\n",
    "print(\"Yesterday \", yesterday)\n",
    "tomorrow = np.datetime64(\"today\", \"D\") + np.timedelta64(1, \"D\")\n",
    "print(\"Tomorrow\", tomorrow)"
   ]
  },
  {
   "cell_type": "markdown",
   "metadata": {},
   "source": [
    "#### 34. How to get all the dates corresponding to the month of July 2016? (★★☆)"
   ]
  },
  {
   "cell_type": "code",
   "execution_count": 35,
   "metadata": {},
   "outputs": [
    {
     "name": "stdout",
     "output_type": "stream",
     "text": [
      "July 2016\n",
      "['2016-07-01' '2016-07-02' '2016-07-03' '2016-07-04' '2016-07-05'\n",
      " '2016-07-06' '2016-07-07' '2016-07-08' '2016-07-09' '2016-07-10'\n",
      " '2016-07-11' '2016-07-12' '2016-07-13' '2016-07-14' '2016-07-15'\n",
      " '2016-07-16' '2016-07-17' '2016-07-18' '2016-07-19' '2016-07-20'\n",
      " '2016-07-21' '2016-07-22' '2016-07-23' '2016-07-24' '2016-07-25'\n",
      " '2016-07-26' '2016-07-27' '2016-07-28' '2016-07-29' '2016-07-30'\n",
      " '2016-07-31']\n"
     ]
    }
   ],
   "source": [
    "print(\"July 2016\")\n",
    "print(np.arange(\"2016-07\", \"2016-08\", dtype=\"datetime64[D]\"))  #######"
   ]
  },
  {
   "cell_type": "markdown",
   "metadata": {},
   "source": [
    "#### 35. How to compute ((A+B)*(-A/2)) in place (without copy)? (★★☆)"
   ]
  },
  {
   "cell_type": "code",
   "execution_count": 36,
   "metadata": {},
   "outputs": [
    {
     "name": "stdout",
     "output_type": "stream",
     "text": [
      "[1. 1. 1.]\n",
      "[2. 2. 2.]\n",
      "[3. 3. 3.]\n",
      "[3. 3. 3.]\n",
      "[0.5 0.5 0.5]\n",
      "[-0.5 -0.5 -0.5]\n",
      "-4.5\n"
     ]
    }
   ],
   "source": [
    "A = np.ones(3)*1\n",
    "print(A)\n",
    "B = np.ones(3)*2\n",
    "print(B)\n",
    "C = np.ones(3)*3\n",
    "print(C)\n",
    "print(np.add(A,B,out=B))  ####### # Here, B doesn't forms a copy it gets changed in place\n",
    "print(np.divide(A,2,out=A))  #######\n",
    "print(np.negative(A,out=A))  #######\n",
    "print(np.dot(A,B))  #######"
   ]
  },
  {
   "cell_type": "markdown",
   "metadata": {},
   "source": [
    "#### 36. Extract the integer part of a random array of positive numbers using 4 different methods (★★☆)"
   ]
  },
  {
   "cell_type": "code",
   "execution_count": 37,
   "metadata": {},
   "outputs": [
    {
     "name": "stdout",
     "output_type": "stream",
     "text": [
      "[[ 0.88558737  4.20640611  7.81693936  1.0806684   7.94849042]\n",
      " [10.78832788  6.96264015  2.16247045 12.84868569  1.62682782]\n",
      " [ 1.05863537  1.05655156  1.07893528  8.09369263  5.80998935]\n",
      " [ 6.70365722  8.60662181  2.78822776 12.59159887  9.21637703]\n",
      " [11.10682158 12.10284172  3.66450996  6.57051356  6.77460498]]\n",
      "[[ 0.  4.  7.  1.  7.]\n",
      " [10.  6.  2. 12.  1.]\n",
      " [ 1.  1.  1.  8.  5.]\n",
      " [ 6.  8.  2. 12.  9.]\n",
      " [11. 12.  3.  6.  6.]]\n",
      "[[ 0.  4.  7.  1.  7.]\n",
      " [10.  6.  2. 12.  1.]\n",
      " [ 1.  1.  1.  8.  5.]\n",
      " [ 6.  8.  2. 12.  9.]\n",
      " [11. 12.  3.  6.  6.]]\n",
      "[[ 0.  4.  7.  1.  7.]\n",
      " [10.  6.  2. 12.  1.]\n",
      " [ 1.  1.  1.  8.  5.]\n",
      " [ 6.  8.  2. 12.  9.]\n",
      " [11. 12.  3.  6.  6.]]\n",
      "[[ 0  4  7  1  7]\n",
      " [10  6  2 12  1]\n",
      " [ 1  1  1  8  5]\n",
      " [ 6  8  2 12  9]\n",
      " [11 12  3  6  6]]\n"
     ]
    }
   ],
   "source": [
    "Z = np.random.uniform(0.5, 13.3, (5,5))  ####### # To generate random no's from given range\n",
    "print(Z)\n",
    "print(Z - Z % 1)\n",
    "print(np.floor(Z))\n",
    "print(np.ceil(Z) - 1)\n",
    "print (Z.astype(int))  #######"
   ]
  },
  {
   "cell_type": "markdown",
   "metadata": {},
   "source": [
    "#### 37. Create a 5x5 matrix with row values ranging from 0 to 4 (★★☆)"
   ]
  },
  {
   "cell_type": "code",
   "execution_count": 38,
   "metadata": {},
   "outputs": [
    {
     "name": "stdout",
     "output_type": "stream",
     "text": [
      "[[0. 0. 0. 0. 0.]\n",
      " [0. 0. 0. 0. 0.]\n",
      " [0. 0. 0. 0. 0.]\n",
      " [0. 0. 0. 0. 0.]\n",
      " [0. 0. 0. 0. 0.]]\n",
      "[[0. 1. 2. 3. 4.]\n",
      " [0. 1. 2. 3. 4.]\n",
      " [0. 1. 2. 3. 4.]\n",
      " [0. 1. 2. 3. 4.]\n",
      " [0. 1. 2. 3. 4.]]\n"
     ]
    }
   ],
   "source": [
    "new = np.zeros((5, 5))\n",
    "print(new)\n",
    "new += np.arange(5)\n",
    "print(new)"
   ]
  },
  {
   "cell_type": "markdown",
   "metadata": {},
   "source": [
    "#### 38. Consider a generator function that generates 10 integers and use it to build an array (★☆☆)"
   ]
  },
  {
   "cell_type": "code",
   "execution_count": 39,
   "metadata": {},
   "outputs": [
    {
     "name": "stdout",
     "output_type": "stream",
     "text": [
      "[0. 1. 2. 3. 4. 5. 6. 7. 8. 9.]\n"
     ]
    }
   ],
   "source": [
    "def generate():\n",
    "    for x in range(10):\n",
    "        yield x\n",
    "Z = np.fromiter(generate(),dtype=float,count=-1)  ####### # -1 == 10 here, -1 means ki last element tak jaana hai\n",
    "print(Z)"
   ]
  },
  {
   "cell_type": "markdown",
   "metadata": {},
   "source": [
    "#### 39. Create a vector of size 10 with values ranging from 0 to 1, both excluded (★★☆)"
   ]
  },
  {
   "cell_type": "code",
   "execution_count": 40,
   "metadata": {},
   "outputs": [
    {
     "name": "stdout",
     "output_type": "stream",
     "text": [
      "[0.09090909 0.18181818 0.27272727 0.36363636 0.45454545 0.54545455\n",
      " 0.63636364 0.72727273 0.81818182 0.90909091]\n"
     ]
    }
   ],
   "source": [
    "# np.random.uniform(0, 1, 10)\n",
    "Z = np.linspace(0, 1, 11, endpoint=False)[1:]  ####### # [1:] to exclude first element (0 here), endpoint=False to print more decimal places\n",
    "print(Z)"
   ]
  },
  {
   "cell_type": "markdown",
   "metadata": {},
   "source": [
    "#### 40. Create a random vector of size 10 and sort it (★★☆)"
   ]
  },
  {
   "cell_type": "code",
   "execution_count": 41,
   "metadata": {},
   "outputs": [
    {
     "name": "stdout",
     "output_type": "stream",
     "text": [
      "[0.10049045 0.11300933 0.12727175 0.20656848 0.21300918 0.4336693\n",
      " 0.80561713 0.82511759 0.88201101 0.99209825]\n"
     ]
    }
   ],
   "source": [
    "k = np.random.random(10)\n",
    "k.sort() #######\n",
    "print(k)"
   ]
  },
  {
   "cell_type": "markdown",
   "metadata": {},
   "source": [
    "Save your progress by commiting your work to Jovian"
   ]
  },
  {
   "cell_type": "code",
   "execution_count": 145,
   "metadata": {},
   "outputs": [],
   "source": [
    "import jovian"
   ]
  },
  {
   "cell_type": "code",
   "execution_count": 146,
   "metadata": {},
   "outputs": [
    {
     "data": {
      "application/javascript": [
       "window.require && require([\"base/js/namespace\"],function(Jupyter){Jupyter.notebook.save_checkpoint()})"
      ],
      "text/plain": [
       "<IPython.core.display.Javascript object>"
      ]
     },
     "metadata": {},
     "output_type": "display_data"
    },
    {
     "name": "stdout",
     "output_type": "stream",
     "text": [
      "[jovian] Updating notebook \"wasif1607/numpy-100-exercises\" on https://jovian.com/\u001b[0m\n",
      "[jovian] Committed successfully! https://jovian.com/wasif1607/numpy-100-exercises\u001b[0m\n"
     ]
    },
    {
     "data": {
      "text/plain": [
       "'https://jovian.com/wasif1607/numpy-100-exercises'"
      ]
     },
     "execution_count": 146,
     "metadata": {},
     "output_type": "execute_result"
    }
   ],
   "source": [
    "jovian.commit()"
   ]
  },
  {
   "cell_type": "markdown",
   "metadata": {},
   "source": [
    "#### 41. How to sum a small array faster than np.sum? (★★☆)"
   ]
  },
  {
   "cell_type": "code",
   "execution_count": 42,
   "metadata": {},
   "outputs": [
    {
     "data": {
      "text/plain": [
       "10"
      ]
     },
     "execution_count": 42,
     "metadata": {},
     "output_type": "execute_result"
    }
   ],
   "source": [
    "import functools as ft\n",
    "Z = np.arange(5)\n",
    "# np.add.reduce(Z)  #######\n",
    "ft.reduce(np.add,Z,0)"
   ]
  },
  {
   "cell_type": "markdown",
   "metadata": {},
   "source": [
    "#### 42. Consider two random array A and B, check if they are equal (★★☆)"
   ]
  },
  {
   "cell_type": "code",
   "execution_count": 43,
   "metadata": {},
   "outputs": [
    {
     "name": "stdout",
     "output_type": "stream",
     "text": [
      "[0 0 0 0 1]\n",
      "************************************************************\n",
      "[0 0 1 0 1]\n",
      "************************************************************\n",
      "False\n",
      "False\n"
     ]
    }
   ],
   "source": [
    "A = np.random.randint(0,2,5)  #######\n",
    "B = np.random.randint(0,2,5)\n",
    "print(A)\n",
    "print('*'*60)\n",
    "print(B)\n",
    "print('*'*60)\n",
    "# Assuming identical shape of the arrays and a tolerance for the comparison of values\n",
    "equal = np.allclose(A,B)  #######\n",
    "print(equal)\n",
    "\n",
    "# Checking both the shape and the element values, no tolerance (values have to be exactly equal)\n",
    "equal = np.array_equal(A,B)  #######\n",
    "print(equal)"
   ]
  },
  {
   "cell_type": "markdown",
   "metadata": {},
   "source": [
    "#### 43. Make an array immutable (read-only) (★★☆)"
   ]
  },
  {
   "cell_type": "code",
   "execution_count": 44,
   "metadata": {},
   "outputs": [
    {
     "ename": "ValueError",
     "evalue": "assignment destination is read-only",
     "output_type": "error",
     "traceback": [
      "\u001b[1;31m---------------------------------------------------------------------------\u001b[0m",
      "\u001b[1;31mValueError\u001b[0m                                Traceback (most recent call last)",
      "Cell \u001b[1;32mIn[44], line 3\u001b[0m\n\u001b[0;32m      1\u001b[0m Z \u001b[38;5;241m=\u001b[39m np\u001b[38;5;241m.\u001b[39mzeros(\u001b[38;5;241m10\u001b[39m)\n\u001b[0;32m      2\u001b[0m Z\u001b[38;5;241m.\u001b[39mflags\u001b[38;5;241m.\u001b[39mwriteable \u001b[38;5;241m=\u001b[39m \u001b[38;5;28;01mFalse\u001b[39;00m  \u001b[38;5;66;03m#######\u001b[39;00m\n\u001b[1;32m----> 3\u001b[0m Z[\u001b[38;5;241m0\u001b[39m] \u001b[38;5;241m=\u001b[39m \u001b[38;5;241m1\u001b[39m\n",
      "\u001b[1;31mValueError\u001b[0m: assignment destination is read-only"
     ]
    }
   ],
   "source": [
    "Z = np.zeros(10)\n",
    "Z.flags.writeable = False  #######\n",
    "Z[0] = 1"
   ]
  },
  {
   "cell_type": "markdown",
   "metadata": {},
   "source": [
    "#### 44. Consider a random 10x2 matrix representing cartesian coordinates, convert them to polar coordinates (★★☆)"
   ]
  },
  {
   "cell_type": "code",
   "execution_count": 45,
   "metadata": {},
   "outputs": [
    {
     "name": "stdout",
     "output_type": "stream",
     "text": [
      "z:  [[4 7]\n",
      " [8 4]\n",
      " [6 3]\n",
      " [7 7]\n",
      " [4 6]\n",
      " [5 1]\n",
      " [7 6]\n",
      " [1 8]\n",
      " [0 3]\n",
      " [4 8]]\n",
      "x:  [4 8 6 7 4 5 7 1 0 4]\n",
      "y:  [7 4 3 7 6 1 6 8 3 8]\n",
      "r:  [8.06225775 8.94427191 6.70820393 9.89949494 7.21110255 5.09901951\n",
      " 9.21954446 8.06225775 3.         8.94427191]\n",
      "t:  [1.05165021 0.46364761 0.46364761 0.78539816 0.98279372 0.19739556\n",
      " 0.70862627 1.44644133 1.57079633 1.10714872]\n",
      "[[8.06225775 1.05165021]\n",
      " [8.94427191 0.46364761]\n",
      " [6.70820393 0.46364761]\n",
      " [9.89949494 0.78539816]\n",
      " [7.21110255 0.98279372]\n",
      " [5.09901951 0.19739556]\n",
      " [9.21954446 0.70862627]\n",
      " [8.06225775 1.44644133]\n",
      " [3.         1.57079633]\n",
      " [8.94427191 1.10714872]]\n"
     ]
    }
   ],
   "source": [
    "z= np.random.randint(0,9,(10,2))\n",
    "print(\"z: \", z)\n",
    "x,y = z[:,0], z[:,1]\n",
    "print(\"x: \", x)\n",
    "print(\"y: \", y)\n",
    "r = np.sqrt(x**2+y**2)  #######\n",
    "print(\"r: \", r)\n",
    "\"\"\"The numpy.arctan2() method computes element-wise arc tangent of arr1/arr2 choosing the quadrant correctly.\n",
    "The quadrant is chosen so that arctan2(x1, x2) is the signed angle in radians between the ray ending at theorigin\n",
    "and passing through the point (1, 0), and the ray ending at the origin and passing through the point (x2, x1).\"\"\"\n",
    "t = np.arctan2(y,x)\n",
    "print(\"t: \", t)\n",
    "\"\"\"np.c_ takes two arrays and concatenate them coulmn-wise making them 2-D\"\"\"\n",
    "poles = np.c_[r,t]\n",
    "print(poles)"
   ]
  },
  {
   "cell_type": "markdown",
   "metadata": {},
   "source": [
    "#### 45. Create random vector of size 10 and replace the maximum value by 0 (★★☆)"
   ]
  },
  {
   "cell_type": "code",
   "execution_count": 46,
   "metadata": {},
   "outputs": [
    {
     "name": "stdout",
     "output_type": "stream",
     "text": [
      "[5 7 8 7 1 1 4]\n",
      "2\n",
      "[5 7 0 7 1 1 4]\n"
     ]
    }
   ],
   "source": [
    "t = np.random.randint(1,10, 7)  # 1 to 10 is range seletion of random no, and 7 is size in 1D\n",
    "print(t)\n",
    "print(t.argmax())  ####### # Gives index of max value\n",
    "t[t.argmax()] = 0\n",
    "print(t)"
   ]
  },
  {
   "cell_type": "markdown",
   "metadata": {},
   "source": [
    "#### 46. Create a structured array with `x` and `y` coordinates covering the [0,1]x[0,1] area (★★☆)"
   ]
  },
  {
   "cell_type": "code",
   "execution_count": 47,
   "metadata": {},
   "outputs": [
    {
     "name": "stdout",
     "output_type": "stream",
     "text": [
      "Z: \n",
      " [[(0., 0.) (0., 0.) (0., 0.) (0., 0.) (0., 0.) (0., 0.) (0., 0.) (0., 0.)\n",
      "  (0., 0.) (0., 0.)]\n",
      " [(0., 0.) (0., 0.) (0., 0.) (0., 0.) (0., 0.) (0., 0.) (0., 0.) (0., 0.)\n",
      "  (0., 0.) (0., 0.)]\n",
      " [(0., 0.) (0., 0.) (0., 0.) (0., 0.) (0., 0.) (0., 0.) (0., 0.) (0., 0.)\n",
      "  (0., 0.) (0., 0.)]\n",
      " [(0., 0.) (0., 0.) (0., 0.) (0., 0.) (0., 0.) (0., 0.) (0., 0.) (0., 0.)\n",
      "  (0., 0.) (0., 0.)]\n",
      " [(0., 0.) (0., 0.) (0., 0.) (0., 0.) (0., 0.) (0., 0.) (0., 0.) (0., 0.)\n",
      "  (0., 0.) (0., 0.)]\n",
      " [(0., 0.) (0., 0.) (0., 0.) (0., 0.) (0., 0.) (0., 0.) (0., 0.) (0., 0.)\n",
      "  (0., 0.) (0., 0.)]\n",
      " [(0., 0.) (0., 0.) (0., 0.) (0., 0.) (0., 0.) (0., 0.) (0., 0.) (0., 0.)\n",
      "  (0., 0.) (0., 0.)]\n",
      " [(0., 0.) (0., 0.) (0., 0.) (0., 0.) (0., 0.) (0., 0.) (0., 0.) (0., 0.)\n",
      "  (0., 0.) (0., 0.)]\n",
      " [(0., 0.) (0., 0.) (0., 0.) (0., 0.) (0., 0.) (0., 0.) (0., 0.) (0., 0.)\n",
      "  (0., 0.) (0., 0.)]\n",
      " [(0., 0.) (0., 0.) (0., 0.) (0., 0.) (0., 0.) (0., 0.) (0., 0.) (0., 0.)\n",
      "  (0., 0.) (0., 0.)]]\n",
      "[[(0.        , 0.        ) (0.11111111, 0.        )\n",
      "  (0.22222222, 0.        ) (0.33333333, 0.        )\n",
      "  (0.44444444, 0.        ) (0.55555556, 0.        )\n",
      "  (0.66666667, 0.        ) (0.77777778, 0.        )\n",
      "  (0.88888889, 0.        ) (1.        , 0.        )]\n",
      " [(0.        , 0.11111111) (0.11111111, 0.11111111)\n",
      "  (0.22222222, 0.11111111) (0.33333333, 0.11111111)\n",
      "  (0.44444444, 0.11111111) (0.55555556, 0.11111111)\n",
      "  (0.66666667, 0.11111111) (0.77777778, 0.11111111)\n",
      "  (0.88888889, 0.11111111) (1.        , 0.11111111)]\n",
      " [(0.        , 0.22222222) (0.11111111, 0.22222222)\n",
      "  (0.22222222, 0.22222222) (0.33333333, 0.22222222)\n",
      "  (0.44444444, 0.22222222) (0.55555556, 0.22222222)\n",
      "  (0.66666667, 0.22222222) (0.77777778, 0.22222222)\n",
      "  (0.88888889, 0.22222222) (1.        , 0.22222222)]\n",
      " [(0.        , 0.33333333) (0.11111111, 0.33333333)\n",
      "  (0.22222222, 0.33333333) (0.33333333, 0.33333333)\n",
      "  (0.44444444, 0.33333333) (0.55555556, 0.33333333)\n",
      "  (0.66666667, 0.33333333) (0.77777778, 0.33333333)\n",
      "  (0.88888889, 0.33333333) (1.        , 0.33333333)]\n",
      " [(0.        , 0.44444444) (0.11111111, 0.44444444)\n",
      "  (0.22222222, 0.44444444) (0.33333333, 0.44444444)\n",
      "  (0.44444444, 0.44444444) (0.55555556, 0.44444444)\n",
      "  (0.66666667, 0.44444444) (0.77777778, 0.44444444)\n",
      "  (0.88888889, 0.44444444) (1.        , 0.44444444)]\n",
      " [(0.        , 0.55555556) (0.11111111, 0.55555556)\n",
      "  (0.22222222, 0.55555556) (0.33333333, 0.55555556)\n",
      "  (0.44444444, 0.55555556) (0.55555556, 0.55555556)\n",
      "  (0.66666667, 0.55555556) (0.77777778, 0.55555556)\n",
      "  (0.88888889, 0.55555556) (1.        , 0.55555556)]\n",
      " [(0.        , 0.66666667) (0.11111111, 0.66666667)\n",
      "  (0.22222222, 0.66666667) (0.33333333, 0.66666667)\n",
      "  (0.44444444, 0.66666667) (0.55555556, 0.66666667)\n",
      "  (0.66666667, 0.66666667) (0.77777778, 0.66666667)\n",
      "  (0.88888889, 0.66666667) (1.        , 0.66666667)]\n",
      " [(0.        , 0.77777778) (0.11111111, 0.77777778)\n",
      "  (0.22222222, 0.77777778) (0.33333333, 0.77777778)\n",
      "  (0.44444444, 0.77777778) (0.55555556, 0.77777778)\n",
      "  (0.66666667, 0.77777778) (0.77777778, 0.77777778)\n",
      "  (0.88888889, 0.77777778) (1.        , 0.77777778)]\n",
      " [(0.        , 0.88888889) (0.11111111, 0.88888889)\n",
      "  (0.22222222, 0.88888889) (0.33333333, 0.88888889)\n",
      "  (0.44444444, 0.88888889) (0.55555556, 0.88888889)\n",
      "  (0.66666667, 0.88888889) (0.77777778, 0.88888889)\n",
      "  (0.88888889, 0.88888889) (1.        , 0.88888889)]\n",
      " [(0.        , 1.        ) (0.11111111, 1.        )\n",
      "  (0.22222222, 1.        ) (0.33333333, 1.        )\n",
      "  (0.44444444, 1.        ) (0.55555556, 1.        )\n",
      "  (0.66666667, 1.        ) (0.77777778, 1.        )\n",
      "  (0.88888889, 1.        ) (1.        , 1.        )]]\n"
     ]
    }
   ],
   "source": [
    "#### DON'T KNOW\n",
    "Z = np.zeros((10,10), [('x',float),('y',float)])\n",
    "print(\"Z: \\n\", Z)\n",
    "Z['x'], Z['y'] = np.meshgrid(np.linspace(0,1,10), np.linspace(0,1,10))\n",
    "print(Z)"
   ]
  },
  {
   "cell_type": "markdown",
   "metadata": {},
   "source": [
    "#### 47. Given two arrays, X and Y, construct the Cauchy matrix C (Cij =1/(xi - yj))"
   ]
  },
  {
   "cell_type": "code",
   "execution_count": 48,
   "metadata": {},
   "outputs": [
    {
     "name": "stdout",
     "output_type": "stream",
     "text": [
      "X: \n",
      " [[3 9 1]\n",
      " [4 7 1]]\n",
      "Y: \n",
      " [[1 3 8]\n",
      " [1 3 9]]\n"
     ]
    }
   ],
   "source": [
    "### DON'T KNOW (WRONG)\n",
    "X = np.random.randint(1,10, (2,3))\n",
    "print(\"X: \\n\", X)\n",
    "Y = np.random.randint(1,10, (2,3))\n",
    "print(\"Y: \\n\", Y)\n",
    "# C = 1 / (X - Y)\n",
    "# print(C)"
   ]
  },
  {
   "cell_type": "markdown",
   "metadata": {},
   "source": [
    "#### 48. Print the minimum and maximum representable value for each numpy scalar type (★★☆)"
   ]
  },
  {
   "cell_type": "code",
   "execution_count": 49,
   "metadata": {},
   "outputs": [
    {
     "name": "stdout",
     "output_type": "stream",
     "text": [
      "<class 'numpy.int8'>\n",
      "-128\n",
      "127\n",
      "\n",
      "<class 'numpy.int32'>\n",
      "-2147483648\n",
      "2147483647\n",
      "\n",
      "<class 'numpy.int64'>\n",
      "-9223372036854775808\n",
      "9223372036854775807\n",
      "\n",
      "<class 'numpy.float32'>\n",
      "-3.4028235e+38\n",
      "3.4028235e+38\n",
      "1.1920929e-07\n",
      "\n",
      "<class 'numpy.float64'>\n",
      "-1.7976931348623157e+308\n",
      "1.7976931348623157e+308\n",
      "2.220446049250313e-16\n",
      "\n"
     ]
    }
   ],
   "source": [
    "for dtype in [np.int8, np.int32, np.int64]:\n",
    "    print(dtype)\n",
    "    print(np.iinfo(dtype).min)  #######\n",
    "    print(np.iinfo(dtype).max)\n",
    "    print(\"\")\n",
    "for dtype in [np.float32, np.float64]:\n",
    "    print(dtype)\n",
    "    print(np.finfo(dtype).min)\n",
    "    print(np.finfo(dtype).max)\n",
    "    print(np.finfo(dtype).eps)\n",
    "    print(\"\")"
   ]
  },
  {
   "cell_type": "markdown",
   "metadata": {},
   "source": [
    "#### 49. How to print all the values of an array? (★★☆)"
   ]
  },
  {
   "cell_type": "code",
   "execution_count": 50,
   "metadata": {},
   "outputs": [
    {
     "name": "stdout",
     "output_type": "stream",
     "text": [
      "[]\n"
     ]
    }
   ],
   "source": [
    "Z = []\n",
    "print(Z)"
   ]
  },
  {
   "cell_type": "markdown",
   "metadata": {},
   "source": [
    "#### 50. How to find the closest value (to a given scalar) in a vector? (★★☆)"
   ]
  },
  {
   "cell_type": "code",
   "execution_count": 51,
   "metadata": {},
   "outputs": [
    {
     "name": "stdout",
     "output_type": "stream",
     "text": [
      "Array:  [9.31928519 5.10286169 3.48960566 3.61770067 4.78702094 4.85069686\n",
      " 0.24666442 6.33187374 3.15360392 6.64600977]\n",
      "We have to find closest value to:  5\n",
      "Abs of array values - 5,  [4.31928519 0.10286169 1.51039434 1.38229933 0.21297906 0.14930314\n",
      " 4.75333558 1.33187374 1.84639608 1.64600977]\n",
      "************************************************************\n",
      "5.102861690286787\n"
     ]
    }
   ],
   "source": [
    "arr = np.random.uniform(0,10,10)\n",
    "print(\"Array: \", arr)\n",
    "scal = 5\n",
    "print(\"We have to find closest value to: \", scal)\n",
    "arr_1 = np.abs(arr - 5)  #######\n",
    "print(\"Abs of array values - 5, \", arr_1)\n",
    "ind = arr_1.argmin()  # Minimum value index of arr_1 array\n",
    "print('*'*60)\n",
    "print(arr[ind])"
   ]
  },
  {
   "cell_type": "markdown",
   "metadata": {},
   "source": [
    "Save and commit your work."
   ]
  },
  {
   "cell_type": "code",
   "execution_count": 107,
   "metadata": {},
   "outputs": [],
   "source": [
    "import jovian"
   ]
  },
  {
   "cell_type": "code",
   "execution_count": 108,
   "metadata": {},
   "outputs": [
    {
     "data": {
      "application/javascript": [
       "window.require && require([\"base/js/namespace\"],function(Jupyter){Jupyter.notebook.save_checkpoint()})"
      ],
      "text/plain": [
       "<IPython.core.display.Javascript object>"
      ]
     },
     "metadata": {},
     "output_type": "display_data"
    },
    {
     "name": "stdout",
     "output_type": "stream",
     "text": [
      "[jovian] Updating notebook \"wasif1607/numpy-100-exercises\" on https://jovian.com/\u001b[0m\n",
      "[jovian] Committed successfully! https://jovian.com/wasif1607/numpy-100-exercises\u001b[0m\n"
     ]
    },
    {
     "data": {
      "text/plain": [
       "'https://jovian.com/wasif1607/numpy-100-exercises'"
      ]
     },
     "execution_count": 108,
     "metadata": {},
     "output_type": "execute_result"
    }
   ],
   "source": [
    "jovian.commit()"
   ]
  },
  {
   "cell_type": "markdown",
   "metadata": {},
   "source": [
    "#### 51. Create a structured array representing a position (x,y) and a color (r,g,b) (★★☆)"
   ]
  },
  {
   "cell_type": "code",
   "execution_count": 52,
   "metadata": {},
   "outputs": [
    {
     "name": "stdout",
     "output_type": "stream",
     "text": [
      "[((0., 0.), (0., 0., 0.)) ((0., 0.), (0., 0., 0.))\n",
      " ((0., 0.), (0., 0., 0.)) ((0., 0.), (0., 0., 0.))\n",
      " ((0., 0.), (0., 0., 0.)) ((0., 0.), (0., 0., 0.))\n",
      " ((0., 0.), (0., 0., 0.)) ((0., 0.), (0., 0., 0.))\n",
      " ((0., 0.), (0., 0., 0.)) ((0., 0.), (0., 0., 0.))]\n"
     ]
    }
   ],
   "source": [
    "Z = np.zeros(10, [ ('position', [ ('x', float), ('y', float)]),\n",
    "                   ('color',    [ ('r', float), ('g', float),('b', float)])\n",
    "                 ])\n",
    "print(Z)"
   ]
  },
  {
   "cell_type": "markdown",
   "metadata": {},
   "source": [
    "#### 52. Consider a random vector with shape (100,2) representing coordinates, find point by point distances (★★☆)"
   ]
  },
  {
   "cell_type": "code",
   "execution_count": 53,
   "metadata": {},
   "outputs": [
    {
     "name": "stdout",
     "output_type": "stream",
     "text": [
      "Requirement already satisfied: scipy in d:\\conda7\\envs\\100-numpy-exercises\\lib\\site-packages (1.10.1)\n",
      "Requirement already satisfied: numpy<1.27.0,>=1.19.5 in d:\\conda7\\envs\\100-numpy-exercises\\lib\\site-packages (from scipy) (1.25.0)\n",
      "Note: you may need to restart the kernel to use updated packages.\n"
     ]
    }
   ],
   "source": [
    "pip install scipy"
   ]
  },
  {
   "cell_type": "code",
   "execution_count": 54,
   "metadata": {},
   "outputs": [
    {
     "name": "stdout",
     "output_type": "stream",
     "text": [
      "Array: \n",
      " [[0.84823406 0.2219041 ]\n",
      " [0.94772568 0.44707336]\n",
      " [0.25365538 0.93669047]\n",
      " [0.26474425 0.64886293]\n",
      " [0.12825521 0.6687052 ]\n",
      " [0.53496409 0.15512335]\n",
      " [0.09865436 0.61537834]\n",
      " [0.82624095 0.33604312]\n",
      " [0.50993339 0.51926097]\n",
      " [0.02902099 0.9611681 ]\n",
      " [0.34025728 0.27033578]\n",
      " [0.76014756 0.68674676]\n",
      " [0.00267024 0.02662803]\n",
      " [0.90228935 0.06157445]\n",
      " [0.12496388 0.88192669]\n",
      " [0.44945525 0.38026161]\n",
      " [0.08096739 0.7444387 ]\n",
      " [0.90546552 0.40784594]\n",
      " [0.29249612 0.27624688]\n",
      " [0.02917363 0.92190805]\n",
      " [0.28183536 0.18390787]\n",
      " [0.9580376  0.66688941]\n",
      " [0.99010561 0.42850996]\n",
      " [0.62684412 0.77711101]\n",
      " [0.80797671 0.53212524]\n",
      " [0.08015459 0.98671165]\n",
      " [0.15818996 0.02577717]\n",
      " [0.97377523 0.1611991 ]\n",
      " [0.29029975 0.27455765]\n",
      " [0.04835675 0.6749659 ]\n",
      " [0.44989258 0.84287886]\n",
      " [0.97187438 0.23907118]\n",
      " [0.62074801 0.95440422]\n",
      " [0.6519833  0.18467132]\n",
      " [0.37546812 0.6789322 ]\n",
      " [0.23598074 0.93958805]\n",
      " [0.5790334  0.4685485 ]\n",
      " [0.25131794 0.32939453]\n",
      " [0.53669816 0.40938609]\n",
      " [0.00636163 0.37000714]\n",
      " [0.85087132 0.51735308]\n",
      " [0.49315543 0.16405577]\n",
      " [0.20748906 0.27631245]\n",
      " [0.56314877 0.77548135]\n",
      " [0.64050335 0.3429817 ]\n",
      " [0.16925329 0.46582914]\n",
      " [0.27706622 0.74967448]\n",
      " [0.12826914 0.53234875]\n",
      " [0.47717309 0.95654059]\n",
      " [0.02320124 0.03065102]\n",
      " [0.94649426 0.05454551]\n",
      " [0.79303159 0.25649433]\n",
      " [0.80043006 0.63030671]\n",
      " [0.74642036 0.07271328]\n",
      " [0.3608542  0.00772437]\n",
      " [0.08758614 0.56219648]\n",
      " [0.42729016 0.12841282]\n",
      " [0.92314626 0.37581672]\n",
      " [0.05017943 0.59773589]\n",
      " [0.77504336 0.33266283]\n",
      " [0.16309042 0.98389672]\n",
      " [0.97079248 0.73055882]\n",
      " [0.61061411 0.40956332]\n",
      " [0.44507632 0.17555332]\n",
      " [0.18224481 0.86337784]\n",
      " [0.85714098 0.12997902]\n",
      " [0.26766461 0.28328236]\n",
      " [0.53398583 0.43687131]\n",
      " [0.59529456 0.23717491]\n",
      " [0.23022441 0.40825979]\n",
      " [0.17832416 0.36597121]\n",
      " [0.63001985 0.10374977]\n",
      " [0.31773029 0.90071433]\n",
      " [0.41021264 0.4397491 ]\n",
      " [0.53047705 0.45335657]\n",
      " [0.27437318 0.00426522]\n",
      " [0.67138785 0.4625664 ]\n",
      " [0.14404678 0.19096972]\n",
      " [0.33755522 0.14749666]\n",
      " [0.38369112 0.64113654]\n",
      " [0.07411975 0.95251337]\n",
      " [0.84407771 0.45311466]\n",
      " [0.47906929 0.02669198]\n",
      " [0.85908315 0.07219975]\n",
      " [0.64463244 0.09102895]\n",
      " [0.08053375 0.34890961]\n",
      " [0.57884084 0.46780871]\n",
      " [0.28094755 0.55928327]\n",
      " [0.8281885  0.01529171]\n",
      " [0.04281962 0.98242195]\n",
      " [0.79465333 0.25917434]\n",
      " [0.8602523  0.26971006]\n",
      " [0.36249983 0.59670984]\n",
      " [0.91588788 0.64236226]\n",
      " [0.91370744 0.37820755]\n",
      " [0.19380417 0.92268561]\n",
      " [0.00551037 0.71569753]\n",
      " [0.2828778  0.54363006]\n",
      " [0.99932528 0.38040937]\n",
      " [0.52861439 0.64324609]]\n",
      "X: \n",
      " [[0.84823406 0.94772568 0.25365538 0.26474425 0.12825521 0.53496409\n",
      "  0.09865436 0.82624095 0.50993339 0.02902099 0.34025728 0.76014756\n",
      "  0.00267024 0.90228935 0.12496388 0.44945525 0.08096739 0.90546552\n",
      "  0.29249612 0.02917363 0.28183536 0.9580376  0.99010561 0.62684412\n",
      "  0.80797671 0.08015459 0.15818996 0.97377523 0.29029975 0.04835675\n",
      "  0.44989258 0.97187438 0.62074801 0.6519833  0.37546812 0.23598074\n",
      "  0.5790334  0.25131794 0.53669816 0.00636163 0.85087132 0.49315543\n",
      "  0.20748906 0.56314877 0.64050335 0.16925329 0.27706622 0.12826914\n",
      "  0.47717309 0.02320124 0.94649426 0.79303159 0.80043006 0.74642036\n",
      "  0.3608542  0.08758614 0.42729016 0.92314626 0.05017943 0.77504336\n",
      "  0.16309042 0.97079248 0.61061411 0.44507632 0.18224481 0.85714098\n",
      "  0.26766461 0.53398583 0.59529456 0.23022441 0.17832416 0.63001985\n",
      "  0.31773029 0.41021264 0.53047705 0.27437318 0.67138785 0.14404678\n",
      "  0.33755522 0.38369112 0.07411975 0.84407771 0.47906929 0.85908315\n",
      "  0.64463244 0.08053375 0.57884084 0.28094755 0.8281885  0.04281962\n",
      "  0.79465333 0.8602523  0.36249983 0.91588788 0.91370744 0.19380417\n",
      "  0.00551037 0.2828778  0.99932528 0.52861439]]\n",
      "Y: \n",
      " [[0.2219041  0.44707336 0.93669047 0.64886293 0.6687052  0.15512335\n",
      "  0.61537834 0.33604312 0.51926097 0.9611681  0.27033578 0.68674676\n",
      "  0.02662803 0.06157445 0.88192669 0.38026161 0.7444387  0.40784594\n",
      "  0.27624688 0.92190805 0.18390787 0.66688941 0.42850996 0.77711101\n",
      "  0.53212524 0.98671165 0.02577717 0.1611991  0.27455765 0.6749659\n",
      "  0.84287886 0.23907118 0.95440422 0.18467132 0.6789322  0.93958805\n",
      "  0.4685485  0.32939453 0.40938609 0.37000714 0.51735308 0.16405577\n",
      "  0.27631245 0.77548135 0.3429817  0.46582914 0.74967448 0.53234875\n",
      "  0.95654059 0.03065102 0.05454551 0.25649433 0.63030671 0.07271328\n",
      "  0.00772437 0.56219648 0.12841282 0.37581672 0.59773589 0.33266283\n",
      "  0.98389672 0.73055882 0.40956332 0.17555332 0.86337784 0.12997902\n",
      "  0.28328236 0.43687131 0.23717491 0.40825979 0.36597121 0.10374977\n",
      "  0.90071433 0.4397491  0.45335657 0.00426522 0.4625664  0.19096972\n",
      "  0.14749666 0.64113654 0.95251337 0.45311466 0.02669198 0.07219975\n",
      "  0.09102895 0.34890961 0.46780871 0.55928327 0.01529171 0.98242195\n",
      "  0.25917434 0.26971006 0.59670984 0.64236226 0.37820755 0.92268561\n",
      "  0.71569753 0.54363006 0.38040937 0.64324609]]\n",
      "D: \n",
      " [[0.         0.24617022 0.92975446 ... 0.65048851 0.21898054 0.5288533 ]\n",
      " [0.24617022 0.         0.84938713 ... 0.67182283 0.08430068 0.46275049]\n",
      " [0.92975446 0.84938713 0.         ... 0.39414519 0.93030762 0.40213438]\n",
      " ...\n",
      " [0.65048851 0.67182283 0.39414519 ... 0.         0.73480473 0.26516   ]\n",
      " [0.21898054 0.08430068 0.93030762 ... 0.73480473 0.         0.5391214 ]\n",
      " [0.5288533  0.46275049 0.40213438 ... 0.26516    0.5391214  0.        ]]\n",
      "[[0.         0.63180119 0.24304625 0.76236023 0.18217162 0.77100227\n",
      "  0.80259927 0.21894521 0.31246654 0.9603876 ]\n",
      " [0.63180119 0.         0.48035462 1.16573388 0.67452685 0.3233461\n",
      "  1.16075929 0.42051888 0.7109958  0.79423316]\n",
      " [0.24304625 0.48035462 0.         0.72058197 0.19876947 0.54517237\n",
      "  0.73474707 0.12131281 0.23912884 0.72576734]\n",
      " [0.76236023 1.16573388 0.72058197 0.         0.59116264 1.07479971\n",
      "  0.08753058 0.83169535 0.48653128 0.85084435]\n",
      " [0.18217162 0.67452685 0.19876947 0.59116264 0.         0.73383747\n",
      "  0.62539054 0.26800324 0.1315632  0.82993753]\n",
      " [0.77100227 0.3233461  0.54517237 1.07479971 0.73383747 0.\n",
      "  1.04612487 0.55848404 0.71049161 0.49967469]\n",
      " [0.80259927 1.16075929 0.73474707 0.08753058 0.62539054 1.04612487\n",
      "  0.         0.85053166 0.50999833 0.78758588]\n",
      " [0.21894521 0.42051888 0.12131281 0.83169535 0.26800324 0.55848404\n",
      "  0.85053166 0.         0.34539629 0.81399111]\n",
      " [0.31246654 0.7109958  0.23912884 0.48653128 0.1315632  0.71049161\n",
      "  0.50999833 0.34539629 0.         0.7308577 ]\n",
      " [0.9603876  0.79423316 0.72576734 0.85084435 0.82993753 0.49967469\n",
      "  0.78758588 0.81399111 0.7308577  0.        ]]\n"
     ]
    }
   ],
   "source": [
    "arr = np.random.random((100,2))\n",
    "print(\"Array: \\n\", arr)\n",
    "X,Y = np.atleast_2d(arr[:,0],arr[:,1])  ####### # This line separates the two columns of a into two 1D arrays \n",
    "# and converts them into 2D arrays with shape (10,1)\n",
    "print(\"X: \\n\", X)\n",
    "print(\"Y: \\n\", Y)\n",
    "D = np.sqrt( (X-X.T)**2 + (Y-Y.T)**2)  ####### # x-x.T and y-y.T compute the difference between all pairs of x and y coordinates,\n",
    "# respectively. Since x and y have shape (10,1), subtracting their transposes (with shape (1,10)) results in broadcasting,\n",
    "# producing two 10x10 arrays where each element represents the difference in x or y coordinates between a pair of points.\n",
    "print(\"D: \\n\", D)\n",
    "# Much faster with scipy\n",
    "import scipy\n",
    "# Thanks Gavin Heverly-Coulson (#issue 1)\n",
    "import scipy.spatial\n",
    "\n",
    "Z = np.random.random((10,2))\n",
    "D = scipy.spatial.distance.cdist(Z,Z)\n",
    "print(D)"
   ]
  },
  {
   "cell_type": "markdown",
   "metadata": {},
   "source": [
    "#### 53. How to convert a float (32 bits) array into an integer (32 bits) in place?"
   ]
  },
  {
   "cell_type": "code",
   "execution_count": 55,
   "metadata": {},
   "outputs": [
    {
     "name": "stdout",
     "output_type": "stream",
     "text": [
      "Initial: \n",
      " [0. 1. 2. 3. 4. 5. 6. 7. 8. 9.]\n",
      "Final: \n",
      " [2. 1. 2. 3. 4. 5. 6. 7. 8. 9.]\n"
     ]
    }
   ],
   "source": [
    "Z = np.arange(10, dtype=np.float32)\n",
    "print(\"Initial: \\n\", Z)\n",
    "Z_1 = Z.astype(np.float32, copy=False)  #######\n",
    "Z_1[0] = 2\n",
    "print(\"Final: \\n\", Z)"
   ]
  },
  {
   "cell_type": "markdown",
   "metadata": {},
   "source": [
    "#### 54. How to read the following file? (★★☆)\n",
    "```\n",
    "1, 2, 3, 4, 5\n",
    "6,  ,  , 7, 8\n",
    " ,  , 9,10,11\n",
    "```"
   ]
  },
  {
   "cell_type": "code",
   "execution_count": 56,
   "metadata": {},
   "outputs": [
    {
     "name": "stdout",
     "output_type": "stream",
     "text": [
      "[[ 1  2  3  4  5]\n",
      " [ 6 -1 -1  7  8]\n",
      " [-1 -1  9 10 11]]\n"
     ]
    }
   ],
   "source": [
    "from io import StringIO\n",
    "\n",
    "# Fake file \n",
    "s = StringIO(\"\"\"1, 2, 3, 4, 5\\n\n",
    "                6,  ,  , 7, 8\\n\n",
    "                 ,  , 9,10,11\\n\"\"\")\n",
    "Z = np.genfromtxt(s, delimiter=\",\", dtype=np.int64)\n",
    "print(Z)"
   ]
  },
  {
   "cell_type": "markdown",
   "metadata": {},
   "source": [
    "#### 55. What is the equivalent of enumerate for numpy arrays? (★★☆)"
   ]
  },
  {
   "cell_type": "code",
   "execution_count": 57,
   "metadata": {},
   "outputs": [
    {
     "name": "stdout",
     "output_type": "stream",
     "text": [
      "Z: \n",
      " [[0 1 2]\n",
      " [3 4 5]\n",
      " [6 7 8]]\n",
      "\n",
      "From ndenumerate:\n",
      "(0, 0) 0\n",
      "(0, 1) 1\n",
      "(0, 2) 2\n",
      "(1, 0) 3\n",
      "(1, 1) 4\n",
      "(1, 2) 5\n",
      "(2, 0) 6\n",
      "(2, 1) 7\n",
      "(2, 2) 8\n",
      "\n",
      "From ndindex:\n",
      "(0, 0) 0\n",
      "(0, 1) 1\n",
      "(0, 2) 2\n",
      "(1, 0) 3\n",
      "(1, 1) 4\n",
      "(1, 2) 5\n",
      "(2, 0) 6\n",
      "(2, 1) 7\n",
      "(2, 2) 8\n"
     ]
    }
   ],
   "source": [
    "Z = np.arange(9).reshape(3,3)\n",
    "print(\"Z: \\n\", Z)\n",
    "print(\"\\nFrom ndenumerate:\")\n",
    "for index, value in np.ndenumerate(Z):  ####### # Works like enumerate of python\n",
    "    print(index, value)\n",
    "print(\"\\nFrom ndindex:\")\n",
    "for index in np.ndindex(Z.shape):  #######\n",
    "    print(index, Z[index])"
   ]
  },
  {
   "cell_type": "markdown",
   "metadata": {},
   "source": [
    "#### 56. Generate a generic 2D Gaussian-like array (★★☆)"
   ]
  },
  {
   "cell_type": "code",
   "execution_count": 58,
   "metadata": {},
   "outputs": [
    {
     "name": "stdout",
     "output_type": "stream",
     "text": [
      "X: \n",
      " [[-1.         -0.77777778 -0.55555556 -0.33333333 -0.11111111  0.11111111\n",
      "   0.33333333  0.55555556  0.77777778  1.        ]\n",
      " [-1.         -0.77777778 -0.55555556 -0.33333333 -0.11111111  0.11111111\n",
      "   0.33333333  0.55555556  0.77777778  1.        ]\n",
      " [-1.         -0.77777778 -0.55555556 -0.33333333 -0.11111111  0.11111111\n",
      "   0.33333333  0.55555556  0.77777778  1.        ]\n",
      " [-1.         -0.77777778 -0.55555556 -0.33333333 -0.11111111  0.11111111\n",
      "   0.33333333  0.55555556  0.77777778  1.        ]\n",
      " [-1.         -0.77777778 -0.55555556 -0.33333333 -0.11111111  0.11111111\n",
      "   0.33333333  0.55555556  0.77777778  1.        ]\n",
      " [-1.         -0.77777778 -0.55555556 -0.33333333 -0.11111111  0.11111111\n",
      "   0.33333333  0.55555556  0.77777778  1.        ]\n",
      " [-1.         -0.77777778 -0.55555556 -0.33333333 -0.11111111  0.11111111\n",
      "   0.33333333  0.55555556  0.77777778  1.        ]\n",
      " [-1.         -0.77777778 -0.55555556 -0.33333333 -0.11111111  0.11111111\n",
      "   0.33333333  0.55555556  0.77777778  1.        ]\n",
      " [-1.         -0.77777778 -0.55555556 -0.33333333 -0.11111111  0.11111111\n",
      "   0.33333333  0.55555556  0.77777778  1.        ]\n",
      " [-1.         -0.77777778 -0.55555556 -0.33333333 -0.11111111  0.11111111\n",
      "   0.33333333  0.55555556  0.77777778  1.        ]]\n",
      "Y: \n",
      " [[-1.         -1.         -1.         -1.         -1.         -1.\n",
      "  -1.         -1.         -1.         -1.        ]\n",
      " [-0.77777778 -0.77777778 -0.77777778 -0.77777778 -0.77777778 -0.77777778\n",
      "  -0.77777778 -0.77777778 -0.77777778 -0.77777778]\n",
      " [-0.55555556 -0.55555556 -0.55555556 -0.55555556 -0.55555556 -0.55555556\n",
      "  -0.55555556 -0.55555556 -0.55555556 -0.55555556]\n",
      " [-0.33333333 -0.33333333 -0.33333333 -0.33333333 -0.33333333 -0.33333333\n",
      "  -0.33333333 -0.33333333 -0.33333333 -0.33333333]\n",
      " [-0.11111111 -0.11111111 -0.11111111 -0.11111111 -0.11111111 -0.11111111\n",
      "  -0.11111111 -0.11111111 -0.11111111 -0.11111111]\n",
      " [ 0.11111111  0.11111111  0.11111111  0.11111111  0.11111111  0.11111111\n",
      "   0.11111111  0.11111111  0.11111111  0.11111111]\n",
      " [ 0.33333333  0.33333333  0.33333333  0.33333333  0.33333333  0.33333333\n",
      "   0.33333333  0.33333333  0.33333333  0.33333333]\n",
      " [ 0.55555556  0.55555556  0.55555556  0.55555556  0.55555556  0.55555556\n",
      "   0.55555556  0.55555556  0.55555556  0.55555556]\n",
      " [ 0.77777778  0.77777778  0.77777778  0.77777778  0.77777778  0.77777778\n",
      "   0.77777778  0.77777778  0.77777778  0.77777778]\n",
      " [ 1.          1.          1.          1.          1.          1.\n",
      "   1.          1.          1.          1.        ]]\n",
      "G: \n",
      " [[0.36787944 0.44822088 0.51979489 0.57375342 0.60279818 0.60279818\n",
      "  0.57375342 0.51979489 0.44822088 0.36787944]\n",
      " [0.44822088 0.54610814 0.63331324 0.69905581 0.73444367 0.73444367\n",
      "  0.69905581 0.63331324 0.54610814 0.44822088]\n",
      " [0.51979489 0.63331324 0.73444367 0.81068432 0.85172308 0.85172308\n",
      "  0.81068432 0.73444367 0.63331324 0.51979489]\n",
      " [0.57375342 0.69905581 0.81068432 0.89483932 0.9401382  0.9401382\n",
      "  0.89483932 0.81068432 0.69905581 0.57375342]\n",
      " [0.60279818 0.73444367 0.85172308 0.9401382  0.98773022 0.98773022\n",
      "  0.9401382  0.85172308 0.73444367 0.60279818]\n",
      " [0.60279818 0.73444367 0.85172308 0.9401382  0.98773022 0.98773022\n",
      "  0.9401382  0.85172308 0.73444367 0.60279818]\n",
      " [0.57375342 0.69905581 0.81068432 0.89483932 0.9401382  0.9401382\n",
      "  0.89483932 0.81068432 0.69905581 0.57375342]\n",
      " [0.51979489 0.63331324 0.73444367 0.81068432 0.85172308 0.85172308\n",
      "  0.81068432 0.73444367 0.63331324 0.51979489]\n",
      " [0.44822088 0.54610814 0.63331324 0.69905581 0.73444367 0.73444367\n",
      "  0.69905581 0.63331324 0.54610814 0.44822088]\n",
      " [0.36787944 0.44822088 0.51979489 0.57375342 0.60279818 0.60279818\n",
      "  0.57375342 0.51979489 0.44822088 0.36787944]]\n"
     ]
    }
   ],
   "source": [
    "sigma,myu = 1.0,0.0\n",
    "\n",
    "# Creates a 2-D mesh\n",
    "X,Y  = np.meshgrid(np.linspace(-1,1,10),np.linspace(-1,1,10))\n",
    "print(\"X: \\n\", X)\n",
    "print(\"Y: \\n\", Y)\n",
    "D = np.sqrt(X**2+Y**2)\n",
    "G = np.exp(-(D-myu)**2/(2*sigma**2)) # e^-((x^2 + y^2)^1/2 - 0.0)^2 / (2 * 1.0^2)\n",
    "print(\"G: \\n\", G)"
   ]
  },
  {
   "cell_type": "markdown",
   "metadata": {},
   "source": [
    "#### 57. How to randomly place p elements in a 2D array? (★★☆)"
   ]
  },
  {
   "cell_type": "code",
   "execution_count": 59,
   "metadata": {},
   "outputs": [
    {
     "name": "stdout",
     "output_type": "stream",
     "text": [
      "Z: \n",
      " [[0. 0. 0. 0. 0. 0. 0. 0. 0. 0.]\n",
      " [0. 0. 0. 0. 0. 0. 0. 0. 0. 0.]\n",
      " [0. 0. 0. 0. 0. 0. 0. 0. 0. 0.]\n",
      " [0. 0. 0. 0. 0. 0. 0. 0. 0. 0.]\n",
      " [0. 0. 0. 0. 0. 0. 0. 0. 0. 0.]\n",
      " [0. 0. 0. 0. 0. 0. 0. 0. 0. 0.]\n",
      " [0. 0. 0. 0. 0. 0. 0. 0. 0. 0.]\n",
      " [0. 0. 0. 0. 0. 0. 0. 0. 0. 0.]\n",
      " [0. 0. 0. 0. 0. 0. 0. 0. 0. 0.]\n",
      " [0. 0. 0. 0. 0. 0. 0. 0. 0. 0.]]\n",
      "Z with randomly placed no.s: \n",
      " [[0. 0. 0. 0. 1. 0. 0. 0. 0. 0.]\n",
      " [0. 0. 0. 0. 0. 0. 0. 0. 0. 0.]\n",
      " [0. 0. 0. 0. 0. 0. 0. 0. 0. 0.]\n",
      " [0. 0. 0. 0. 0. 0. 0. 0. 0. 0.]\n",
      " [0. 0. 0. 0. 0. 0. 0. 0. 1. 0.]\n",
      " [0. 0. 0. 0. 0. 0. 0. 0. 0. 0.]\n",
      " [0. 0. 0. 0. 0. 0. 0. 0. 0. 0.]\n",
      " [0. 0. 0. 0. 0. 0. 0. 0. 0. 0.]\n",
      " [0. 0. 0. 0. 0. 0. 0. 0. 0. 0.]\n",
      " [0. 0. 0. 0. 0. 0. 1. 0. 0. 0.]]\n"
     ]
    }
   ],
   "source": [
    "n = 10\n",
    "p = 3\n",
    "Z = np.zeros((n,n))\n",
    "print(\"Z: \\n\", Z)\n",
    "np.put(Z, np.random.choice(range(n*n), p, replace=False),1)  #######\n",
    "print(\"Z with randomly placed no.s: \\n\", Z)\n"
   ]
  },
  {
   "cell_type": "markdown",
   "metadata": {},
   "source": [
    "#### 58. Subtract the mean of each row of a matrix (★★☆)"
   ]
  },
  {
   "cell_type": "code",
   "execution_count": 60,
   "metadata": {},
   "outputs": [
    {
     "name": "stdout",
     "output_type": "stream",
     "text": [
      "X: \n",
      " [[0.81425313 0.33225351 0.79204659 0.44352603 0.87769004 0.84786921\n",
      "  0.43930733 0.59089742 0.14957339 0.78627476]\n",
      " [0.94944983 0.2098697  0.00141511 0.97608592 0.65223137 0.28786975\n",
      "  0.39691878 0.94654263 0.48120258 0.87483649]\n",
      " [0.65923901 0.21032245 0.8681148  0.68731566 0.32972532 0.50468512\n",
      "  0.211553   0.77235061 0.70782955 0.97586037]\n",
      " [0.16760955 0.43612944 0.62690636 0.82460859 0.49011567 0.53361255\n",
      "  0.29051495 0.50530289 0.12695435 0.31464474]\n",
      " [0.49212536 0.35641076 0.19367831 0.00733484 0.65191565 0.93336828\n",
      "  0.85454875 0.09302038 0.46983409 0.35817666]]\n",
      "Y: \n",
      " [[ 0.20688399 -0.27511563  0.18467745 -0.16384311  0.2703209   0.24050007\n",
      "  -0.16806181 -0.01647172 -0.45779575  0.17890562]\n",
      " [ 0.37180761 -0.36777251 -0.57622711  0.3984437   0.07458915 -0.28977247\n",
      "  -0.18072344  0.36890041 -0.09643963  0.29719427]\n",
      " [ 0.06653942 -0.38237714  0.27541521  0.09461607 -0.26297427 -0.08801447\n",
      "  -0.38114659  0.17965102  0.11512996  0.38316078]\n",
      " [-0.26403036  0.00448953  0.19526645  0.39296869  0.05847576  0.10197264\n",
      "  -0.14112496  0.07366298 -0.30468556 -0.11699517]\n",
      " [ 0.05108405 -0.08463055 -0.247363   -0.43370646  0.21087434  0.49232697\n",
      "   0.41350744 -0.34802093  0.02879278 -0.08286465]]\n",
      "K: \n",
      " [[0.60736914]\n",
      " [0.57764222]\n",
      " [0.59269959]\n",
      " [0.43163991]\n",
      " [0.44104131]]\n",
      "M: \n",
      " [[0.60736914]\n",
      " [0.57764222]\n",
      " [0.59269959]\n",
      " [0.43163991]\n",
      " [0.44104131]]\n"
     ]
    }
   ],
   "source": [
    "X = np.random.rand(5, 10)\n",
    "print(\"X: \\n\", X)\n",
    "Y = X - X.mean(axis = 1,keepdims = True)  #######\n",
    "print(\"Y: \\n\", Y)\n",
    "K = X.mean(axis = 1).reshape(-1,1)\n",
    "print(\"K: \\n\", K)\n",
    "M = X.mean(axis = 1,keepdims =True)\n",
    "print(\"M: \\n\", M)"
   ]
  },
  {
   "cell_type": "markdown",
   "metadata": {},
   "source": [
    "#### 59. How to sort an array by the nth column? (★★☆)"
   ]
  },
  {
   "cell_type": "code",
   "execution_count": 61,
   "metadata": {},
   "outputs": [
    {
     "name": "stdout",
     "output_type": "stream",
     "text": [
      "[[8 6 7 9 3]\n",
      " [9 6 7 8 9]\n",
      " [8 2 8 7 8]\n",
      " [1 9 8 0 3]\n",
      " [0 0 3 4 4]]\n",
      "[[1 9 8 0 3]\n",
      " [8 6 7 9 3]\n",
      " [9 6 7 8 9]\n",
      " [8 2 8 7 8]\n",
      " [0 0 3 4 4]]\n",
      "[[6 7 9 8 3]\n",
      " [6 7 8 9 9]\n",
      " [2 8 7 8 8]\n",
      " [9 8 0 1 3]\n",
      " [0 3 4 0 4]]\n"
     ]
    }
   ],
   "source": [
    "# DON'T UNDERSTAND\n",
    "Z = np.random.randint(0,10,(5,5))\n",
    "print(Z)\n",
    "\n",
    "print(Z[(-Z)[:,1].argsort()])\n",
    "print(Z[:,Z[1,:].argsort()])"
   ]
  },
  {
   "cell_type": "markdown",
   "metadata": {},
   "source": [
    "#### 60. How to tell if a given 2D array has null columns? (★★☆)"
   ]
  },
  {
   "cell_type": "code",
   "execution_count": 62,
   "metadata": {},
   "outputs": [
    {
     "name": "stdout",
     "output_type": "stream",
     "text": [
      "Z: \n",
      " [[2 1 1 0 0 2 2 1 2 0]\n",
      " [1 1 2 1 0 0 2 2 0 1]\n",
      " [0 2 0 2 1 1 2 2 2 1]]\n",
      "Z (new): \n",
      " [[2 0 1 0 0 2 2 1 2 0]\n",
      " [1 0 2 1 0 0 2 2 0 1]\n",
      " [0 0 0 2 1 1 2 2 2 1]]\n",
      "[[ True False  True False False  True  True  True  True False]\n",
      " [ True False  True  True False False  True  True False  True]\n",
      " [False False False  True  True  True  True  True  True  True]]\n",
      "[[False  True False  True  True False False False False  True]\n",
      " [False  True False False  True  True False False  True False]\n",
      " [ True  True  True False False False False False False False]]\n"
     ]
    },
    {
     "data": {
      "text/plain": [
       "array([ True, False,  True,  True,  True,  True,  True,  True,  True,\n",
       "        True])"
      ]
     },
     "execution_count": 62,
     "metadata": {},
     "output_type": "execute_result"
    }
   ],
   "source": [
    "Z = np.random.randint(0,3,(3,10))\n",
    "print(\"Z: \\n\", Z)\n",
    "Z[:,1] = 0\n",
    "print(\"Z (new): \\n\", Z)\n",
    "Z = Z.astype(bool)\n",
    "print(Z)\n",
    "print(~Z)\n",
    "(Z).any(axis = 0)"
   ]
  },
  {
   "cell_type": "markdown",
   "metadata": {},
   "source": [
    "Save and commit your work."
   ]
  },
  {
   "cell_type": "code",
   "execution_count": 126,
   "metadata": {},
   "outputs": [],
   "source": [
    "import jovian"
   ]
  },
  {
   "cell_type": "code",
   "execution_count": 127,
   "metadata": {},
   "outputs": [
    {
     "data": {
      "application/javascript": [
       "window.require && require([\"base/js/namespace\"],function(Jupyter){Jupyter.notebook.save_checkpoint()})"
      ],
      "text/plain": [
       "<IPython.core.display.Javascript object>"
      ]
     },
     "metadata": {},
     "output_type": "display_data"
    },
    {
     "name": "stdout",
     "output_type": "stream",
     "text": [
      "[jovian] Updating notebook \"wasif1607/numpy-100-exercises\" on https://jovian.com/\u001b[0m\n",
      "[jovian] Committed successfully! https://jovian.com/wasif1607/numpy-100-exercises\u001b[0m\n"
     ]
    },
    {
     "data": {
      "text/plain": [
       "'https://jovian.com/wasif1607/numpy-100-exercises'"
      ]
     },
     "execution_count": 127,
     "metadata": {},
     "output_type": "execute_result"
    }
   ],
   "source": [
    "jovian.commit()"
   ]
  },
  {
   "cell_type": "markdown",
   "metadata": {},
   "source": [
    "#### 61. Find the nearest value from a given value in an array (★★☆)"
   ]
  },
  {
   "cell_type": "code",
   "execution_count": 71,
   "metadata": {},
   "outputs": [
    {
     "name": "stdout",
     "output_type": "stream",
     "text": [
      "Given array:  [0.66272809 0.98316614 0.63541904 0.27694036 0.35434809 0.40121193\n",
      " 0.81827465 0.67635364 0.86119069 0.60966028]\n",
      "Value to find nearest from:  0.5\n",
      "Absolute array:  [0.16272809 0.48316614 0.13541904 0.22305964 0.14565191 0.09878807\n",
      " 0.31827465 0.17635364 0.36119069 0.10966028]\n",
      "Index of minimum value in abs array, which will also be the index of nearest value:  5\n",
      "Nearest value:  0.40121193100522257\n"
     ]
    }
   ],
   "source": [
    "def find_nearest(array, value):\n",
    "    absarray = (np.abs(array - value))\n",
    "    print(\"Absolute array: \", absarray)\n",
    "    idx = absarray.argmin()\n",
    "    print(\"Index of minimum value in abs array, which will also be the index of nearest value: \", idx)\n",
    "    return array[idx]\n",
    "\n",
    "array = np.random.random(10)\n",
    "print(\"Given array: \", array)\n",
    "value = 0.5\n",
    "print(\"Value to find nearest from: \", value)\n",
    "print(\"Nearest value: \", find_nearest(array, value))"
   ]
  },
  {
   "cell_type": "markdown",
   "metadata": {},
   "source": [
    "#### 62. Considering two arrays with shape (1,3) and (3,1), how to compute their sum using an iterator? (★★☆)"
   ]
  },
  {
   "cell_type": "code",
   "execution_count": 78,
   "metadata": {},
   "outputs": [
    {
     "name": "stdout",
     "output_type": "stream",
     "text": [
      "A: \n",
      " [[9 1 7]]\n",
      "B: \n",
      " [[5]\n",
      " [8]\n",
      " [6]]\n",
      "[[14  6 12]\n",
      " [17  9 15]\n",
      " [15  7 13]]\n"
     ]
    }
   ],
   "source": [
    "a = np.random.randint(1,10, (1,3))\n",
    "print(\"A: \\n\", a)\n",
    "b = np.random.randint(1, 10, (3,1))\n",
    "print(\"B: \\n\", b)\n",
    "temp = a + b\n",
    "print(temp)"
   ]
  },
  {
   "cell_type": "markdown",
   "metadata": {},
   "source": [
    "#### 63. Create an array class that has a name attribute (★★☆)"
   ]
  },
  {
   "cell_type": "code",
   "execution_count": null,
   "metadata": {},
   "outputs": [],
   "source": []
  },
  {
   "cell_type": "markdown",
   "metadata": {},
   "source": [
    "#### 64. Consider a given vector, how to add 1 to each element indexed by a second vector (be careful with repeated indices)? (★★★)"
   ]
  },
  {
   "cell_type": "code",
   "execution_count": null,
   "metadata": {},
   "outputs": [],
   "source": []
  },
  {
   "cell_type": "markdown",
   "metadata": {},
   "source": [
    "#### 65. How to accumulate elements of a vector (X) to an array (F) based on an index list (I)? (★★★)"
   ]
  },
  {
   "cell_type": "code",
   "execution_count": null,
   "metadata": {},
   "outputs": [],
   "source": []
  },
  {
   "cell_type": "markdown",
   "metadata": {},
   "source": [
    "#### 66. Considering a (w,h,3) image of (dtype=ubyte), compute the number of unique colors (★★★)"
   ]
  },
  {
   "cell_type": "code",
   "execution_count": null,
   "metadata": {},
   "outputs": [],
   "source": []
  },
  {
   "cell_type": "markdown",
   "metadata": {},
   "source": [
    "#### 67. Considering a four dimensions array, how to get sum over the last two axis at once? (★★★)"
   ]
  },
  {
   "cell_type": "code",
   "execution_count": null,
   "metadata": {},
   "outputs": [],
   "source": []
  },
  {
   "cell_type": "markdown",
   "metadata": {},
   "source": [
    "#### 68. Considering a one-dimensional vector D, how to compute means of subsets of D using a vector S of same size describing subset  indices? (★★★)"
   ]
  },
  {
   "cell_type": "code",
   "execution_count": null,
   "metadata": {},
   "outputs": [],
   "source": []
  },
  {
   "cell_type": "markdown",
   "metadata": {},
   "source": [
    "#### 69. How to get the diagonal of a dot product? (★★★)"
   ]
  },
  {
   "cell_type": "code",
   "execution_count": null,
   "metadata": {},
   "outputs": [],
   "source": []
  },
  {
   "cell_type": "markdown",
   "metadata": {},
   "source": [
    "#### 70. Consider the vector [1, 2, 3, 4, 5], how to build a new vector with 3 consecutive zeros interleaved between each value? (★★★)"
   ]
  },
  {
   "cell_type": "code",
   "execution_count": null,
   "metadata": {},
   "outputs": [],
   "source": []
  },
  {
   "cell_type": "code",
   "execution_count": null,
   "metadata": {},
   "outputs": [],
   "source": []
  },
  {
   "cell_type": "markdown",
   "metadata": {},
   "source": [
    "Save and commit your work"
   ]
  },
  {
   "cell_type": "code",
   "execution_count": 79,
   "metadata": {},
   "outputs": [],
   "source": [
    "import jovian"
   ]
  },
  {
   "cell_type": "code",
   "execution_count": null,
   "metadata": {},
   "outputs": [
    {
     "data": {
      "application/javascript": [
       "window.require && require([\"base/js/namespace\"],function(Jupyter){Jupyter.notebook.save_checkpoint()})"
      ],
      "text/plain": [
       "<IPython.core.display.Javascript object>"
      ]
     },
     "metadata": {},
     "output_type": "display_data"
    },
    {
     "name": "stdout",
     "output_type": "stream",
     "text": [
      "[jovian] Updating notebook \"wasif1607/numpy-100-exercises\" on https://jovian.com/\u001b[0m\n"
     ]
    }
   ],
   "source": [
    "jovian.commit()"
   ]
  },
  {
   "cell_type": "markdown",
   "metadata": {},
   "source": [
    "#### 71. Consider an array of dimension (5,5,3), how to mulitply it by an array with dimensions (5,5)? (★★★)"
   ]
  },
  {
   "cell_type": "code",
   "execution_count": null,
   "metadata": {},
   "outputs": [],
   "source": []
  },
  {
   "cell_type": "markdown",
   "metadata": {},
   "source": [
    "#### 72. How to swap two rows of an array? (★★★)"
   ]
  },
  {
   "cell_type": "code",
   "execution_count": null,
   "metadata": {},
   "outputs": [],
   "source": []
  },
  {
   "cell_type": "markdown",
   "metadata": {},
   "source": [
    "#### 73. Consider a set of 10 triplets describing 10 triangles (with shared vertices), find the set of unique line segments composing all the  triangles (★★★)"
   ]
  },
  {
   "cell_type": "code",
   "execution_count": null,
   "metadata": {},
   "outputs": [],
   "source": []
  },
  {
   "cell_type": "markdown",
   "metadata": {},
   "source": [
    "#### 74. Given an array C that is a bincount, how to produce an array A such that np.bincount(A) == C? (★★★)"
   ]
  },
  {
   "cell_type": "code",
   "execution_count": null,
   "metadata": {},
   "outputs": [],
   "source": []
  },
  {
   "cell_type": "markdown",
   "metadata": {},
   "source": [
    "#### 75. How to compute averages using a sliding window over an array? (★★★)"
   ]
  },
  {
   "cell_type": "code",
   "execution_count": null,
   "metadata": {},
   "outputs": [],
   "source": []
  },
  {
   "cell_type": "markdown",
   "metadata": {},
   "source": [
    "#### 76. Consider a one-dimensional array Z, build a two-dimensional array whose first row is (Z[0],Z[1],Z[2]) and each subsequent row is  shifted by 1 (last row should be (Z[-3],Z[-2],Z[-1]) (★★★)"
   ]
  },
  {
   "cell_type": "code",
   "execution_count": null,
   "metadata": {},
   "outputs": [],
   "source": []
  },
  {
   "cell_type": "markdown",
   "metadata": {},
   "source": [
    "#### 77. How to negate a boolean, or to change the sign of a float inplace? (★★★)"
   ]
  },
  {
   "cell_type": "code",
   "execution_count": null,
   "metadata": {},
   "outputs": [],
   "source": []
  },
  {
   "cell_type": "markdown",
   "metadata": {},
   "source": [
    "#### 78. Consider 2 sets of points P0,P1 describing lines (2d) and a point p, how to compute distance from p to each line i (P0[i],P1[i])? (★★★)"
   ]
  },
  {
   "cell_type": "code",
   "execution_count": null,
   "metadata": {},
   "outputs": [],
   "source": []
  },
  {
   "cell_type": "markdown",
   "metadata": {},
   "source": [
    "#### 79. Consider 2 sets of points P0,P1 describing lines (2d) and a set of points P, how to compute distance from each point j (P[j]) to each line i (P0[i],P1[i])? (★★★)"
   ]
  },
  {
   "cell_type": "code",
   "execution_count": null,
   "metadata": {},
   "outputs": [],
   "source": []
  },
  {
   "cell_type": "markdown",
   "metadata": {},
   "source": [
    "#### 80. Consider an arbitrary array, write a function that extract a subpart with a fixed shape and centered on a given element (pad with a `fill` value when necessary) (★★★)"
   ]
  },
  {
   "cell_type": "code",
   "execution_count": null,
   "metadata": {},
   "outputs": [],
   "source": []
  },
  {
   "cell_type": "markdown",
   "metadata": {},
   "source": [
    "Save and commit your work."
   ]
  },
  {
   "cell_type": "code",
   "execution_count": 18,
   "metadata": {},
   "outputs": [],
   "source": [
    "import jovian"
   ]
  },
  {
   "cell_type": "code",
   "execution_count": 19,
   "metadata": {},
   "outputs": [
    {
     "data": {
      "application/javascript": [
       "window.require && require([\"base/js/namespace\"],function(Jupyter){Jupyter.notebook.save_checkpoint()})"
      ],
      "text/plain": [
       "<IPython.core.display.Javascript object>"
      ]
     },
     "metadata": {},
     "output_type": "display_data"
    },
    {
     "name": "stdout",
     "output_type": "stream",
     "text": [
      "[jovian] Attempting to save notebook..\u001b[0m\n",
      "[jovian] Updating notebook \"aakashns/numpy-100-exercises\" on https://jovian.ml/\u001b[0m\n",
      "[jovian] Uploading notebook..\u001b[0m\n",
      "[jovian] Capturing environment..\u001b[0m\n",
      "[jovian] Committed successfully! https://jovian.ml/aakashns/numpy-100-exercises\u001b[0m\n"
     ]
    },
    {
     "data": {
      "text/plain": [
       "'https://jovian.ml/aakashns/numpy-100-exercises'"
      ]
     },
     "execution_count": 19,
     "metadata": {},
     "output_type": "execute_result"
    }
   ],
   "source": [
    "jovian.commit()"
   ]
  },
  {
   "cell_type": "markdown",
   "metadata": {},
   "source": [
    "#### 81. Consider an array Z = [1,2,3,4,5,6,7,8,9,10,11,12,13,14], how to generate an array R = [[1,2,3,4], [2,3,4,5], [3,4,5,6], ..., [11,12,13,14]]? (★★★)"
   ]
  },
  {
   "cell_type": "code",
   "execution_count": null,
   "metadata": {},
   "outputs": [],
   "source": []
  },
  {
   "cell_type": "markdown",
   "metadata": {},
   "source": [
    "#### 82. Compute a matrix rank (★★★)"
   ]
  },
  {
   "cell_type": "code",
   "execution_count": null,
   "metadata": {},
   "outputs": [],
   "source": []
  },
  {
   "cell_type": "markdown",
   "metadata": {},
   "source": [
    "#### 83. How to find the most frequent value in an array?"
   ]
  },
  {
   "cell_type": "code",
   "execution_count": null,
   "metadata": {},
   "outputs": [],
   "source": []
  },
  {
   "cell_type": "markdown",
   "metadata": {},
   "source": [
    "#### 84. Extract all the contiguous 3x3 blocks from a random 10x10 matrix (★★★)"
   ]
  },
  {
   "cell_type": "code",
   "execution_count": null,
   "metadata": {},
   "outputs": [],
   "source": []
  },
  {
   "cell_type": "markdown",
   "metadata": {},
   "source": [
    "#### 85. Create a 2D array subclass such that Z[i,j] == Z[j,i] (★★★)"
   ]
  },
  {
   "cell_type": "code",
   "execution_count": null,
   "metadata": {},
   "outputs": [],
   "source": []
  },
  {
   "cell_type": "markdown",
   "metadata": {},
   "source": [
    "#### 86. Consider a set of p matrices wich shape (n,n) and a set of p vectors with shape (n,1). How to compute the sum of of the p matrix products at once? (result has shape (n,1)) (★★★)"
   ]
  },
  {
   "cell_type": "code",
   "execution_count": null,
   "metadata": {},
   "outputs": [],
   "source": []
  },
  {
   "cell_type": "markdown",
   "metadata": {},
   "source": [
    "#### 87. Consider a 16x16 array, how to get the block-sum (block size is 4x4)? (★★★)"
   ]
  },
  {
   "cell_type": "code",
   "execution_count": null,
   "metadata": {},
   "outputs": [],
   "source": []
  },
  {
   "cell_type": "markdown",
   "metadata": {},
   "source": [
    "#### 88. How to implement the Game of Life using numpy arrays? (★★★)"
   ]
  },
  {
   "cell_type": "code",
   "execution_count": null,
   "metadata": {},
   "outputs": [],
   "source": []
  },
  {
   "cell_type": "markdown",
   "metadata": {},
   "source": [
    "#### 89. How to get the n largest values of an array (★★★)"
   ]
  },
  {
   "cell_type": "code",
   "execution_count": null,
   "metadata": {},
   "outputs": [],
   "source": []
  },
  {
   "cell_type": "markdown",
   "metadata": {},
   "source": [
    "#### 90. Given an arbitrary number of vectors, build the cartesian product (every combinations of every item) (★★★)"
   ]
  },
  {
   "cell_type": "code",
   "execution_count": null,
   "metadata": {},
   "outputs": [],
   "source": []
  },
  {
   "cell_type": "markdown",
   "metadata": {},
   "source": [
    "Save and commit your work"
   ]
  },
  {
   "cell_type": "code",
   "execution_count": 20,
   "metadata": {},
   "outputs": [],
   "source": [
    "import jovian"
   ]
  },
  {
   "cell_type": "code",
   "execution_count": 21,
   "metadata": {},
   "outputs": [
    {
     "data": {
      "application/javascript": [
       "window.require && require([\"base/js/namespace\"],function(Jupyter){Jupyter.notebook.save_checkpoint()})"
      ],
      "text/plain": [
       "<IPython.core.display.Javascript object>"
      ]
     },
     "metadata": {},
     "output_type": "display_data"
    },
    {
     "name": "stdout",
     "output_type": "stream",
     "text": [
      "[jovian] Attempting to save notebook..\u001b[0m\n",
      "[jovian] Updating notebook \"aakashns/numpy-100-exercises\" on https://jovian.ml/\u001b[0m\n",
      "[jovian] Uploading notebook..\u001b[0m\n",
      "[jovian] Capturing environment..\u001b[0m\n",
      "[jovian] Committed successfully! https://jovian.ml/aakashns/numpy-100-exercises\u001b[0m\n"
     ]
    },
    {
     "data": {
      "text/plain": [
       "'https://jovian.ml/aakashns/numpy-100-exercises'"
      ]
     },
     "execution_count": 21,
     "metadata": {},
     "output_type": "execute_result"
    }
   ],
   "source": [
    "jovian.commit()"
   ]
  },
  {
   "cell_type": "markdown",
   "metadata": {},
   "source": [
    "#### 91. How to create a record array from a regular array? (★★★)"
   ]
  },
  {
   "cell_type": "code",
   "execution_count": null,
   "metadata": {},
   "outputs": [],
   "source": []
  },
  {
   "cell_type": "markdown",
   "metadata": {},
   "source": [
    "#### 92. Consider a large vector Z, compute Z to the power of 3 using 3 different methods (★★★)"
   ]
  },
  {
   "cell_type": "code",
   "execution_count": null,
   "metadata": {},
   "outputs": [],
   "source": []
  },
  {
   "cell_type": "markdown",
   "metadata": {},
   "source": [
    "#### 93. Consider two arrays A and B of shape (8,3) and (2,2). How to find rows of A that contain elements of each row of B regardless of the order of the elements in B? (★★★)"
   ]
  },
  {
   "cell_type": "code",
   "execution_count": null,
   "metadata": {},
   "outputs": [],
   "source": []
  },
  {
   "cell_type": "markdown",
   "metadata": {},
   "source": [
    "#### 94. Considering a 10x3 matrix, extract rows with unequal values (e.g. [2,2,3]) (★★★)"
   ]
  },
  {
   "cell_type": "code",
   "execution_count": null,
   "metadata": {},
   "outputs": [],
   "source": []
  },
  {
   "cell_type": "markdown",
   "metadata": {},
   "source": [
    "#### 95. Convert a vector of ints into a matrix binary representation (★★★)"
   ]
  },
  {
   "cell_type": "code",
   "execution_count": null,
   "metadata": {},
   "outputs": [],
   "source": []
  },
  {
   "cell_type": "markdown",
   "metadata": {},
   "source": [
    "#### 96. Given a two dimensional array, how to extract unique rows? (★★★)"
   ]
  },
  {
   "cell_type": "code",
   "execution_count": null,
   "metadata": {},
   "outputs": [],
   "source": []
  },
  {
   "cell_type": "markdown",
   "metadata": {},
   "source": [
    "#### 97. Considering 2 vectors A & B, write the einsum equivalent of inner, outer, sum, and mul function (★★★)"
   ]
  },
  {
   "cell_type": "code",
   "execution_count": null,
   "metadata": {},
   "outputs": [],
   "source": []
  },
  {
   "cell_type": "markdown",
   "metadata": {},
   "source": [
    "#### 98. Considering a path described by two vectors (X,Y), how to sample it using equidistant samples (★★★)?"
   ]
  },
  {
   "cell_type": "code",
   "execution_count": null,
   "metadata": {},
   "outputs": [],
   "source": []
  },
  {
   "cell_type": "markdown",
   "metadata": {},
   "source": [
    "#### 99. Given an integer n and a 2D array X, select from X the rows which can be interpreted as draws from a multinomial distribution with n degrees, i.e., the rows which only contain integers and which sum to n. (★★★)"
   ]
  },
  {
   "cell_type": "code",
   "execution_count": null,
   "metadata": {},
   "outputs": [],
   "source": []
  },
  {
   "cell_type": "markdown",
   "metadata": {},
   "source": [
    "#### 100. Compute bootstrapped 95% confidence intervals for the mean of a 1D array X (i.e., resample the elements of an array with replacement N times, compute the mean of each sample, and then compute percentiles over the means). (★★★)"
   ]
  },
  {
   "cell_type": "code",
   "execution_count": null,
   "metadata": {},
   "outputs": [],
   "source": []
  },
  {
   "cell_type": "markdown",
   "metadata": {},
   "source": [
    "Save and commit your work"
   ]
  },
  {
   "cell_type": "code",
   "execution_count": 22,
   "metadata": {},
   "outputs": [],
   "source": [
    "import jovian"
   ]
  },
  {
   "cell_type": "code",
   "execution_count": null,
   "metadata": {},
   "outputs": [
    {
     "data": {
      "application/javascript": [
       "window.require && require([\"base/js/namespace\"],function(Jupyter){Jupyter.notebook.save_checkpoint()})"
      ],
      "text/plain": [
       "<IPython.core.display.Javascript object>"
      ]
     },
     "metadata": {},
     "output_type": "display_data"
    },
    {
     "name": "stdout",
     "output_type": "stream",
     "text": [
      "[jovian] Attempting to save notebook..\u001b[0m\n"
     ]
    }
   ],
   "source": [
    "jovian.commit()"
   ]
  },
  {
   "cell_type": "markdown",
   "metadata": {},
   "source": [
    "Congratulations on completing the 100 exercises, well done!\n",
    "\n",
    "#### What to do next?\n",
    "\n",
    "- Share your completed notebook on Facebook, LinkedIn or Twitter and challenge your friends.\n",
    "- Share your solutions and help others on the forum: https://jovian.ml/forum/t/100-numpy-exercises-hints-discussions-help/10561\n",
    "- Check out our course on \"Data Analysis with Python: Zero to Pandas\" - https://jovian.ml/learn/data-analysis-with-python-zero-to-pandas\n",
    "- Star this repository to show your appreciation for the original author of this notebook: https://github.com/rougier/numpy-100"
   ]
  }
 ],
 "metadata": {
  "kernelspec": {
   "display_name": "Python 3 (ipykernel)",
   "language": "python",
   "name": "python3"
  },
  "language_info": {
   "codemirror_mode": {
    "name": "ipython",
    "version": 3
   },
   "file_extension": ".py",
   "mimetype": "text/x-python",
   "name": "python",
   "nbconvert_exporter": "python",
   "pygments_lexer": "ipython3",
   "version": "3.11.3"
  }
 },
 "nbformat": 4,
 "nbformat_minor": 4
}
