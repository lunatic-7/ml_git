{
 "cells": [
  {
   "cell_type": "markdown",
   "metadata": {},
   "source": [
    "# 5 Amazing Numpy functions\n",
    "\n",
    "\n",
    "### Here we go\n",
    "\n",
    "After practicing a lot of numpy exercise, I got there amazing functions. \n",
    "\n",
    "- np.tile()\n",
    "- np.intersect1d()\n",
    "- np.ndenumerate()\n",
    "- np.full()\n",
    "- arr.clip()\n",
    "\n",
    "The recommended way to run this notebook is to click the \"Run\" button at the top of this page, and select \"Run on Binder\". This will run the notebook on mybinder.org, a free online service for running Jupyter notebooks."
   ]
  },
  {
   "cell_type": "code",
   "execution_count": 1,
   "metadata": {},
   "outputs": [],
   "source": [
    "!pip install jovian --upgrade -q"
   ]
  },
  {
   "cell_type": "code",
   "execution_count": 2,
   "metadata": {},
   "outputs": [],
   "source": [
    "import jovian"
   ]
  },
  {
   "cell_type": "code",
   "execution_count": 3,
   "metadata": {},
   "outputs": [
    {
     "data": {
      "application/javascript": [
       "window.require && require([\"base/js/namespace\"],function(Jupyter){Jupyter.notebook.save_checkpoint()})"
      ],
      "text/plain": [
       "<IPython.core.display.Javascript object>"
      ]
     },
     "metadata": {},
     "output_type": "display_data"
    },
    {
     "name": "stdout",
     "output_type": "stream",
     "text": [
      "[jovian] Creating a new project \"wasif1607/numpy-array-operations\"\u001b[0m\n",
      "[jovian] Committed successfully! https://jovian.com/wasif1607/numpy-array-operations\u001b[0m\n"
     ]
    },
    {
     "data": {
      "text/plain": [
       "'https://jovian.com/wasif1607/numpy-array-operations'"
      ]
     },
     "execution_count": 3,
     "metadata": {},
     "output_type": "execute_result"
    }
   ],
   "source": [
    "jovian.commit(project='numpy-array-operations')"
   ]
  },
  {
   "cell_type": "markdown",
   "metadata": {},
   "source": [
    "Let's begin by importing Numpy and listing out the functions covered in this notebook."
   ]
  },
  {
   "cell_type": "code",
   "execution_count": 4,
   "metadata": {},
   "outputs": [],
   "source": [
    "import numpy as np"
   ]
  },
  {
   "cell_type": "code",
   "execution_count": null,
   "metadata": {},
   "outputs": [],
   "source": [
    "# List of functions explained \n",
    "function1 = np.tile()\n",
    "function2 = np.intersect1d()\n",
    "function3 = np.ndenumerate()\n",
    "function4 = np.full()\n",
    "function5 = arr.clip()"
   ]
  },
  {
   "cell_type": "markdown",
   "metadata": {},
   "source": [
    "## Function 1 - np.tile\n",
    "\n",
    "The np.tile function in NumPy is used to create a new array by repeating an existing array along specified axes. It allows you to replicate the contents of an array in a specific pattern to create a larger array.\n",
    "\n",
    "The syntax of np.tile is as follows: np.tile(arr, reps)\n",
    "Here, arr represents the input array that you want to tile, and reps specifies the number of repetitions of the input array along each axis.\n",
    "\n",
    "The reps parameter can take different forms based on the desired tiling pattern:\n",
    "\n",
    "If reps is an integer, it specifies the number of repetitions along each axis. For example, if reps = 2, the input array will be repeated twice along each axis.\n",
    "If reps is a tuple of integers, it specifies the number of repetitions for each axis. The length of the tuple should match the number of dimensions of the input array. For example, if reps = (2, 3), the input array will be repeated twice along the first axis and three times along the second axis.\n",
    "If reps is a 1-D array, it specifies the number of repetitions for each axis separately. The length of the 1-D array should match the number of dimensions of the input array. For example, if reps = [2, 3], the input array will be repeated twice along the first axis and three times along the second axis.\n",
    "The returned array will have a shape that is calculated by multiplying the shape of the input array with the corresponding repetition values specified in reps."
   ]
  },
  {
   "cell_type": "code",
   "execution_count": 9,
   "metadata": {},
   "outputs": [
    {
     "name": "stdout",
     "output_type": "stream",
     "text": [
      "[[1 2 1 2 1 2]\n",
      " [3 4 3 4 3 4]\n",
      " [1 2 1 2 1 2]\n",
      " [3 4 3 4 3 4]]\n"
     ]
    }
   ],
   "source": [
    "# Example 1 - The input array arr is repeated twice along the first axis and three times along the second axis using \"np.tile\"\n",
    "arr = np.array([[1, 2], [3, 4]])\n",
    "repeated_arr = np.tile(arr, (2, 3))\n",
    "\n",
    "print(repeated_arr)"
   ]
  },
  {
   "cell_type": "markdown",
   "metadata": {},
   "source": [
    "In this example, the input array arr is repeated twice along the first axis and three times along the second axis using np.tile. The resulting array repeated_arr is a larger array with the repeated pattern."
   ]
  },
  {
   "cell_type": "code",
   "execution_count": 16,
   "metadata": {},
   "outputs": [
    {
     "name": "stdout",
     "output_type": "stream",
     "text": [
      "[1 2 3 1 2 3]\n"
     ]
    }
   ],
   "source": [
    "# Example 2 - using np.tile(arr, 2), we are repeating the array twice along the first axis.\n",
    "arr = np.array([1, 2, 3])\n",
    "repeated_arr = np.tile(arr, 2)\n",
    "\n",
    "print(repeated_arr)"
   ]
  },
  {
   "cell_type": "markdown",
   "metadata": {},
   "source": [
    "In this example, the input array arr is [1, 2, 3]. By using np.tile(arr, 2), we are repeating the array twice along the first axis. The resulting array repeated_arr contains the repeated pattern [1, 2, 3, 1, 2, 3]."
   ]
  },
  {
   "cell_type": "code",
   "execution_count": 23,
   "metadata": {},
   "outputs": [
    {
     "ename": "ValueError",
     "evalue": "negative dimensions are not allowed",
     "output_type": "error",
     "traceback": [
      "\u001b[1;31m---------------------------------------------------------------------------\u001b[0m",
      "\u001b[1;31mValueError\u001b[0m                                Traceback (most recent call last)",
      "Cell \u001b[1;32mIn[23], line 3\u001b[0m\n\u001b[0;32m      1\u001b[0m \u001b[38;5;66;03m# Example 3 - An example where the dimensions of the input array and the repetition values specified in np.tile do not match\u001b[39;00m\n\u001b[0;32m      2\u001b[0m arr \u001b[38;5;241m=\u001b[39m np\u001b[38;5;241m.\u001b[39marray([\u001b[38;5;241m1\u001b[39m, \u001b[38;5;241m2\u001b[39m, \u001b[38;5;241m3\u001b[39m])\n\u001b[1;32m----> 3\u001b[0m repeated_arr \u001b[38;5;241m=\u001b[39m np\u001b[38;5;241m.\u001b[39mtile(arr, (\u001b[38;5;241m2\u001b[39m, \u001b[38;5;241m-\u001b[39m\u001b[38;5;241m1\u001b[39m))\n\u001b[0;32m      5\u001b[0m \u001b[38;5;28mprint\u001b[39m(repeated_arr)\n",
      "File \u001b[1;32mD:\\conda7\\envs\\100-numpy-exercises\\Lib\\site-packages\\numpy\\lib\\shape_base.py:1272\u001b[0m, in \u001b[0;36mtile\u001b[1;34m(A, reps)\u001b[0m\n\u001b[0;32m   1270\u001b[0m     \u001b[38;5;28;01mfor\u001b[39;00m dim_in, nrep \u001b[38;5;129;01min\u001b[39;00m \u001b[38;5;28mzip\u001b[39m(c\u001b[38;5;241m.\u001b[39mshape, tup):\n\u001b[0;32m   1271\u001b[0m         \u001b[38;5;28;01mif\u001b[39;00m nrep \u001b[38;5;241m!=\u001b[39m \u001b[38;5;241m1\u001b[39m:\n\u001b[1;32m-> 1272\u001b[0m             c \u001b[38;5;241m=\u001b[39m c\u001b[38;5;241m.\u001b[39mreshape(\u001b[38;5;241m-\u001b[39m\u001b[38;5;241m1\u001b[39m, n)\u001b[38;5;241m.\u001b[39mrepeat(nrep, \u001b[38;5;241m0\u001b[39m)\n\u001b[0;32m   1273\u001b[0m         n \u001b[38;5;241m/\u001b[39m\u001b[38;5;241m/\u001b[39m\u001b[38;5;241m=\u001b[39m dim_in\n\u001b[0;32m   1274\u001b[0m \u001b[38;5;28;01mreturn\u001b[39;00m c\u001b[38;5;241m.\u001b[39mreshape(shape_out)\n",
      "\u001b[1;31mValueError\u001b[0m: negative dimensions are not allowed"
     ]
    }
   ],
   "source": [
    "# Example 3 - An example where the dimensions of the input array and the repetition values specified in np.tile do not match\n",
    "arr = np.array([1, 2, 3])\n",
    "repeated_arr = np.tile(arr, (2, -1))\n",
    "\n",
    "print(repeated_arr)"
   ]
  },
  {
   "cell_type": "markdown",
   "metadata": {},
   "source": [
    "In this example, we try to repeat the input array arr using np.tile(arr, (2, -1)). However, a negative value of -1 is specified as the repetition value for the second axis. The error message states that \"tile cannot extend dimension 1 by -1\".\n",
    "\n",
    "The repetition value -1 is not valid as it indicates an attempt to extend the size of the array along that axis by an unknown or ambiguous amount. This leads to a ValueError when using np.tile.\n",
    "\n",
    "To use np.tile successfully, ensure that the repetition values in the reps argument are positive integers or zero."
   ]
  },
  {
   "cell_type": "markdown",
   "metadata": {},
   "source": [
    "### When to use \"np.tile\"\n",
    "The np.tile function is useful when you want to create a larger array by repeating a smaller array along one or more axes. It can be particularly handy in various scenarios, including:\n",
    "\n",
    "Pattern creation: You can use np.tile to create a repeating pattern of values. For example, if you have a small array representing a checkerboard pattern, you can tile it to generate a larger checkerboard pattern.\n",
    "\n",
    "Data replication: If you have a smaller dataset that you want to expand or replicate to match the shape of another dataset, np.tile can be used. It allows you to repeat the smaller dataset along the necessary axes to match the desired shape.\n",
    "\n",
    "Image processing: In image processing applications, np.tile can be useful for duplicating or extending image data. For example, you might want to create a larger image by repeating a smaller image along both the horizontal and vertical axes.\n",
    "\n",
    "Mathematical operations: In some mathematical computations, you may need to repeat an array multiple times to match the dimensions of another array for operations like element-wise multiplication or broadcasting."
   ]
  },
  {
   "cell_type": "code",
   "execution_count": 24,
   "metadata": {},
   "outputs": [
    {
     "data": {
      "application/javascript": [
       "window.require && require([\"base/js/namespace\"],function(Jupyter){Jupyter.notebook.save_checkpoint()})"
      ],
      "text/plain": [
       "<IPython.core.display.Javascript object>"
      ]
     },
     "metadata": {},
     "output_type": "display_data"
    },
    {
     "name": "stdout",
     "output_type": "stream",
     "text": [
      "[jovian] Updating notebook \"wasif1607/numpy-array-operations\" on https://jovian.com/\u001b[0m\n",
      "[jovian] Committed successfully! https://jovian.com/wasif1607/numpy-array-operations\u001b[0m\n"
     ]
    },
    {
     "data": {
      "text/plain": [
       "'https://jovian.com/wasif1607/numpy-array-operations'"
      ]
     },
     "execution_count": 24,
     "metadata": {},
     "output_type": "execute_result"
    }
   ],
   "source": [
    "jovian.commit()"
   ]
  },
  {
   "cell_type": "markdown",
   "metadata": {},
   "source": [
    "## Function 2 - np.intersect1d\n",
    "\n",
    "The np.intersect1d function in NumPy is used to find the sorted, unique values that are common to two input arrays. It returns a new array containing the intersection of the input arrays, with duplicate values removed.\n",
    "\n",
    "The syntax of np.intersect1d is as follows: np.intersect1d(ar1, ar2, assume_unique=False, return_indices=False) <br>\n",
    "Here, ar1 and ar2 are the input arrays for which you want to find the intersection. By default, np.intersect1d assumes that the input arrays are not sorted and may contain duplicate values. If you know that the input arrays are already sorted and have unique elements, you can set the assume_unique parameter to True for improved performance.\n",
    "\n",
    "The return_indices parameter, when set to True, returns the indices of the common values in the input arrays.\n",
    "\n",
    "The returned array contains the sorted, unique values that are common to both ar1 and ar2. The order of elements in the output array is sorted in ascending order."
   ]
  },
  {
   "cell_type": "code",
   "execution_count": 25,
   "metadata": {},
   "outputs": [
    {
     "name": "stdout",
     "output_type": "stream",
     "text": [
      "[4 5]\n"
     ]
    }
   ],
   "source": [
    "# Example 1 - Finding the common elements.\n",
    "arr1 = np.array([1, 2, 3, 4, 5])\n",
    "arr2 = np.array([4, 5, 6, 7, 8])\n",
    "intersection = np.intersect1d(arr1, arr2)\n",
    "\n",
    "print(intersection)"
   ]
  },
  {
   "cell_type": "markdown",
   "metadata": {},
   "source": [
    "In this example, arr1 contains the values [1, 2, 3, 4, 5] and arr2 contains the values [4, 5, 6, 7, 8]. By using np.intersect1d(arr1, arr2), we find the common values between the two arrays, which are [4, 5]. The resulting array intersection contains the sorted, unique common values."
   ]
  },
  {
   "cell_type": "code",
   "execution_count": 27,
   "metadata": {},
   "outputs": [
    {
     "name": "stdout",
     "output_type": "stream",
     "text": [
      "[4 5 6]\n"
     ]
    }
   ],
   "source": [
    "# Example 2 - Finding the common elements\n",
    "arr1 = np.array([[1, 2, 3],\n",
    "                 [4, 5, 6]])\n",
    "arr2 = np.array([[4, 5, 6],\n",
    "                 [7, 8, 9]])\n",
    "\n",
    "intersection = np.intersect1d(arr1, arr2)\n",
    "\n",
    "print(intersection)"
   ]
  },
  {
   "cell_type": "markdown",
   "metadata": {},
   "source": [
    "In this example, arr1 is a 2D array with shape (2, 3) and contains the values [[1, 2, 3], [4, 5, 6]]. arr2 is also a 2D array with shape (2, 3) and contains the values [[4, 5, 6], [7, 8, 9]]. By using np.intersect1d(arr1, arr2), we find the common values between the two arrays, which are [4, 5, 6]. The resulting array intersection contains the sorted, unique common values."
   ]
  },
  {
   "cell_type": "code",
   "execution_count": 34,
   "metadata": {},
   "outputs": [
    {
     "ename": "ValueError",
     "evalue": "The truth value of an array with more than one element is ambiguous. Use a.any() or a.all()",
     "output_type": "error",
     "traceback": [
      "\u001b[1;31m---------------------------------------------------------------------------\u001b[0m",
      "\u001b[1;31mValueError\u001b[0m                                Traceback (most recent call last)",
      "Cell \u001b[1;32mIn[34], line 5\u001b[0m\n\u001b[0;32m      3\u001b[0m arr2 \u001b[38;5;241m=\u001b[39m np\u001b[38;5;241m.\u001b[39marray([\u001b[38;5;241m4\u001b[39m, \u001b[38;5;241m5\u001b[39m, \u001b[38;5;241m6\u001b[39m, \u001b[38;5;241m7\u001b[39m, \u001b[38;5;241m8\u001b[39m])\n\u001b[0;32m      4\u001b[0m arr3 \u001b[38;5;241m=\u001b[39m np\u001b[38;5;241m.\u001b[39marray([\u001b[38;5;241m2\u001b[39m, \u001b[38;5;241m4\u001b[39m, \u001b[38;5;241m5\u001b[39m, \u001b[38;5;241m9\u001b[39m])\n\u001b[1;32m----> 5\u001b[0m intersection \u001b[38;5;241m=\u001b[39m np\u001b[38;5;241m.\u001b[39mintersect1d(arr1, arr2, arr3)\n\u001b[0;32m      7\u001b[0m \u001b[38;5;28mprint\u001b[39m(intersection)\n",
      "File \u001b[1;32mD:\\conda7\\envs\\100-numpy-exercises\\Lib\\site-packages\\numpy\\lib\\arraysetops.py:439\u001b[0m, in \u001b[0;36mintersect1d\u001b[1;34m(ar1, ar2, assume_unique, return_indices)\u001b[0m\n\u001b[0;32m    436\u001b[0m ar1 \u001b[38;5;241m=\u001b[39m np\u001b[38;5;241m.\u001b[39masanyarray(ar1)\n\u001b[0;32m    437\u001b[0m ar2 \u001b[38;5;241m=\u001b[39m np\u001b[38;5;241m.\u001b[39masanyarray(ar2)\n\u001b[1;32m--> 439\u001b[0m \u001b[38;5;28;01mif\u001b[39;00m \u001b[38;5;129;01mnot\u001b[39;00m assume_unique:\n\u001b[0;32m    440\u001b[0m     \u001b[38;5;28;01mif\u001b[39;00m return_indices:\n\u001b[0;32m    441\u001b[0m         ar1, ind1 \u001b[38;5;241m=\u001b[39m unique(ar1, return_index\u001b[38;5;241m=\u001b[39m\u001b[38;5;28;01mTrue\u001b[39;00m)\n",
      "\u001b[1;31mValueError\u001b[0m: The truth value of an array with more than one element is ambiguous. Use a.any() or a.all()"
     ]
    }
   ],
   "source": [
    "# Example 3 - breaking\n",
    "arr1 = np.array([1, 2, 3, 4, 5])\n",
    "arr2 = np.array([4, 5, 6, 7, 8])\n",
    "arr3 = np.array([2, 4, 5, 9])\n",
    "intersection = np.intersect1d(arr1, arr2, arr3)\n",
    "\n",
    "print(intersection)"
   ]
  },
  {
   "cell_type": "markdown",
   "metadata": {},
   "source": [
    "The np.intersect1d function does not support multiple array inputs. It can only accept two array inputs."
   ]
  },
  {
   "cell_type": "markdown",
   "metadata": {},
   "source": [
    "### When to use \"np.intersect1d\"\n",
    "The np.intersect1d function in NumPy is useful when you want to find the common elements between two arrays. It can help in various scenarios, including:\n",
    "\n",
    "Set operations: If you are working with sets and want to determine the elements that are present in both sets, you can use np.intersect1d to find the intersection. This can be useful in tasks such as finding common items, deduplicating data, or performing set operations like finding the shared elements between multiple sets.\n",
    "\n",
    "Data analysis: When working with data analysis or data manipulation tasks, you may need to identify the common elements between different datasets or arrays. The np.intersect1d function allows you to quickly find the shared elements, which can be helpful for tasks like merging or filtering datasets based on common keys or identifiers.\n",
    "\n",
    "Quality control: In certain scenarios, you might have multiple arrays or datasets representing different measurements or observations. np.intersect1d can help identify the common elements between these arrays, allowing you to perform quality control checks or verify the consistency of data across multiple sources.\n",
    "\n",
    "Data validation: When validating user inputs or performing data validation checks, you may need to compare user-provided values with a known set of valid values. np.intersect1d can help identify the common elements between the user inputs and the valid value set, allowing you to check for valid inputs efficiently."
   ]
  },
  {
   "cell_type": "code",
   "execution_count": 29,
   "metadata": {},
   "outputs": [
    {
     "data": {
      "application/javascript": [
       "window.require && require([\"base/js/namespace\"],function(Jupyter){Jupyter.notebook.save_checkpoint()})"
      ],
      "text/plain": [
       "<IPython.core.display.Javascript object>"
      ]
     },
     "metadata": {},
     "output_type": "display_data"
    },
    {
     "name": "stdout",
     "output_type": "stream",
     "text": [
      "[jovian] Updating notebook \"wasif1607/numpy-array-operations\" on https://jovian.com/\u001b[0m\n",
      "[jovian] Committed successfully! https://jovian.com/wasif1607/numpy-array-operations\u001b[0m\n"
     ]
    },
    {
     "data": {
      "text/plain": [
       "'https://jovian.com/wasif1607/numpy-array-operations'"
      ]
     },
     "execution_count": 29,
     "metadata": {},
     "output_type": "execute_result"
    }
   ],
   "source": [
    "jovian.commit()"
   ]
  },
  {
   "cell_type": "markdown",
   "metadata": {},
   "source": [
    "## Function 3 - np.ndenumerate\n",
    "\n",
    "The np.ndenumerate() function in NumPy is a convenient way to iterate over elements of a multi-dimensional array, providing both the index and value of each element. It allows you to iterate through the array in a nested loop style while accessing the index and corresponding value at each iteration.\n",
    "\n",
    "The syntax of np.ndenumerate() is as follows: np.ndenumerate(arr) <br>\n",
    "Here, arr is the multi-dimensional array for which you want to enumerate the elements.\n",
    "\n",
    "The np.ndenumerate() function returns an iterator that yields a tuple for each element in the array. The tuple contains the index or indices of the element and its corresponding value. The index is represented as a tuple of integers, with one integer for each dimension of the array."
   ]
  },
  {
   "cell_type": "code",
   "execution_count": 31,
   "metadata": {},
   "outputs": [
    {
     "name": "stdout",
     "output_type": "stream",
     "text": [
      "(0, 0) 1\n",
      "(0, 1) 2\n",
      "(0, 2) 3\n",
      "(1, 0) 4\n",
      "(1, 1) 5\n",
      "(1, 2) 6\n"
     ]
    }
   ],
   "source": [
    "# Example 1 - iterating a 2d array\n",
    "arr = np.array([[1, 2, 3],\n",
    "                [4, 5, 6]])\n",
    "\n",
    "for index, value in np.ndenumerate(arr):\n",
    "    print(index, value)"
   ]
  },
  {
   "cell_type": "markdown",
   "metadata": {},
   "source": [
    "In this example, arr is a 2D array with shape (2, 3). By using np.ndenumerate(arr), we iterate over each element in the array. The for loop assigns the index and value variables to the index and value of each element, respectively. We then print the index and value inside the loop.\n",
    "\n",
    "The output shows each index-value pair, where the index is represented as a tuple and the corresponding value is displayed next to it. In this case, the output shows the indices (0, 0), (0, 1), (0, 2), (1, 0), (1, 1), and (1, 2) along with their corresponding values 1, 2, 3, 4, 5, and 6."
   ]
  },
  {
   "cell_type": "code",
   "execution_count": 33,
   "metadata": {},
   "outputs": [
    {
     "name": "stdout",
     "output_type": "stream",
     "text": [
      "Index (0, 0, 0): Value 1\n",
      "Index (0, 0, 1): Value 2\n",
      "Index (0, 1, 0): Value 3\n",
      "Index (0, 1, 1): Value 4\n",
      "Index (1, 0, 0): Value 5\n",
      "Index (1, 0, 1): Value 6\n",
      "Index (1, 1, 0): Value 7\n",
      "Index (1, 1, 1): Value 8\n"
     ]
    }
   ],
   "source": [
    "# Example 2 - iterating a 3d array\n",
    "arr = np.array([[[1, 2],\n",
    "                 [3, 4]],\n",
    "                [[5, 6],\n",
    "                 [7, 8]]])\n",
    "\n",
    "for index, value in np.ndenumerate(arr):\n",
    "    print(f\"Index {index}: Value {value}\")"
   ]
  },
  {
   "cell_type": "markdown",
   "metadata": {},
   "source": [
    "In this example, arr is a 3D array with shape (2, 2, 2). By using np.ndenumerate(arr), we iterate over each element in the array. The for loop assigns the index variable to the index of each element, represented as a tuple, and the value variable to the corresponding value.\n",
    "\n",
    "The output displays each index-value pair using formatted strings. The indices are shown as tuples (0, 0, 0), (0, 0, 1), (0, 1, 0), (0, 1, 1), (1, 0, 0), (1, 0, 1), (1, 1, 0), and (1, 1, 1), and their corresponding values are displayed next to them (1, 2, 3, 4, 5, 6, 7, 8)."
   ]
  },
  {
   "cell_type": "code",
   "execution_count": 39,
   "metadata": {},
   "outputs": [
    {
     "ename": "ValueError",
     "evalue": "too many values to unpack (expected 2)",
     "output_type": "error",
     "traceback": [
      "\u001b[1;31m---------------------------------------------------------------------------\u001b[0m",
      "\u001b[1;31mValueError\u001b[0m                                Traceback (most recent call last)",
      "Cell \u001b[1;32mIn[39], line 4\u001b[0m\n\u001b[0;32m      1\u001b[0m \u001b[38;5;66;03m# Example 3 - breaking\u001b[39;00m\n\u001b[0;32m      3\u001b[0m arr \u001b[38;5;241m=\u001b[39m np\u001b[38;5;241m.\u001b[39marray([[\u001b[38;5;241m1\u001b[39m, \u001b[38;5;241m2\u001b[39m], [\u001b[38;5;241m3\u001b[39m, \u001b[38;5;241m4\u001b[39m]])\n\u001b[1;32m----> 4\u001b[0m value, index \u001b[38;5;241m=\u001b[39m np\u001b[38;5;241m.\u001b[39mndenumerate(arr)\n",
      "\u001b[1;31mValueError\u001b[0m: too many values to unpack (expected 2)"
     ]
    }
   ],
   "source": [
    "# Example 3 - breaking\n",
    "\n",
    "arr = np.array([[1, 2], [3, 4]])\n",
    "value, index = np.ndenumerate(arr)"
   ]
  },
  {
   "cell_type": "markdown",
   "metadata": {},
   "source": [
    "In this example, instead of using a loop to iterate over np.ndenumerate(), we're attempting to assign its result directly to value and index. This will raise a ValueError with the message \"too many values to unpack (expected 2)\"."
   ]
  },
  {
   "cell_type": "markdown",
   "metadata": {},
   "source": [
    "### When to use \"np.ndenumerate\"\n",
    "The np.ndenumerate() function is useful when you need to iterate over an array while simultaneously accessing both the indices and values of its elements. It provides a convenient way to traverse multidimensional arrays and perform operations based on their indices and values.\n",
    "\n",
    "Here are some situations where np.ndenumerate() can be particularly useful:\n",
    "\n",
    "Array Manipulation: When you need to modify or update specific elements of an array based on their indices or values, np.ndenumerate() allows you to iterate over the array and perform the desired operations at each element.\n",
    "\n",
    "Data Processing: In data processing tasks, you may need to apply operations to elements in an array based on their positions. np.ndenumerate() enables you to iterate over the array, access the indices and values, and process the data accordingly.\n",
    "\n",
    "Conditional Operations: When you want to perform conditional operations on elements in an array based on specific criteria, np.ndenumerate() helps you examine each element along with its corresponding indices. This allows you to apply conditional logic and perform specific actions based on the indices or values.\n",
    "\n",
    "Generating Reports or Summaries: If you need to generate reports or summaries that include information about the indices and values of elements in an array, np.ndenumerate() allows you to iterate over the array and collect relevant information for the report or summary."
   ]
  },
  {
   "cell_type": "code",
   "execution_count": 40,
   "metadata": {},
   "outputs": [
    {
     "data": {
      "application/javascript": [
       "window.require && require([\"base/js/namespace\"],function(Jupyter){Jupyter.notebook.save_checkpoint()})"
      ],
      "text/plain": [
       "<IPython.core.display.Javascript object>"
      ]
     },
     "metadata": {},
     "output_type": "display_data"
    },
    {
     "name": "stdout",
     "output_type": "stream",
     "text": [
      "[jovian] Updating notebook \"wasif1607/numpy-array-operations\" on https://jovian.com/\u001b[0m\n",
      "[jovian] Committed successfully! https://jovian.com/wasif1607/numpy-array-operations\u001b[0m\n"
     ]
    },
    {
     "data": {
      "text/plain": [
       "'https://jovian.com/wasif1607/numpy-array-operations'"
      ]
     },
     "execution_count": 40,
     "metadata": {},
     "output_type": "execute_result"
    }
   ],
   "source": [
    "jovian.commit()"
   ]
  },
  {
   "cell_type": "markdown",
   "metadata": {},
   "source": [
    "## Function 4 - np.full\n",
    "\n",
    "The np.full() function in NumPy is used to create an array filled with a specified value, repeated across a specified shape.\n",
    "\n",
    "The general syntax of np.full() is as follows: np.full(shape, fill_value, dtype=None, order='C') <br>\n",
    "Here's a breakdown of the parameters:\n",
    "\n",
    "shape: The shape of the output array, specified as a tuple of integers. This parameter defines the dimensions of the array you want to create.\n",
    "fill_value: The value that will be repeated across the array. It can be a scalar value, a list, or an array-like object.\n",
    "dtype (optional): The desired data type of the array. If not provided, NumPy will infer the data type based on the fill_value.\n",
    "order (optional): Specifies the memory layout of the array. It can be either 'C' for row-major (C-style) or 'F' for column-major (Fortran-style). By default, it is set to 'C'."
   ]
  },
  {
   "cell_type": "code",
   "execution_count": 42,
   "metadata": {},
   "outputs": [
    {
     "name": "stdout",
     "output_type": "stream",
     "text": [
      "[[5 5 5]\n",
      " [5 5 5]]\n"
     ]
    }
   ],
   "source": [
    "# Example 1 - Create a 2x3 array filled with the value 5\n",
    "arr = np.full((2, 3), 5)\n",
    "\n",
    "print(arr)"
   ]
  },
  {
   "cell_type": "markdown",
   "metadata": {},
   "source": [
    "In this example, np.full() is used to create a 2x3 array filled with the value 5. The shape (2, 3) specifies that the array should have 2 rows and 3 columns. The resulting array arr is then printed, displaying the repeated fill value of 5 across all elements."
   ]
  },
  {
   "cell_type": "code",
   "execution_count": 43,
   "metadata": {},
   "outputs": [
    {
     "name": "stdout",
     "output_type": "stream",
     "text": [
      "[['Hello' 'Hello']\n",
      " ['Hello' 'Hello']\n",
      " ['Hello' 'Hello']]\n"
     ]
    }
   ],
   "source": [
    "# Example 2 - Create a 3x2 array filled with the value 'Hello'\n",
    "arr = np.full((3, 2), 'Hello')\n",
    "\n",
    "print(arr)"
   ]
  },
  {
   "cell_type": "markdown",
   "metadata": {},
   "source": [
    "In this example, np.full() is used to create a 3x2 array filled with the string value 'Hello'. The shape (3, 2) specifies that the array should have 3 rows and 2 columns. The resulting array arr is then printed, displaying the repeated fill value of 'Hello' across all elements."
   ]
  },
  {
   "cell_type": "code",
   "execution_count": 45,
   "metadata": {},
   "outputs": [
    {
     "ename": "ValueError",
     "evalue": "negative dimensions are not allowed",
     "output_type": "error",
     "traceback": [
      "\u001b[1;31m---------------------------------------------------------------------------\u001b[0m",
      "\u001b[1;31mValueError\u001b[0m                                Traceback (most recent call last)",
      "Cell \u001b[1;32mIn[45], line 2\u001b[0m\n\u001b[0;32m      1\u001b[0m \u001b[38;5;66;03m# Example 3 - breaking\u001b[39;00m\n\u001b[1;32m----> 2\u001b[0m arr \u001b[38;5;241m=\u001b[39m np\u001b[38;5;241m.\u001b[39mfull((\u001b[38;5;241m3\u001b[39m, \u001b[38;5;241m-\u001b[39m\u001b[38;5;241m2\u001b[39m), \u001b[38;5;241m5\u001b[39m)\n",
      "File \u001b[1;32mD:\\conda7\\envs\\100-numpy-exercises\\Lib\\site-packages\\numpy\\core\\numeric.py:329\u001b[0m, in \u001b[0;36mfull\u001b[1;34m(shape, fill_value, dtype, order, like)\u001b[0m\n\u001b[0;32m    327\u001b[0m     fill_value \u001b[38;5;241m=\u001b[39m asarray(fill_value)\n\u001b[0;32m    328\u001b[0m     dtype \u001b[38;5;241m=\u001b[39m fill_value\u001b[38;5;241m.\u001b[39mdtype\n\u001b[1;32m--> 329\u001b[0m a \u001b[38;5;241m=\u001b[39m empty(shape, dtype, order)\n\u001b[0;32m    330\u001b[0m multiarray\u001b[38;5;241m.\u001b[39mcopyto(a, fill_value, casting\u001b[38;5;241m=\u001b[39m\u001b[38;5;124m'\u001b[39m\u001b[38;5;124munsafe\u001b[39m\u001b[38;5;124m'\u001b[39m)\n\u001b[0;32m    331\u001b[0m \u001b[38;5;28;01mreturn\u001b[39;00m a\n",
      "\u001b[1;31mValueError\u001b[0m: negative dimensions are not allowed"
     ]
    }
   ],
   "source": [
    "# Example 3 - breaking\n",
    "arr = np.full((3, -2), 5)"
   ]
  },
  {
   "cell_type": "markdown",
   "metadata": {},
   "source": [
    "In this example, we try to create an array using np.full() with a shape of (3, -2), where the second dimension is specified as -2. However, this results in a ValueError with the message \"negative dimensions are not allowed\".\n",
    "\n",
    "The error occurs because the dimensions provided to np.full() should be positive integers or zero, representing the size of each dimension in the resulting array. Negative dimensions are not allowed because they don't have a meaningful interpretation in the context of array shapes.\n",
    "\n",
    "To fix this error, ensure that the dimensions provided to np.full() are valid positive integers or zeros."
   ]
  },
  {
   "cell_type": "markdown",
   "metadata": {},
   "source": [
    "### When to use \"np.full\"\n",
    "The np.full() function in NumPy is particularly useful in the following scenarios:\n",
    "\n",
    "Initialization: When you need to create an array of a specific shape and initialize all its elements with a constant value, np.full() comes in handy. It allows you to easily generate an array with a specified shape and fill all its elements with the desired value.\n",
    "\n",
    "Placeholder Arrays: In some cases, you may need to create an array as a placeholder to hold data or as a template for further computations. np.full() enables you to create such arrays with a consistent fill value, ensuring all elements have the same initial value until you update them with the desired data or computations.\n",
    "\n",
    "Simulation or Testing: When conducting simulations or testing algorithms, it can be useful to create test data with a known and constant value. np.full() enables you to generate arrays of any shape filled with a specific value, allowing you to control the initial conditions of your simulation or test environment.\n",
    "\n",
    "Broadcasting: NumPy's broadcasting rules allow for performing element-wise operations between arrays of different shapes. np.full() can be used to create an array of the desired shape, which can then be combined with other arrays using broadcasting to perform element-wise operations efficiently."
   ]
  },
  {
   "cell_type": "code",
   "execution_count": 46,
   "metadata": {},
   "outputs": [
    {
     "data": {
      "application/javascript": [
       "window.require && require([\"base/js/namespace\"],function(Jupyter){Jupyter.notebook.save_checkpoint()})"
      ],
      "text/plain": [
       "<IPython.core.display.Javascript object>"
      ]
     },
     "metadata": {},
     "output_type": "display_data"
    },
    {
     "name": "stdout",
     "output_type": "stream",
     "text": [
      "[jovian] Updating notebook \"wasif1607/numpy-array-operations\" on https://jovian.com/\u001b[0m\n",
      "[jovian] Committed successfully! https://jovian.com/wasif1607/numpy-array-operations\u001b[0m\n"
     ]
    },
    {
     "data": {
      "text/plain": [
       "'https://jovian.com/wasif1607/numpy-array-operations'"
      ]
     },
     "execution_count": 46,
     "metadata": {},
     "output_type": "execute_result"
    }
   ],
   "source": [
    "jovian.commit()"
   ]
  },
  {
   "cell_type": "markdown",
   "metadata": {},
   "source": [
    "## Function 5 - arr.clip\n",
    "The arr.clip() function in NumPy is used to limit or \"clip\" the values of an array within a specified range. It allows you to set a lower and upper bound for the values in the array and modify any elements that fall outside this range.\n",
    "\n",
    "The general syntax of arr.clip() is as follows: arr.clip(a_min, a_max, out=None) <br>\n",
    "Here's a breakdown of the parameters:\n",
    "\n",
    "a_min: The lower bound of the range. Any value in the array that is smaller than a_min will be replaced with a_min. <br>\n",
    "a_max: The upper bound of the range. Any value in the array that is greater than a_max will be replaced with a_max. <br>\n",
    "out (optional): An alternative output array where the clipped values will be stored. If not provided, a new array is created."
   ]
  },
  {
   "cell_type": "code",
   "execution_count": 47,
   "metadata": {},
   "outputs": [
    {
     "name": "stdout",
     "output_type": "stream",
     "text": [
      "[ 5  5 10 15 15]\n"
     ]
    }
   ],
   "source": [
    "# Example 1 - working\n",
    "arr = np.array([1, 5, 10, 15, 20])\n",
    "clipped_arr = arr.clip(5, 15)\n",
    "\n",
    "print(clipped_arr)"
   ]
  },
  {
   "cell_type": "markdown",
   "metadata": {},
   "source": [
    "In this example, arr.clip(5, 15) is used to clip the values of the arr array between 5 and 15. The resulting array clipped_arr contains the clipped values, where any values smaller than 5 are replaced with 5, and any values greater than 15 are replaced with 15."
   ]
  },
  {
   "cell_type": "code",
   "execution_count": 48,
   "metadata": {},
   "outputs": [
    {
     "name": "stdout",
     "output_type": "stream",
     "text": [
      "[ 0  0  5 10 10 10]\n"
     ]
    }
   ],
   "source": [
    "# Example 2 - working\n",
    "arr = np.array([-2, 0, 5, 10, 15, 20])\n",
    "clipped_arr = arr.clip(0, 10)\n",
    "\n",
    "print(clipped_arr)"
   ]
  },
  {
   "cell_type": "markdown",
   "metadata": {},
   "source": [
    "In this example, the arr.clip(0, 10) function is used to clip the values of the arr array between 0 and 10. The resulting array clipped_arr contains the clipped values, where any values smaller than 0 are replaced with 0, and any values greater than 10 are replaced with 10.\n",
    "\n",
    "This example showcases the flexibility of arr.clip(), allowing you to set different lower and upper bounds to clip the values based on specific requirements. In this case, any negative values in the array are set to 0, and any values exceeding 10 are set to 10."
   ]
  },
  {
   "cell_type": "code",
   "execution_count": 51,
   "metadata": {},
   "outputs": [
    {
     "ename": "UFuncTypeError",
     "evalue": "ufunc 'clip' did not contain a loop with signature matching types (dtype('int32'), dtype('<U1'), dtype('<U1')) -> None",
     "output_type": "error",
     "traceback": [
      "\u001b[1;31m---------------------------------------------------------------------------\u001b[0m",
      "\u001b[1;31mUFuncTypeError\u001b[0m                            Traceback (most recent call last)",
      "Cell \u001b[1;32mIn[51], line 3\u001b[0m\n\u001b[0;32m      1\u001b[0m \u001b[38;5;66;03m# Example 3 - breaking\u001b[39;00m\n\u001b[0;32m      2\u001b[0m arr \u001b[38;5;241m=\u001b[39m np\u001b[38;5;241m.\u001b[39marray([\u001b[38;5;241m1\u001b[39m, \u001b[38;5;241m2\u001b[39m, \u001b[38;5;241m3\u001b[39m, \u001b[38;5;241m4\u001b[39m, \u001b[38;5;241m5\u001b[39m])\n\u001b[1;32m----> 3\u001b[0m clipped_arr \u001b[38;5;241m=\u001b[39m arr\u001b[38;5;241m.\u001b[39mclip(\u001b[38;5;124m'\u001b[39m\u001b[38;5;124ma\u001b[39m\u001b[38;5;124m'\u001b[39m, \u001b[38;5;124m'\u001b[39m\u001b[38;5;124mb\u001b[39m\u001b[38;5;124m'\u001b[39m)\n\u001b[0;32m      5\u001b[0m \u001b[38;5;28mprint\u001b[39m(clipped_arr)\n",
      "File \u001b[1;32mD:\\conda7\\envs\\100-numpy-exercises\\Lib\\site-packages\\numpy\\core\\_methods.py:99\u001b[0m, in \u001b[0;36m_clip\u001b[1;34m(a, min, max, out, **kwargs)\u001b[0m\n\u001b[0;32m     97\u001b[0m     \u001b[38;5;28;01mreturn\u001b[39;00m um\u001b[38;5;241m.\u001b[39mmaximum(a, \u001b[38;5;28mmin\u001b[39m, out\u001b[38;5;241m=\u001b[39mout, \u001b[38;5;241m*\u001b[39m\u001b[38;5;241m*\u001b[39mkwargs)\n\u001b[0;32m     98\u001b[0m \u001b[38;5;28;01melse\u001b[39;00m:\n\u001b[1;32m---> 99\u001b[0m     \u001b[38;5;28;01mreturn\u001b[39;00m um\u001b[38;5;241m.\u001b[39mclip(a, \u001b[38;5;28mmin\u001b[39m, \u001b[38;5;28mmax\u001b[39m, out\u001b[38;5;241m=\u001b[39mout, \u001b[38;5;241m*\u001b[39m\u001b[38;5;241m*\u001b[39mkwargs)\n",
      "\u001b[1;31mUFuncTypeError\u001b[0m: ufunc 'clip' did not contain a loop with signature matching types (dtype('int32'), dtype('<U1'), dtype('<U1')) -> None"
     ]
    }
   ],
   "source": [
    "# Example 3 - breaking\n",
    "arr = np.array([1, 2, 3, 4, 5])\n",
    "clipped_arr = arr.clip('a', 'b')\n",
    "\n",
    "print(clipped_arr)"
   ]
  },
  {
   "cell_type": "markdown",
   "metadata": {},
   "source": [
    "In this example, we attempt to clip the values of the arr array using arr.clip('a', 'b'), where the lower bound 'a' and upper bound 'b' are specified as string values. This results in a UFuncTypeError with the message \"ufunc 'clip' did not contain a loop with signature matching types (dtype('int32'), dtype('<U1'), dtype('<U1'))\".\n",
    "\n",
    "The error occurs because the arr.clip() function expects the lower and upper bounds to be of a compatible data type with the array. In this case, the array arr is of type int32, but the provided string values 'a' and 'b' are not compatible with this data type.\n",
    "\n",
    "To fix this error, ensure that the lower and upper bounds provided to arr.clip() are of a compatible data type with the array, such as integers."
   ]
  },
  {
   "cell_type": "markdown",
   "metadata": {},
   "source": [
    "### When to use \"arr.clip\"\n",
    "The arr.clip() function is particularly useful in scenarios where you want to enforce constraints on the values of an array. Some common use cases include:\n",
    "\n",
    "Limiting Values: When you want to restrict the values of an array to a specific range, such as ensuring that all values are within a certain minimum and maximum threshold.\n",
    "\n",
    "Data Cleaning: In data processing tasks, you may encounter outliers or invalid values that need to be handled. arr.clip() allows you to replace these outliers or invalid values with more appropriate values within a desired range.\n",
    "\n",
    "Data Normalization: In data analysis or machine learning tasks, it's common to normalize data to a specific range. arr.clip() can be used to ensure that the values of an array stay within the desired normalized range.\n",
    "\n",
    "Image Processing: When working with images represented as arrays, you may need to adjust pixel intensities to enhance certain features or maintain a specific brightness or contrast range. arr.clip() can help limit pixel values to achieve the desired effect."
   ]
  },
  {
   "cell_type": "code",
   "execution_count": 52,
   "metadata": {},
   "outputs": [
    {
     "data": {
      "application/javascript": [
       "window.require && require([\"base/js/namespace\"],function(Jupyter){Jupyter.notebook.save_checkpoint()})"
      ],
      "text/plain": [
       "<IPython.core.display.Javascript object>"
      ]
     },
     "metadata": {},
     "output_type": "display_data"
    },
    {
     "name": "stdout",
     "output_type": "stream",
     "text": [
      "[jovian] Updating notebook \"wasif1607/numpy-array-operations\" on https://jovian.com/\u001b[0m\n",
      "[jovian] Committed successfully! https://jovian.com/wasif1607/numpy-array-operations\u001b[0m\n"
     ]
    },
    {
     "data": {
      "text/plain": [
       "'https://jovian.com/wasif1607/numpy-array-operations'"
      ]
     },
     "execution_count": 52,
     "metadata": {},
     "output_type": "execute_result"
    }
   ],
   "source": [
    "jovian.commit()"
   ]
  },
  {
   "cell_type": "markdown",
   "metadata": {},
   "source": [
    "## Conclusion\n",
    "\n",
    "Here's a simple summary of the examples we discussed for the numpy functions:\n",
    "\n",
    "* np.tile(): Replicates an array along specified axes, allowing you to create arrays with repeated patterns. It is useful for tasks like tiling images or creating repeated structures.\n",
    "\n",
    "* np.intersect1d(): Finds the common elements between two arrays, returning a new array with the unique common elements. It is handy for tasks like finding common values in datasets or comparing two sets of data.\n",
    "\n",
    "* np.ndenumerate(): Iterates over an array, providing the index and corresponding value of each element. It is useful for tasks that require element-wise processing, such as applying operations based on the index or extracting specific information from the array.\n",
    "\n",
    "* np.full(): Creates an array of a specified shape, filled with a constant value. It is helpful for initializing arrays with a specific shape and predefined values, such as generating placeholder arrays or setting up initial conditions.\n",
    "\n",
    "* arr.clip(): Restricts the values of an array within a specified range. It allows you to set lower and upper bounds for the values, modifying any elements that fall outside this range. It is commonly used for tasks like limiting values, data cleaning, or data normalization.\n",
    "\n",
    "Overall, these numpy functions provide various capabilities for array manipulation, element-wise operations, and data processing, enabling efficient and convenient array handling in scientific computing and data analysis tasks."
   ]
  },
  {
   "cell_type": "markdown",
   "metadata": {},
   "source": [
    "## Reference Links\n",
    "Provide links to your references and other interesting articles about Numpy arrays:\n",
    "* Numpy official tutorial : https://numpy.org/doc/stable/user/quickstart.html\n",
    "* 50-numpy-functions you really needed for data science : https://levelup.gitconnected.com/50-numpy-functions-you-really-needed-for-data-science-fa09e8eb0cf0"
   ]
  },
  {
   "cell_type": "code",
   "execution_count": null,
   "metadata": {},
   "outputs": [
    {
     "data": {
      "application/javascript": [
       "window.require && require([\"base/js/namespace\"],function(Jupyter){Jupyter.notebook.save_checkpoint()})"
      ],
      "text/plain": [
       "<IPython.core.display.Javascript object>"
      ]
     },
     "metadata": {},
     "output_type": "display_data"
    }
   ],
   "source": [
    "jovian.commit()"
   ]
  },
  {
   "cell_type": "code",
   "execution_count": null,
   "metadata": {},
   "outputs": [],
   "source": []
  }
 ],
 "metadata": {
  "kernelspec": {
   "display_name": "Python 3 (ipykernel)",
   "language": "python",
   "name": "python3"
  },
  "language_info": {
   "codemirror_mode": {
    "name": "ipython",
    "version": 3
   },
   "file_extension": ".py",
   "mimetype": "text/x-python",
   "name": "python",
   "nbconvert_exporter": "python",
   "pygments_lexer": "ipython3",
   "version": "3.11.3"
  }
 },
 "nbformat": 4,
 "nbformat_minor": 4
}
